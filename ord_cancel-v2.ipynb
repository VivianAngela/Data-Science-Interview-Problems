{
 "cells": [
  {
   "cell_type": "code",
   "execution_count": 2,
   "metadata": {
    "collapsed": true
   },
   "outputs": [],
   "source": [
    "# -*- coding:utf8 -*-\n",
    "import json\n",
    "import pandas as pd\n",
    "from __future__ import division\n",
    "import numpy as np\n",
    "import matplotlib.pyplot as plt\n",
    "import time\n",
    "from datetime import date, timedelta as td\n",
    "import random\n",
    "import math\n",
    "%matplotlib inline\n",
    "\n",
    "import warnings\n",
    "warnings.filterwarnings('ignore')\n",
    "\n",
    "from sklearn.preprocessing import LabelEncoder"
   ]
  },
  {
   "cell_type": "markdown",
   "metadata": {},
   "source": [
    "# Data cleaning:"
   ]
  },
  {
   "cell_type": "code",
   "execution_count": 3,
   "metadata": {
    "collapsed": false,
    "scrolled": true
   },
   "outputs": [
    {
     "name": "stdout",
     "output_type": "stream",
     "text": [
      "0.0507702546703\n"
     ]
    }
   ],
   "source": [
    "# 读取前10万行\n",
    "start = time.clock()\n",
    "path = 'C:/Users/maxiaocheng/Downloads/'\n",
    "data = pd.read_csv(path+'order_cancel.csv', nrows = 10*10**4 + 1, names = xrange(140))\n",
    "data.columns = data.iloc[0]\n",
    "data.drop(data.index[0],inplace=True)\n",
    "data.drop(['parent_sale_ord_id','user_reg_addr','client_vert',\n",
    "           'valid_flag','store_id','delv_station_id','carry_bill_id'],\n",
    "          axis=1,inplace=True)\n",
    "print (time.clock() - start)/60"
   ]
  },
  {
   "cell_type": "markdown",
   "metadata": {},
   "source": [
    "特征类型:  \n",
    "1.flag, num, id, cd, amount：先转换为数值型.  \n",
    "$\\qquad$cd类即categorical variable, 一般有两种情况:   \n",
    "$\\qquad$$\\qquad$1) 像reg_user_type_cd这种有层级关系的，直接0,1,2..这样编码  \n",
    "$\\qquad$$\\qquad$2) 像client这种，('android','apple',...)，没有层级关系，采用one-hot encoding  \n",
    "2.一列的值一样：删除  \n",
    "3.带'cancel'的：删除  \n",
    "4.'tm'类:两两间计算时间差  \n",
    "5.带'addr','name',一列全为空:删除"
   ]
  },
  {
   "cell_type": "code",
   "execution_count": 4,
   "metadata": {
    "collapsed": false
   },
   "outputs": [
    {
     "name": "stdout",
     "output_type": "stream",
     "text": [
      "1: 0.858799885742, 0.0995878560353\n",
      "2: 0.76393442623, 0.227322404372\n",
      "3: 0.611111111111, 0.388888888889\n",
      "21: 1.0, 0.0\n",
      "4: 0.583333333333, 0.416666666667\n",
      "5: 1.0, 0.0\n"
     ]
    }
   ],
   "source": [
    "# 用户订单数\n",
    "ord_cnt = data.groupby('user_id')['sale_ord_id'].size().reset_index().rename(columns = {0:'buy_count'})\n",
    "data = pd.merge(data, ord_cnt, on = 'user_id', how= 'left')\n",
    "uni_count = ord_cnt.buy_count.unique()\n",
    "for cnt in uni_count:\n",
    "    temp_trash = data[data.buy_count == cnt]\n",
    "    zero_portion = len(temp_trash[temp_trash['cancel_flag'] == 0]) / len(temp_trash)\n",
    "    one_portion = len(temp_trash[temp_trash['cancel_flag'] == 1]) / len(temp_trash)\n",
    "    print '{}: {}, {}'.format(cnt, zero_portion, one_portion)"
   ]
  },
  {
   "cell_type": "code",
   "execution_count": 5,
   "metadata": {
    "collapsed": false,
    "scrolled": true
   },
   "outputs": [
    {
     "name": "stdout",
     "output_type": "stream",
     "text": [
      "sale_ord_id: 1.0\n",
      "user_id: 0.9898\n",
      "user_log_acct: 0.98894\n",
      "user_reg_tm: 0.98748\n",
      "ord_tm: 0.53479\n",
      "pay_tm: 0.44215\n",
      "ord_proc_tm: 0.53479\n",
      "out_wh_tm: 0.21717\n",
      "check_account_tm: 0.45014\n",
      "place_ord_ip: 0.85399\n",
      "last_update_tm: 0.51675\n"
     ]
    }
   ],
   "source": [
    "for col in data.columns:\n",
    "    portion = len(data[col].unique()) / len(data)\n",
    "    if portion >= 0.2:\n",
    "        print '{}: {}'.format(col, portion)"
   ]
  },
  {
   "cell_type": "code",
   "execution_count": 6,
   "metadata": {
    "collapsed": false
   },
   "outputs": [],
   "source": [
    "# # Need Label\n",
    "# need_label = ['carry_bill_id','place_ord_ip','src_desc','client']\n",
    "# for col1 in need_label:\n",
    "#     #data.drop(col1,axis=1,inplace=True)"
   ]
  },
  {
   "cell_type": "code",
   "execution_count": 7,
   "metadata": {
    "collapsed": false
   },
   "outputs": [],
   "source": [
    "# reg_user_type_cd\n",
    "data.reg_user_type_cd[data.reg_user_type_cd == 'Z'] = -1\n",
    "data.reg_user_type_cd = pd.to_numeric(data.reg_user_type_cd)\n",
    "\n",
    "# vat_invoice_flag\n",
    "le = LabelEncoder()\n",
    "le.fit(data.vat_invoice_flag)\n",
    "data.vat_invoice_flag = le.transform(data.vat_invoice_flag)"
   ]
  },
  {
   "cell_type": "code",
   "execution_count": 8,
   "metadata": {
    "collapsed": true
   },
   "outputs": [],
   "source": [
    "ord_col = filter(lambda x: 'ord' in x, data.columns)"
   ]
  },
  {
   "cell_type": "code",
   "execution_count": 9,
   "metadata": {
    "collapsed": false
   },
   "outputs": [
    {
     "data": {
      "text/plain": [
       "['pay_tm',\n",
       " 'ord_proc_tm',\n",
       " 'ord_cancel_tm',\n",
       " 'print_tm',\n",
       " 'sorting_tm',\n",
       " 'package_tm',\n",
       " 'out_wh_tm',\n",
       " 'ship_sorting_tm',\n",
       " 'check_account_tm',\n",
       " 'ord_complete_tm',\n",
       " 'last_update_tm',\n",
       " 'sorting_center_pop_rev_tm']"
      ]
     },
     "execution_count": 9,
     "metadata": {},
     "output_type": "execute_result"
    }
   ],
   "source": [
    "tm_col = []\n",
    "for col in data.columns:\n",
    "    if '_tm' in col and col != 'user_reg_tm' and col != 'ord_tm':\n",
    "        tm_col.append(col)\n",
    "tm_col"
   ]
  },
  {
   "cell_type": "code",
   "execution_count": 10,
   "metadata": {
    "collapsed": false
   },
   "outputs": [],
   "source": [
    "for col1 in tm_col:\n",
    "    data[col1] = pd.to_datetime(data[col1],errors='coerce')"
   ]
  },
  {
   "cell_type": "code",
   "execution_count": 11,
   "metadata": {
    "collapsed": false
   },
   "outputs": [
    {
     "data": {
      "text/plain": [
       "0    2009-11-11 00:41:23\n",
       "1    2015-11-24 16:13:58\n",
       "2    2017-03-08 12:32:19\n",
       "3    2015-05-14 05:47:07\n",
       "4    2017-04-22 21:33:43\n",
       "Name: user_reg_tm, dtype: object"
      ]
     },
     "execution_count": 11,
     "metadata": {},
     "output_type": "execute_result"
    }
   ],
   "source": [
    "data['user_reg_tm'].head()"
   ]
  },
  {
   "cell_type": "code",
   "execution_count": 12,
   "metadata": {
    "collapsed": false
   },
   "outputs": [],
   "source": [
    "def print_obj_col():\n",
    "    for col in data.columns:\n",
    "        if data[col].dtype == 'O':\n",
    "            print col"
   ]
  },
  {
   "cell_type": "code",
   "execution_count": 13,
   "metadata": {
    "collapsed": false
   },
   "outputs": [],
   "source": [
    "#两两计算时间差\n",
    "def trans2min(v):\n",
    "    if pd.notnull(v):\n",
    "        return v.days * 24 *60 + v.seconds / 3600\n",
    "    \n",
    "new_cols = []\n",
    "for i in xrange(len(tm_col)-1):\n",
    "    if 'ord' in tm_col:\n",
    "        continue\n",
    "    for j in xrange(i+1,len(tm_col)):\n",
    "        new_col_name = '{}-{}_diff'.format(tm_col[i], tm_col[j])\n",
    "        data[new_col_name] = data[tm_col[i]] - data[tm_col[j]]\n",
    "        data[new_col_name] = data[new_col_name].map(trans2min)\n",
    "        new_cols.append(new_col_name)"
   ]
  },
  {
   "cell_type": "code",
   "execution_count": 14,
   "metadata": {
    "collapsed": true
   },
   "outputs": [],
   "source": [
    "# name_col\n",
    "name_col = filter(lambda x: '_name' in x, data.columns)\n",
    "data.drop(name_col,axis=1,inplace=True)"
   ]
  },
  {
   "cell_type": "code",
   "execution_count": 15,
   "metadata": {
    "collapsed": true
   },
   "outputs": [],
   "source": [
    "# amount col\n",
    "amount_col = filter(lambda x: 'amount' in x, data.columns)\n",
    "for col1 in amount_col:\n",
    "    data[col1] = pd.to_numeric(data[col1])"
   ]
  },
  {
   "cell_type": "code",
   "execution_count": 16,
   "metadata": {
    "collapsed": false
   },
   "outputs": [
    {
     "name": "stdout",
     "output_type": "stream",
     "text": [
      "school_agent_acct_num\n",
      "pay_instalments_fee\n",
      "pay_instalments_periods\n",
      "pay_instalments_rate\n",
      "pay_instalments_ord_id\n",
      "sorting_tm\n",
      "rev_addr\n",
      "cnee_fixed_tel\n",
      "cnee_mobile_num\n",
      "cnee_mail_addr\n",
      "corp\n",
      "user_point\n",
      "chan_client_type_cd\n",
      "pay_tm-sorting_tm_diff\n",
      "ord_proc_tm-sorting_tm_diff\n",
      "ord_cancel_tm-sorting_tm_diff\n",
      "print_tm-sorting_tm_diff\n",
      "sorting_tm-package_tm_diff\n",
      "sorting_tm-out_wh_tm_diff\n",
      "sorting_tm-ship_sorting_tm_diff\n",
      "sorting_tm-check_account_tm_diff\n",
      "sorting_tm-ord_complete_tm_diff\n",
      "sorting_tm-last_update_tm_diff\n",
      "sorting_tm-sorting_center_pop_rev_tm_diff\n"
     ]
    }
   ],
   "source": [
    "# Nan cols\n",
    "for col1 in data.columns:\n",
    "    if len(data[pd.isnull(data[col1])]) / len(data) == 1:\n",
    "        print col1\n",
    "        data.drop(col1,axis=1,inplace=True)"
   ]
  },
  {
   "cell_type": "code",
   "execution_count": 17,
   "metadata": {
    "collapsed": false
   },
   "outputs": [],
   "source": [
    "#用户年龄\n",
    "def trans_age(v):\n",
    "    if pd.notnull(v):\n",
    "        return v.days / 365\n",
    "\n",
    "data.reg_birthday = pd.to_datetime(data.reg_birthday,errors='coerce')\n",
    "data['user_age'] = pd.to_datetime('2017-05-14') - data.reg_birthday\n",
    "data['user_age'] = data['user_age'].map(trans_age)\n",
    "data.drop('reg_birthday',axis=1,inplace=True)"
   ]
  },
  {
   "cell_type": "code",
   "execution_count": 18,
   "metadata": {
    "collapsed": false
   },
   "outputs": [],
   "source": [
    "#用户注册时间\n",
    "data['user_reg_tm'] = pd.to_datetime(data['user_reg_tm'],errors='coerce')\n",
    "data['ord_tm'] = pd.to_datetime(data['ord_tm'],errors='coerce')\n",
    "\n",
    "data['reg_age'] = pd.to_datetime('2017-05-14') - data['user_reg_tm']\n",
    "data['reg_age'] = pd.to_numeric(data['reg_age'])\n",
    "\n",
    "def trans_ord_tm(v):\n",
    "    return v.hour * 60 + v.minute + v.second/60\n",
    "\n",
    "data.ord_tm = data.ord_tm.map(trans_ord_tm)\n",
    "data.drop(['user_reg_tm','ord_tm'],axis=1,inplace=True)"
   ]
  },
  {
   "cell_type": "code",
   "execution_count": 19,
   "metadata": {
    "collapsed": true
   },
   "outputs": [],
   "source": [
    "# same col\n",
    "drop_col = ['ord_dt','dp','dt','carrier_tel','user_log_acct','ord_flag']\n",
    "\n",
    "for col in drop_col:\n",
    "    data.drop(col,axis=1,inplace=True)"
   ]
  },
  {
   "cell_type": "code",
   "execution_count": 20,
   "metadata": {
    "collapsed": true
   },
   "outputs": [],
   "source": [
    "# cancel_col\n",
    "cancel_col = filter(lambda x: 'cancel' in x and x != 'cancel_flag', data.columns)\n",
    "for col in cancel_col:\n",
    "    data.drop(col,axis=1,inplace=True)"
   ]
  },
  {
   "cell_type": "code",
   "execution_count": 21,
   "metadata": {
    "collapsed": false
   },
   "outputs": [],
   "source": [
    "# flag, num, id, num, cd\n",
    "for col in data.columns:\n",
    "    try:\n",
    "        con = 'flag' in col or 'num' in col or 'id' in col or 'num' in col or 'cd' in col\n",
    "        if con:\n",
    "            data[col] = pd.to_numeric(data[col],errors='coerce')\n",
    "    except Exception as e:\n",
    "        print col"
   ]
  },
  {
   "cell_type": "code",
   "execution_count": 22,
   "metadata": {
    "collapsed": false
   },
   "outputs": [],
   "source": [
    "def label(col):\n",
    "    mask = pd.notnull(data[col])\n",
    "    le = LabelEncoder()\n",
    "    le.fit(data[col][mask])\n",
    "    data[col][mask] = le.transform(data[col][mask])\n",
    "    data[col] = pd.to_numeric(data[col],errors='coerce')\n",
    "\n",
    "label('vertical_web_type_cd')"
   ]
  },
  {
   "cell_type": "code",
   "execution_count": 23,
   "metadata": {
    "collapsed": false
   },
   "outputs": [],
   "source": [
    "data['client'][data['client'] == 'iPad'] = 'ipad'\n",
    "\n",
    "condition = (data['client'] != 'android') & \\\n",
    "            (data['client'] != 'apple') & \\\n",
    "            (data['client'] != 'm') & \\\n",
    "            (data['client'] != 'ipad') & \\\n",
    "            (pd.notnull(data['client'])) \n",
    "\n",
    "data['client'][condition] = 'other'\n"
   ]
  },
  {
   "cell_type": "code",
   "execution_count": 24,
   "metadata": {
    "collapsed": false
   },
   "outputs": [],
   "source": [
    "# One-hot encoding\n",
    "def new_dummy(col):\n",
    "    global data\n",
    "    dummies = pd.get_dummies(data[col])\n",
    "    data = pd.concat([data,dummies],axis=1)\n",
    "    data.drop(col,axis=1,inplace=True)\n",
    "    \n",
    "new_dummy('client')\n",
    "new_dummy('src_desc')"
   ]
  },
  {
   "cell_type": "code",
   "execution_count": 25,
   "metadata": {
    "collapsed": false,
    "scrolled": true
   },
   "outputs": [
    {
     "name": "stdout",
     "output_type": "stream",
     "text": [
      "user_point\n"
     ]
    }
   ],
   "source": [
    "left_obj_col = ['total_shipping_charge',\n",
    "                'actual_shipping_charge',\n",
    "                'point',\n",
    "                'other_offer',\n",
    "                'place_ord_ip',\n",
    "                'rev_zip',\n",
    "                'member_reg_gender',\n",
    "                'user_point',\n",
    "                'order_all_weight']\n",
    "\n",
    "for col in left_obj_col:\n",
    "    try:\n",
    "        data[col] = pd.to_numeric(data[col],errors='coerce')\n",
    "    except Exception as e:\n",
    "        print col\n",
    "        continue"
   ]
  },
  {
   "cell_type": "code",
   "execution_count": 26,
   "metadata": {
    "collapsed": false
   },
   "outputs": [],
   "source": [
    "for col in tm_col:\n",
    "    try:\n",
    "        data.drop(col,axis=1,inplace=True)\n",
    "    except Exception as e:\n",
    "        continue"
   ]
  },
  {
   "cell_type": "code",
   "execution_count": 27,
   "metadata": {
    "collapsed": false,
    "scrolled": false
   },
   "outputs": [
    {
     "name": "stdout",
     "output_type": "stream",
     "text": [
      "<class 'pandas.core.frame.DataFrame'>\n",
      "Int64Index: 100000 entries, 0 to 99999\n",
      "Columns: 138 entries, sale_ord_id to virtual\n",
      "dtypes: float64(91), int64(39), uint8(8)\n",
      "memory usage: 100.7 MB\n"
     ]
    }
   ],
   "source": [
    "data.info()"
   ]
  },
  {
   "cell_type": "code",
   "execution_count": 28,
   "metadata": {
    "collapsed": false,
    "scrolled": true
   },
   "outputs": [
    {
     "data": {
      "text/plain": [
       "['sale_ord_id',\n",
       " 'user_id',\n",
       " 'user_site_province_id',\n",
       " 'user_site_city_id',\n",
       " 'user_site_county_id',\n",
       " 'user_site_school_id',\n",
       " 'rev_addr_province_id',\n",
       " 'rev_addr_city_id',\n",
       " 'rev_addr_county_id',\n",
       " 'rev_addr_school_id',\n",
       " 'reg_user_valid_flag',\n",
       " 'engy_subsidy_amount',\n",
       " 'worldwide_tax_amount',\n",
       " 'rev_addr_town_id',\n",
       " 'android']"
      ]
     },
     "execution_count": 28,
     "metadata": {},
     "output_type": "execute_result"
    }
   ],
   "source": [
    "id_col = filter(lambda x: 'id' in x, data.columns)\n",
    "id_col"
   ]
  },
  {
   "cell_type": "markdown",
   "metadata": {},
   "source": [
    "### 构造特征的目标是增加信息熵\n",
    "1.'tm'两两计算时间差  \n",
    "2.统计用户所在城市人口  \n",
    "3.用户注册地址和收货地址是否相同  \n",
    "4.用户订单数  "
   ]
  },
  {
   "cell_type": "code",
   "execution_count": 29,
   "metadata": {
    "collapsed": false
   },
   "outputs": [],
   "source": [
    "addr = ['province','city','county','school']\n",
    "for col in addr:\n",
    "    new_name = '{}_equal'.format(col)\n",
    "    user_col = 'user_site_{}_id'.format(col)\n",
    "    rev_col = 'rev_addr_{}_id'.format(col)\n",
    "    data[new_name] = 0\n",
    "    data[new_name][data[user_col] == data[rev_col]] = 1\n",
    "    if user_col != 'user_site_city_id':\n",
    "        data.drop([user_col, rev_col],axis=1,inplace=True)"
   ]
  },
  {
   "cell_type": "code",
   "execution_count": 30,
   "metadata": {
    "collapsed": false,
    "scrolled": true
   },
   "outputs": [
    {
     "name": "stdout",
     "output_type": "stream",
     "text": [
      "<class 'pandas.core.frame.DataFrame'>\n",
      "Int64Index: 100000 entries, 0 to 99999\n",
      "Columns: 136 entries, sale_ord_id to school_equal\n",
      "dtypes: float64(88), int64(40), uint8(8)\n",
      "memory usage: 99.2 MB\n"
     ]
    }
   ],
   "source": [
    "data.info()"
   ]
  },
  {
   "cell_type": "code",
   "execution_count": 31,
   "metadata": {
    "collapsed": false
   },
   "outputs": [],
   "source": [
    "equal_col = filter(lambda x: 'equal' in x, data.columns)"
   ]
  },
  {
   "cell_type": "code",
   "execution_count": 32,
   "metadata": {
    "collapsed": false
   },
   "outputs": [
    {
     "name": "stdout",
     "output_type": "stream",
     "text": [
      "0.88798588536 0.11201411464 0.904204440003 0.0957955599971\n",
      "=============================\n",
      "0.88938868815 0.11061131185 0.906246645916 0.0937533540839\n",
      "=============================\n",
      "0.891546948505 0.108453051495 0.910473623412 0.0895263765884\n",
      "=============================\n",
      "0.883597628573 0.116402371427 0.89486833306 0.10513166694\n",
      "=============================\n"
     ]
    }
   ],
   "source": [
    "# 比较用户注册地址和收货地址是否相同\n",
    "for col in equal_col:\n",
    "    a0 = len(data[(data[col] == 0) & (data['cancel_flag'] == 0)]) / len(data[data[col] == 0])\n",
    "    a1 = len(data[(data[col] == 0) & (data['cancel_flag'] == 1)]) / len(data[data[col] == 0])\n",
    "    b0 = len(data[(data[col] == 1) & (data['cancel_flag'] == 0)]) / len(data[data[col] == 1])\n",
    "    b1 = len(data[(data[col] == 1) & (data['cancel_flag'] == 1)]) / len(data[data[col] == 1])\n",
    "    print a0, a1, b0, b1\n",
    "    print '============================='"
   ]
  },
  {
   "cell_type": "code",
   "execution_count": 33,
   "metadata": {
    "collapsed": false
   },
   "outputs": [
    {
     "data": {
      "text/html": [
       "<div>\n",
       "<table border=\"1\" class=\"dataframe\">\n",
       "  <thead>\n",
       "    <tr style=\"text-align: right;\">\n",
       "      <th></th>\n",
       "      <th>user_site_city_id</th>\n",
       "      <th>people_count</th>\n",
       "    </tr>\n",
       "  </thead>\n",
       "  <tbody>\n",
       "    <tr>\n",
       "      <th>0</th>\n",
       "      <td>0.0</td>\n",
       "      <td>43608</td>\n",
       "    </tr>\n",
       "    <tr>\n",
       "      <th>1</th>\n",
       "      <td>1.0</td>\n",
       "      <td>4</td>\n",
       "    </tr>\n",
       "    <tr>\n",
       "      <th>2</th>\n",
       "      <td>2.0</td>\n",
       "      <td>1</td>\n",
       "    </tr>\n",
       "    <tr>\n",
       "      <th>3</th>\n",
       "      <td>72.0</td>\n",
       "      <td>2656</td>\n",
       "    </tr>\n",
       "    <tr>\n",
       "      <th>4</th>\n",
       "      <td>78.0</td>\n",
       "      <td>93</td>\n",
       "    </tr>\n",
       "  </tbody>\n",
       "</table>\n",
       "</div>"
      ],
      "text/plain": [
       "   user_site_city_id  people_count\n",
       "0                0.0         43608\n",
       "1                1.0             4\n",
       "2                2.0             1\n",
       "3               72.0          2656\n",
       "4               78.0            93"
      ]
     },
     "execution_count": 33,
     "metadata": {},
     "output_type": "execute_result"
    }
   ],
   "source": [
    "people_count = data.groupby(['user_site_city_id'])['user_id'].size().reset_index().rename(columns = {0:'people_count'})\n",
    "people_count.head()"
   ]
  },
  {
   "cell_type": "code",
   "execution_count": 34,
   "metadata": {
    "collapsed": false
   },
   "outputs": [
    {
     "data": {
      "text/html": [
       "<div>\n",
       "<table border=\"1\" class=\"dataframe\">\n",
       "  <thead>\n",
       "    <tr style=\"text-align: right;\">\n",
       "      <th></th>\n",
       "      <th>sale_ord_id</th>\n",
       "      <th>sale_ord_cate_cd</th>\n",
       "      <th>sale_ord_type_cd</th>\n",
       "      <th>user_id</th>\n",
       "      <th>reg_user_type_cd</th>\n",
       "      <th>user_lv_cd</th>\n",
       "      <th>ord_create_user_lv_cd</th>\n",
       "      <th>campus_user_flag</th>\n",
       "      <th>user_site_city_id</th>\n",
       "      <th>rev_addr_city_id</th>\n",
       "      <th>...</th>\n",
       "      <th>m</th>\n",
       "      <th>other</th>\n",
       "      <th>app</th>\n",
       "      <th>supply</th>\n",
       "      <th>virtual</th>\n",
       "      <th>province_equal</th>\n",
       "      <th>city_equal</th>\n",
       "      <th>county_equal</th>\n",
       "      <th>school_equal</th>\n",
       "      <th>people_count</th>\n",
       "    </tr>\n",
       "  </thead>\n",
       "  <tbody>\n",
       "    <tr>\n",
       "      <th>0</th>\n",
       "      <td>54032384624</td>\n",
       "      <td>10</td>\n",
       "      <td>0</td>\n",
       "      <td>4044963</td>\n",
       "      <td>-1</td>\n",
       "      <td>62</td>\n",
       "      <td>62</td>\n",
       "      <td>0</td>\n",
       "      <td>1315.0</td>\n",
       "      <td>1315</td>\n",
       "      <td>...</td>\n",
       "      <td>1</td>\n",
       "      <td>0</td>\n",
       "      <td>1</td>\n",
       "      <td>0</td>\n",
       "      <td>0</td>\n",
       "      <td>1</td>\n",
       "      <td>1</td>\n",
       "      <td>1</td>\n",
       "      <td>1</td>\n",
       "      <td>334.0</td>\n",
       "    </tr>\n",
       "    <tr>\n",
       "      <th>1</th>\n",
       "      <td>54032391216</td>\n",
       "      <td>10</td>\n",
       "      <td>0</td>\n",
       "      <td>948514223</td>\n",
       "      <td>1</td>\n",
       "      <td>56</td>\n",
       "      <td>56</td>\n",
       "      <td>0</td>\n",
       "      <td>3971.0</td>\n",
       "      <td>984</td>\n",
       "      <td>...</td>\n",
       "      <td>1</td>\n",
       "      <td>0</td>\n",
       "      <td>1</td>\n",
       "      <td>0</td>\n",
       "      <td>0</td>\n",
       "      <td>0</td>\n",
       "      <td>0</td>\n",
       "      <td>0</td>\n",
       "      <td>1</td>\n",
       "      <td>5.0</td>\n",
       "    </tr>\n",
       "    <tr>\n",
       "      <th>2</th>\n",
       "      <td>54032396336</td>\n",
       "      <td>20</td>\n",
       "      <td>22</td>\n",
       "      <td>1419674420</td>\n",
       "      <td>2</td>\n",
       "      <td>56</td>\n",
       "      <td>56</td>\n",
       "      <td>999</td>\n",
       "      <td>NaN</td>\n",
       "      <td>933</td>\n",
       "      <td>...</td>\n",
       "      <td>0</td>\n",
       "      <td>0</td>\n",
       "      <td>1</td>\n",
       "      <td>0</td>\n",
       "      <td>0</td>\n",
       "      <td>0</td>\n",
       "      <td>0</td>\n",
       "      <td>0</td>\n",
       "      <td>0</td>\n",
       "      <td>NaN</td>\n",
       "    </tr>\n",
       "    <tr>\n",
       "      <th>3</th>\n",
       "      <td>54032397552</td>\n",
       "      <td>10</td>\n",
       "      <td>0</td>\n",
       "      <td>736369185</td>\n",
       "      <td>-1</td>\n",
       "      <td>56</td>\n",
       "      <td>56</td>\n",
       "      <td>1</td>\n",
       "      <td>988.0</td>\n",
       "      <td>2376</td>\n",
       "      <td>...</td>\n",
       "      <td>1</td>\n",
       "      <td>0</td>\n",
       "      <td>1</td>\n",
       "      <td>0</td>\n",
       "      <td>0</td>\n",
       "      <td>0</td>\n",
       "      <td>0</td>\n",
       "      <td>0</td>\n",
       "      <td>1</td>\n",
       "      <td>836.0</td>\n",
       "    </tr>\n",
       "    <tr>\n",
       "      <th>4</th>\n",
       "      <td>54032402608</td>\n",
       "      <td>20</td>\n",
       "      <td>22</td>\n",
       "      <td>1463356522</td>\n",
       "      <td>2</td>\n",
       "      <td>50</td>\n",
       "      <td>50</td>\n",
       "      <td>999</td>\n",
       "      <td>NaN</td>\n",
       "      <td>199</td>\n",
       "      <td>...</td>\n",
       "      <td>0</td>\n",
       "      <td>0</td>\n",
       "      <td>1</td>\n",
       "      <td>0</td>\n",
       "      <td>0</td>\n",
       "      <td>0</td>\n",
       "      <td>0</td>\n",
       "      <td>0</td>\n",
       "      <td>0</td>\n",
       "      <td>NaN</td>\n",
       "    </tr>\n",
       "    <tr>\n",
       "      <th>5</th>\n",
       "      <td>54032410128</td>\n",
       "      <td>10</td>\n",
       "      <td>0</td>\n",
       "      <td>815177738</td>\n",
       "      <td>-1</td>\n",
       "      <td>56</td>\n",
       "      <td>56</td>\n",
       "      <td>1</td>\n",
       "      <td>83.0</td>\n",
       "      <td>1233</td>\n",
       "      <td>...</td>\n",
       "      <td>1</td>\n",
       "      <td>0</td>\n",
       "      <td>1</td>\n",
       "      <td>0</td>\n",
       "      <td>0</td>\n",
       "      <td>0</td>\n",
       "      <td>0</td>\n",
       "      <td>0</td>\n",
       "      <td>1</td>\n",
       "      <td>725.0</td>\n",
       "    </tr>\n",
       "    <tr>\n",
       "      <th>6</th>\n",
       "      <td>54032413296</td>\n",
       "      <td>10</td>\n",
       "      <td>0</td>\n",
       "      <td>891450845</td>\n",
       "      <td>-1</td>\n",
       "      <td>62</td>\n",
       "      <td>62</td>\n",
       "      <td>1</td>\n",
       "      <td>0.0</td>\n",
       "      <td>258</td>\n",
       "      <td>...</td>\n",
       "      <td>0</td>\n",
       "      <td>0</td>\n",
       "      <td>1</td>\n",
       "      <td>0</td>\n",
       "      <td>0</td>\n",
       "      <td>0</td>\n",
       "      <td>0</td>\n",
       "      <td>0</td>\n",
       "      <td>1</td>\n",
       "      <td>43608.0</td>\n",
       "    </tr>\n",
       "    <tr>\n",
       "      <th>7</th>\n",
       "      <td>54032413328</td>\n",
       "      <td>20</td>\n",
       "      <td>22</td>\n",
       "      <td>1192535148</td>\n",
       "      <td>22</td>\n",
       "      <td>56</td>\n",
       "      <td>56</td>\n",
       "      <td>0</td>\n",
       "      <td>0.0</td>\n",
       "      <td>988</td>\n",
       "      <td>...</td>\n",
       "      <td>0</td>\n",
       "      <td>0</td>\n",
       "      <td>1</td>\n",
       "      <td>0</td>\n",
       "      <td>0</td>\n",
       "      <td>0</td>\n",
       "      <td>0</td>\n",
       "      <td>0</td>\n",
       "      <td>1</td>\n",
       "      <td>43608.0</td>\n",
       "    </tr>\n",
       "    <tr>\n",
       "      <th>8</th>\n",
       "      <td>54032422640</td>\n",
       "      <td>10</td>\n",
       "      <td>0</td>\n",
       "      <td>1395539588</td>\n",
       "      <td>2</td>\n",
       "      <td>56</td>\n",
       "      <td>56</td>\n",
       "      <td>999</td>\n",
       "      <td>NaN</td>\n",
       "      <td>988</td>\n",
       "      <td>...</td>\n",
       "      <td>0</td>\n",
       "      <td>0</td>\n",
       "      <td>1</td>\n",
       "      <td>0</td>\n",
       "      <td>0</td>\n",
       "      <td>0</td>\n",
       "      <td>0</td>\n",
       "      <td>0</td>\n",
       "      <td>0</td>\n",
       "      <td>NaN</td>\n",
       "    </tr>\n",
       "    <tr>\n",
       "      <th>9</th>\n",
       "      <td>54032433552</td>\n",
       "      <td>10</td>\n",
       "      <td>0</td>\n",
       "      <td>583806018</td>\n",
       "      <td>-1</td>\n",
       "      <td>62</td>\n",
       "      <td>62</td>\n",
       "      <td>0</td>\n",
       "      <td>0.0</td>\n",
       "      <td>939</td>\n",
       "      <td>...</td>\n",
       "      <td>0</td>\n",
       "      <td>0</td>\n",
       "      <td>1</td>\n",
       "      <td>0</td>\n",
       "      <td>0</td>\n",
       "      <td>0</td>\n",
       "      <td>0</td>\n",
       "      <td>0</td>\n",
       "      <td>1</td>\n",
       "      <td>43608.0</td>\n",
       "    </tr>\n",
       "  </tbody>\n",
       "</table>\n",
       "<p>10 rows × 137 columns</p>\n",
       "</div>"
      ],
      "text/plain": [
       "   sale_ord_id  sale_ord_cate_cd  sale_ord_type_cd     user_id  \\\n",
       "0  54032384624                10                 0     4044963   \n",
       "1  54032391216                10                 0   948514223   \n",
       "2  54032396336                20                22  1419674420   \n",
       "3  54032397552                10                 0   736369185   \n",
       "4  54032402608                20                22  1463356522   \n",
       "5  54032410128                10                 0   815177738   \n",
       "6  54032413296                10                 0   891450845   \n",
       "7  54032413328                20                22  1192535148   \n",
       "8  54032422640                10                 0  1395539588   \n",
       "9  54032433552                10                 0   583806018   \n",
       "\n",
       "   reg_user_type_cd  user_lv_cd  ord_create_user_lv_cd  campus_user_flag  \\\n",
       "0                -1          62                     62                 0   \n",
       "1                 1          56                     56                 0   \n",
       "2                 2          56                     56               999   \n",
       "3                -1          56                     56                 1   \n",
       "4                 2          50                     50               999   \n",
       "5                -1          56                     56                 1   \n",
       "6                -1          62                     62                 1   \n",
       "7                22          56                     56                 0   \n",
       "8                 2          56                     56               999   \n",
       "9                -1          62                     62                 0   \n",
       "\n",
       "   user_site_city_id  rev_addr_city_id      ...       m  other  app  supply  \\\n",
       "0             1315.0              1315      ...       1      0    1       0   \n",
       "1             3971.0               984      ...       1      0    1       0   \n",
       "2                NaN               933      ...       0      0    1       0   \n",
       "3              988.0              2376      ...       1      0    1       0   \n",
       "4                NaN               199      ...       0      0    1       0   \n",
       "5               83.0              1233      ...       1      0    1       0   \n",
       "6                0.0               258      ...       0      0    1       0   \n",
       "7                0.0               988      ...       0      0    1       0   \n",
       "8                NaN               988      ...       0      0    1       0   \n",
       "9                0.0               939      ...       0      0    1       0   \n",
       "\n",
       "   virtual  province_equal  city_equal  county_equal  school_equal  \\\n",
       "0        0               1           1             1             1   \n",
       "1        0               0           0             0             1   \n",
       "2        0               0           0             0             0   \n",
       "3        0               0           0             0             1   \n",
       "4        0               0           0             0             0   \n",
       "5        0               0           0             0             1   \n",
       "6        0               0           0             0             1   \n",
       "7        0               0           0             0             1   \n",
       "8        0               0           0             0             0   \n",
       "9        0               0           0             0             1   \n",
       "\n",
       "   people_count  \n",
       "0         334.0  \n",
       "1           5.0  \n",
       "2           NaN  \n",
       "3         836.0  \n",
       "4           NaN  \n",
       "5         725.0  \n",
       "6       43608.0  \n",
       "7       43608.0  \n",
       "8           NaN  \n",
       "9       43608.0  \n",
       "\n",
       "[10 rows x 137 columns]"
      ]
     },
     "execution_count": 34,
     "metadata": {},
     "output_type": "execute_result"
    }
   ],
   "source": [
    "data = pd.merge(data, people_count, on = 'user_site_city_id', how = 'left')\n",
    "data.head(10)"
   ]
  },
  {
   "cell_type": "code",
   "execution_count": 35,
   "metadata": {
    "collapsed": false
   },
   "outputs": [
    {
     "data": {
      "text/html": [
       "<div>\n",
       "<table border=\"1\" class=\"dataframe\">\n",
       "  <thead>\n",
       "    <tr style=\"text-align: right;\">\n",
       "      <th></th>\n",
       "      <th>user_site_city_id</th>\n",
       "      <th>people_count</th>\n",
       "    </tr>\n",
       "  </thead>\n",
       "  <tbody>\n",
       "    <tr>\n",
       "      <th>0</th>\n",
       "      <td>0.0</td>\n",
       "      <td>43608</td>\n",
       "    </tr>\n",
       "    <tr>\n",
       "      <th>3</th>\n",
       "      <td>72.0</td>\n",
       "      <td>2656</td>\n",
       "    </tr>\n",
       "    <tr>\n",
       "      <th>189</th>\n",
       "      <td>1601.0</td>\n",
       "      <td>1778</td>\n",
       "    </tr>\n",
       "    <tr>\n",
       "      <th>190</th>\n",
       "      <td>1607.0</td>\n",
       "      <td>1762</td>\n",
       "    </tr>\n",
       "    <tr>\n",
       "      <th>234</th>\n",
       "      <td>1930.0</td>\n",
       "      <td>1486</td>\n",
       "    </tr>\n",
       "  </tbody>\n",
       "</table>\n",
       "</div>"
      ],
      "text/plain": [
       "     user_site_city_id  people_count\n",
       "0                  0.0         43608\n",
       "3                 72.0          2656\n",
       "189             1601.0          1778\n",
       "190             1607.0          1762\n",
       "234             1930.0          1486"
      ]
     },
     "execution_count": 35,
     "metadata": {},
     "output_type": "execute_result"
    }
   ],
   "source": [
    "sort_people = people_count.sort(['people_count','user_site_city_id'], ascending=[False, False])\n",
    "sort_people.head()"
   ]
  },
  {
   "cell_type": "code",
   "execution_count": 36,
   "metadata": {
    "collapsed": true
   },
   "outputs": [],
   "source": [
    "amt_col = ['no_prefr_total_amount',\n",
    "          'after_prefr_amount',\n",
    "          'total_offer_amount',\n",
    "          'sku_offer_amount',\n",
    "          'user_actual_pay_amount']\n",
    "         \n",
    "for col in amt_col:\n",
    "    new_col = '{}_per_weight'.format(col)\n",
    "    data[new_col] = data[col] / data['order_all_weight']\n",
    "\n",
    "data['offer perct'] = data['total_offer_amount'] / data['no_prefr_total_amount']\n",
    "data['discount perct'] = data['user_actual_pay_amount'] / data['no_prefr_total_amount']"
   ]
  },
  {
   "cell_type": "code",
   "execution_count": 41,
   "metadata": {
    "collapsed": false
   },
   "outputs": [
    {
     "name": "stdout",
     "output_type": "stream",
     "text": [
      "user_site_city_id: 0.22021\n",
      "sku_offer_amount: 0.30346\n",
      "suit_offer_amount: 0.30346\n",
      "gp_offer_amount: 0.30346\n",
      "full_rebate_offer_amount: 0.30346\n",
      "telecom_point_offer_amount: 0.30346\n",
      "dq_and_jq_pay_amount: 0.30346\n",
      "dq_pay_amount: 0.30346\n",
      "jq_pay_amount: 0.30346\n",
      "gift_cps_pay_amount: 0.30346\n",
      "mobile_red_packet_pay_amount: 0.30346\n",
      "delv_center_num: 0.15662\n",
      "place_ord_ip: 1.0\n",
      "vertical_web_type_cd: 0.38908\n",
      "rev_zip: 0.99989\n",
      "member_reg_gender: 0.00554\n",
      "reg_user_valid_flag: 0.00158\n",
      "ps_delv_way_cd: 0.77011\n",
      "acct_bal_pay_amount: 0.30346\n",
      "flash_gp_offer_amount: 0.30346\n",
      "jbean_pay_amount: 0.30346\n",
      "sku_rebate_amount: 0.30346\n",
      "yixun_point_pay_amount: 0.30346\n",
      "freight_coupon_amount: 0.30346\n",
      "pop_shop_lim_sku_jq_pay_amount: 0.30346\n",
      "pop_shop_lim_sku_dq_pay_amount: 0.30346\n",
      "engy_subsidy_amount: 0.30346\n",
      "union_coupon_pay_amount: 0.30346\n",
      "delv_ser_fee_amount: 0.30346\n",
      "worldwide_tax_amount: 0.30346\n",
      "afs_ser_fee_amount: 0.30346\n",
      "pay_tm-ord_proc_tm_diff: 0.29657\n",
      "pay_tm-print_tm_diff: 0.62183\n",
      "pay_tm-package_tm_diff: 0.80149\n",
      "pay_tm-out_wh_tm_diff: 0.62325\n",
      "pay_tm-ship_sorting_tm_diff: 0.69578\n",
      "pay_tm-check_account_tm_diff: 0.29664\n",
      "pay_tm-ord_complete_tm_diff: 0.91187\n",
      "pay_tm-last_update_tm_diff: 0.29657\n",
      "pay_tm-sorting_center_pop_rev_tm_diff: 0.87026\n",
      "ord_proc_tm-print_tm_diff: 0.56972\n",
      "ord_proc_tm-package_tm_diff: 0.76431\n",
      "ord_proc_tm-out_wh_tm_diff: 0.57159\n",
      "ord_proc_tm-ship_sorting_tm_diff: 0.65816\n",
      "ord_proc_tm-check_account_tm_diff: 0.27442\n",
      "ord_proc_tm-ord_complete_tm_diff: 0.9089\n",
      "ord_proc_tm-sorting_center_pop_rev_tm_diff: 0.84555\n",
      "print_tm-package_tm_diff: 0.76431\n",
      "print_tm-out_wh_tm_diff: 0.57207\n",
      "print_tm-ship_sorting_tm_diff: 0.65846\n",
      "print_tm-check_account_tm_diff: 0.60916\n",
      "print_tm-ord_complete_tm_diff: 0.94531\n",
      "print_tm-last_update_tm_diff: 0.56972\n",
      "print_tm-sorting_center_pop_rev_tm_diff: 0.84555\n",
      "package_tm-out_wh_tm_diff: 0.76431\n",
      "package_tm-ship_sorting_tm_diff: 0.84919\n",
      "package_tm-check_account_tm_diff: 0.79219\n",
      "package_tm-ord_complete_tm_diff: 0.94939\n",
      "package_tm-last_update_tm_diff: 0.76431\n",
      "package_tm-sorting_center_pop_rev_tm_diff: 0.84555\n",
      "out_wh_tm-ship_sorting_tm_diff: 0.65816\n",
      "out_wh_tm-check_account_tm_diff: 0.61064\n",
      "out_wh_tm-ord_complete_tm_diff: 0.94531\n",
      "out_wh_tm-last_update_tm_diff: 0.57159\n",
      "out_wh_tm-sorting_center_pop_rev_tm_diff: 0.84555\n",
      "ship_sorting_tm-check_account_tm_diff: 0.68643\n",
      "ship_sorting_tm-ord_complete_tm_diff: 0.94568\n",
      "ship_sorting_tm-last_update_tm_diff: 0.65816\n",
      "ship_sorting_tm-sorting_center_pop_rev_tm_diff: 0.8931\n",
      "check_account_tm-ord_complete_tm_diff: 0.9089\n",
      "check_account_tm-last_update_tm_diff: 0.27442\n",
      "check_account_tm-sorting_center_pop_rev_tm_diff: 0.86421\n",
      "ord_complete_tm-last_update_tm_diff: 0.9089\n",
      "ord_complete_tm-sorting_center_pop_rev_tm_diff: 0.9638\n",
      "last_update_tm-sorting_center_pop_rev_tm_diff: 0.84555\n",
      "people_count: 0.22021\n",
      "after_prefr_amount_per_weight: 0.00028\n",
      "total_offer_amount_per_weight: 0.03437\n",
      "sku_offer_amount_per_weight: 0.34555\n",
      "user_actual_pay_amount_per_weight: 0.01398\n"
     ]
    }
   ],
   "source": [
    "for col in data.columns:\n",
    "    nan_portion = len(data[pd.isnull(data[col])]) / len(data)\n",
    "    if nan_portion != 0:\n",
    "        print '{}: {}'.format(col, nan_portion)"
   ]
  },
  {
   "cell_type": "code",
   "execution_count": 73,
   "metadata": {
    "collapsed": false
   },
   "outputs": [],
   "source": [
    "data.to_csv('train.csv',index=False)"
   ]
  },
  {
   "cell_type": "code",
   "execution_count": 75,
   "metadata": {
    "collapsed": false
   },
   "outputs": [
    {
     "data": {
      "text/plain": [
       "['sale_ord_id',\n",
       " 'user_id',\n",
       " 'user_site_city_id',\n",
       " 'rev_addr_city_id',\n",
       " 'reg_user_valid_flag',\n",
       " 'engy_subsidy_amount',\n",
       " 'worldwide_tax_amount',\n",
       " 'rev_addr_town_id',\n",
       " 'android']"
      ]
     },
     "execution_count": 75,
     "metadata": {},
     "output_type": "execute_result"
    }
   ],
   "source": [
    "filter(lambda x: 'id' in x, data.columns)"
   ]
  },
  {
   "cell_type": "markdown",
   "metadata": {},
   "source": [
    "============================================================================"
   ]
  },
  {
   "cell_type": "markdown",
   "metadata": {},
   "source": [
    "## 3.ML"
   ]
  },
  {
   "cell_type": "code",
   "execution_count": 62,
   "metadata": {
    "collapsed": true
   },
   "outputs": [],
   "source": [
    "from sklearn.model_selection import train_test_split\n",
    "from sklearn.model_selection import GridSearchCV\n",
    "from sklearn.metrics import recall_score\n",
    "from sklearn.metrics import accuracy_score\n",
    "from sklearn.metrics import precision_score\n",
    "\n",
    "\n",
    "from sklearn.ensemble import RandomForestClassifier\n",
    "from sklearn.ensemble import GradientBoostingClassifier"
   ]
  },
  {
   "cell_type": "code",
   "execution_count": 63,
   "metadata": {
    "collapsed": false
   },
   "outputs": [
    {
     "ename": "ImportError",
     "evalue": "No module named xgboost",
     "output_type": "error",
     "traceback": [
      "\u001b[0;31m---------------------------------------------------------------------------\u001b[0m",
      "\u001b[0;31mImportError\u001b[0m                               Traceback (most recent call last)",
      "\u001b[0;32m<ipython-input-63-049f82b1f296>\u001b[0m in \u001b[0;36m<module>\u001b[0;34m()\u001b[0m\n\u001b[1;32m      4\u001b[0m \u001b[1;33m\u001b[0m\u001b[0m\n\u001b[1;32m      5\u001b[0m \u001b[0mos\u001b[0m\u001b[1;33m.\u001b[0m\u001b[0menviron\u001b[0m\u001b[1;33m[\u001b[0m\u001b[1;34m'PATH'\u001b[0m\u001b[1;33m]\u001b[0m \u001b[1;33m=\u001b[0m \u001b[0mmingw_path\u001b[0m \u001b[1;33m+\u001b[0m \u001b[1;34m';'\u001b[0m \u001b[1;33m+\u001b[0m \u001b[0mos\u001b[0m\u001b[1;33m.\u001b[0m\u001b[0menviron\u001b[0m\u001b[1;33m[\u001b[0m\u001b[1;34m'PATH'\u001b[0m\u001b[1;33m]\u001b[0m\u001b[1;33m\u001b[0m\u001b[0m\n\u001b[0;32m----> 6\u001b[0;31m \u001b[1;32mfrom\u001b[0m \u001b[0mxgboost\u001b[0m \u001b[1;32mimport\u001b[0m \u001b[0mXGBClassifier\u001b[0m\u001b[1;33m\u001b[0m\u001b[0m\n\u001b[0m\u001b[1;32m      7\u001b[0m \u001b[1;32mimport\u001b[0m \u001b[0mxgboost\u001b[0m \u001b[1;32mas\u001b[0m \u001b[0mxgb\u001b[0m\u001b[1;33m\u001b[0m\u001b[0m\n",
      "\u001b[0;31mImportError\u001b[0m: No module named xgboost"
     ]
    }
   ],
   "source": [
    "import os\n",
    "\n",
    "mingw_path = 'C:\\\\Program Files\\\\mingw-w64\\\\x86_64-6.3.0-posix-seh-rt_v5-rev1\\\\mingw64\\\\bin'\n",
    "\n",
    "os.environ['PATH'] = mingw_path + ';' + os.environ['PATH']\n",
    "from xgboost import XGBClassifier\n",
    "import xgboost as xgb"
   ]
  },
  {
   "cell_type": "code",
   "execution_count": 279,
   "metadata": {
    "collapsed": false
   },
   "outputs": [],
   "source": [
    "ori_data = pd.read_csv('train.csv')\n",
    "ori_data.drop('sorting_center_pop_rev_tm',axis=1,inplace=True)"
   ]
  },
  {
   "cell_type": "code",
   "execution_count": 306,
   "metadata": {
    "collapsed": false
   },
   "outputs": [],
   "source": [
    "tmp_test = data.limit(5*10**5).toPandas()\n",
    "y = tmp_test.cancel_flag\n",
    "tmp_test.drop('cancel_flag',axis=1,inplace=True)\n",
    "X = tmp_test\n",
    "X_train, X_test, y_train, y_test = train_test_split(X, y, test_size=0.3, random_state=2017)"
   ]
  },
  {
   "cell_type": "code",
   "execution_count": 74,
   "metadata": {
    "collapsed": false
   },
   "outputs": [],
   "source": [
    "data.drop('user_id',axis=1,inplace=True)\n",
    "y = data.cancel_flag\n",
    "data.drop('cancel_flag',axis=1,inplace=True)\n",
    "X = data\n",
    "X_train, X_test, y_train, y_test = train_test_split(X, y, test_size=0.3, random_state=2017)"
   ]
  },
  {
   "cell_type": "code",
   "execution_count": 282,
   "metadata": {
    "collapsed": true
   },
   "outputs": [],
   "source": [
    "# Scoring\n",
    "def print_scoring(model, X_test, y_test):\n",
    "    y_pred = model.predict(X_test)\n",
    "    recall = recall_score(y_test, y_pred, average='binary')\n",
    "    print 'Recall: {}'.format(recall)\n",
    "    print '==========================='\n",
    "    precision = precision_score(y_test, y_pred, average='binary')\n",
    "    print 'Precision: {}'.format(precision)\n",
    "    print '==========================='\n",
    "    accuracy = accuracy_score(y_test, y_pred)\n",
    "    print 'Accuracy: {}'.format(accuracy)"
   ]
  },
  {
   "cell_type": "code",
   "execution_count": 37,
   "metadata": {
    "collapsed": true
   },
   "outputs": [],
   "source": [
    "# Importance\n",
    "def print_impor(model,X_train,top=50):\n",
    "    importances = model.feature_importances_\n",
    "    indices = np.argsort(importances)\n",
    "    for i in xrange(top):\n",
    "        print '{}: {}'.format(X_train.columns[indices][::-1][i], importances[indices][::-1][i])\n",
    "    print '===================================================='\n",
    "    print 'Top {} Cumulative Importance: {}'.format(top,sum(importances[indices][::-1][:50]))"
   ]
  },
  {
   "cell_type": "markdown",
   "metadata": {},
   "source": [
    "### 1.XGB"
   ]
  },
  {
   "cell_type": "code",
   "execution_count": null,
   "metadata": {
    "collapsed": false,
    "scrolled": true
   },
   "outputs": [
    {
     "name": "stdout",
     "output_type": "stream",
     "text": [
      "Fitting 5 folds for each of 54 candidates, totalling 270 fits\n"
     ]
    },
    {
     "name": "stderr",
     "output_type": "stream",
     "text": [
      "[Parallel(n_jobs=8)]: Done   1 tasks      | elapsed:  6.1min\n",
      "[Parallel(n_jobs=8)]: Done   2 tasks      | elapsed:  6.1min\n",
      "[Parallel(n_jobs=8)]: Done   3 tasks      | elapsed:  6.2min\n",
      "[Parallel(n_jobs=8)]: Done   4 tasks      | elapsed:  6.2min\n",
      "[Parallel(n_jobs=8)]: Done   5 tasks      | elapsed:  6.3min\n",
      "[Parallel(n_jobs=8)]: Done   6 tasks      | elapsed:  6.6min\n",
      "[Parallel(n_jobs=8)]: Done   7 tasks      | elapsed:  6.6min\n",
      "[Parallel(n_jobs=8)]: Done   8 tasks      | elapsed:  6.6min\n",
      "[Parallel(n_jobs=8)]: Done   9 tasks      | elapsed: 12.9min\n",
      "[Parallel(n_jobs=8)]: Done  10 tasks      | elapsed: 13.1min\n",
      "[Parallel(n_jobs=8)]: Done  11 tasks      | elapsed: 21.8min\n",
      "[Parallel(n_jobs=8)]: Done  12 tasks      | elapsed: 22.0min\n",
      "[Parallel(n_jobs=8)]: Done  13 tasks      | elapsed: 22.2min\n",
      "[Parallel(n_jobs=8)]: Done  14 tasks      | elapsed: 22.3min\n",
      "[Parallel(n_jobs=8)]: Done  15 tasks      | elapsed: 22.6min\n",
      "[Parallel(n_jobs=8)]: Done  16 tasks      | elapsed: 22.7min\n",
      "[Parallel(n_jobs=8)]: Done  17 tasks      | elapsed: 28.6min\n",
      "[Parallel(n_jobs=8)]: Done  18 tasks      | elapsed: 28.9min\n",
      "[Parallel(n_jobs=8)]: Done  19 tasks      | elapsed: 37.7min\n",
      "[Parallel(n_jobs=8)]: Done  20 tasks      | elapsed: 38.3min\n",
      "[Parallel(n_jobs=8)]: Done  21 tasks      | elapsed: 53.4min\n",
      "[Parallel(n_jobs=8)]: Done  22 tasks      | elapsed: 54.3min\n",
      "[Parallel(n_jobs=8)]: Done  23 tasks      | elapsed: 54.5min\n",
      "[Parallel(n_jobs=8)]: Done  24 tasks      | elapsed: 55.3min\n"
     ]
    }
   ],
   "source": [
    "\"\"\"\n",
    "--- Grid Search Completed: 51.62 minutes ---\n",
    "Param grid:\n",
    "{'n_estimators': [50, 80, 100, 200], 'subsample': [0.7, 0.8], 'learning_rate': [0.05, 0.08, 0.1], 'max_depth': [7, 9, 10]}\n",
    "Best Params:\n",
    "{'n_estimators': 200, 'subsample': 0.8, 'learning_rate': 0.08, 'max_depth': 7}\n",
    "Best CV Score:\n",
    "-0.99870708255\n",
    "\n",
    "\"\"\"\n",
    "start_time = time.clock()\n",
    "clf = xgb.XGBClassifier(seed=2017,objective='binary:logistic')\n",
    "param_grid = {\n",
    "        'n_estimators': [200,500,1000],\n",
    "        'learning_rate': [0.05,0.08,0.1],\n",
    "        'max_depth': [7, 10, 15],\n",
    "        'subsample': [0.7, 0.8]\n",
    "    }\n",
    "\n",
    "model = GridSearchCV(estimator=clf, param_grid=param_grid,n_jobs=8,cv=5,verbose=20,scoring='roc_auc')\n",
    "model.fit(X_train,y_train)\n",
    "\n",
    "print('--- Grid Search Completed: %s minutes ---' % round(((time.clock() - start_time) / 60), 2))\n",
    "print('Param grid:')\n",
    "print(param_grid)\n",
    "print('Best Params:')\n",
    "print(model.best_params_)\n",
    "print('Best CV Score:')\n",
    "print(-model.best_score_)"
   ]
  },
  {
   "cell_type": "markdown",
   "metadata": {},
   "source": [
    "### 由于这是一个unbalanced data问题，88%用户没有取消订单，12%取消了订单，所以我们更应该关注recall和precision,accuracy基本是不能反映模型好坏的，即便不用任何算法，近来一组数据就判断不会取消，我们也有88%的准确率。"
   ]
  },
  {
   "cell_type": "markdown",
   "metadata": {},
   "source": [
    "### xgb结果"
   ]
  },
  {
   "cell_type": "code",
   "execution_count": 1,
   "metadata": {
    "collapsed": true
   },
   "outputs": [],
   "source": [
    "from IPython.display import Image"
   ]
  },
  {
   "cell_type": "code",
   "execution_count": 5,
   "metadata": {
    "collapsed": false
   },
   "outputs": [
    {
     "data": {
      "image/png": "[encoded data removed]",
      "text/plain": [
       "<IPython.core.display.Image object>"
      ]
     },
     "execution_count": 5,
     "metadata": {},
     "output_type": "execute_result"
    }
   ],
   "source": [
    "Image(\"C:/Users/maxiaocheng/Desktop/xgb.png\")"
   ]
  },
  {
   "cell_type": "markdown",
   "metadata": {},
   "source": [
    "## lightGBM结果"
   ]
  },
  {
   "cell_type": "code",
   "execution_count": 8,
   "metadata": {
    "collapsed": false
   },
   "outputs": [
    {
     "data": {
      "image/png": "[encoded data removed]",
      "text/plain": [
       "<IPython.core.display.Image object>"
      ]
     },
     "execution_count": 8,
     "metadata": {},
     "output_type": "execute_result"
    }
   ],
   "source": [
    "Image(\"C:/Users/maxiaocheng/Desktop/lgb.png\")"
   ]
  },
  {
   "cell_type": "code",
   "execution_count": 75,
   "metadata": {
    "collapsed": false
   },
   "outputs": [
    {
     "name": "stdout",
     "output_type": "stream",
     "text": [
      "Recall: 0.782527007985\n",
      "===========================\n",
      "Precision: 0.866655106641\n",
      "===========================\n",
      "Accuracy: 0.964033333333\n"
     ]
    }
   ],
   "source": [
    "xgb_best = xgb.XGBClassifier(seed=2017,objective='binary:logistic',n_estimators = 500,\n",
    "                             subsample = 0.8, learning_rate = 0.05, max_depth = 10)\n",
    "xgb_best.fit(X_train,y_train)\n",
    "y_pred = xgb_best.predict(X_test)\n",
    "recall = recall_score(y_test, y_pred, average='binary')\n",
    "print 'Recall: {}'.format(recall)\n",
    "print '==========================='\n",
    "precision = precision_score(y_test, y_pred, average='binary')\n",
    "print 'Precision: {}'.format(precision)\n",
    "print '==========================='\n",
    "accuracy = accuracy_score(y_test, y_pred)\n",
    "print 'Accuracy: {}'.format(accuracy)"
   ]
  },
  {
   "cell_type": "code",
   "execution_count": 174,
   "metadata": {
    "collapsed": false
   },
   "outputs": [
    {
     "name": "stdout",
     "output_type": "stream",
     "text": [
      "Recall: 0.653293945747\n",
      "===========================\n",
      "Precision: 0.972664932608\n",
      "===========================\n",
      "Accuracy: 0.96169\n"
     ]
    }
   ],
   "source": [
    "# 后30万做test\n",
    "y_pred = xgb_best.predict(X_test)\n",
    "recall = recall_score(y_test, y_pred, average='binary')\n",
    "print 'Recall: {}'.format(recall)\n",
    "print '==========================='\n",
    "precision = precision_score(y_test, y_pred, average='binary')\n",
    "print 'Precision: {}'.format(precision)\n",
    "print '==========================='\n",
    "accuracy = accuracy_score(y_test, y_pred)\n",
    "print 'Accuracy: {}'.format(accuracy)"
   ]
  },
  {
   "cell_type": "code",
   "execution_count": null,
   "metadata": {
    "collapsed": true
   },
   "outputs": [],
   "source": [
    "data = data.iloc[20*10**4:50*10**4]\n",
    "y_test = data['cancel_flag']\n",
    "data.drop('cancel_flag',axis=1,inplace=True)\n",
    "X_test = data\n",
    "X_test.drop('user_id',axis=1,inplace=True)\n",
    "y_pred = xgb_best.predict(X_test)\n",
    "recall = recall_score(y_test, y_pred, average='binary')\n",
    "print 'Recall: {}'.format(recall)\n",
    "print '==========================='\n",
    "precision = precision_score(y_test, y_pred, average='binary')\n",
    "print 'Precision: {}'.format(precision)\n",
    "print '==========================='\n",
    "accuracy = accuracy_score(y_test, y_pred)\n",
    "print 'Accuracy: {}'.format(accuracy)"
   ]
  },
  {
   "cell_type": "code",
   "execution_count": 175,
   "metadata": {
    "collapsed": false
   },
   "outputs": [
    {
     "name": "stdout",
     "output_type": "stream",
     "text": [
      "reg_age: 0.11874114722\n",
      "order_all_weight: 0.0901952311397\n",
      "after_prefr_amount: 0.0747059211135\n",
      "rev_addr_town_id: 0.0718112960458\n",
      "no_prefr_total_amount: 0.0704409703612\n",
      "delv_center_num: 0.0564143620431\n",
      "total_offer_amount: 0.0414793379605\n",
      "user_age: 0.0412483848631\n",
      "promotion_discount_amount: 0.0272371750325\n",
      "subd_num: 0.0251893829554\n",
      "ord_proc_tm-last_update_tm_diff: 0.0211245920509\n",
      "user_lv_cd: 0.0183223504573\n",
      "vertical_web_type_cd: 0.0182453654706\n",
      "reg_user_type_cd: 0.0177372675389\n",
      "pay_tm-ord_proc_tm_diff: 0.0145347043872\n",
      "member_reg_gender: 0.013056599535\n",
      "211_ord_flag: 0.01216357667\n",
      "sku_offer_amount: 0.0121327834204\n",
      "sale_ord_type_cd: 0.0107470592484\n",
      "ord_syn_status_cd: 0.00997721217573\n",
      "ord_proc_tm-check_account_tm_diff: 0.00970006734133\n",
      "total_shipping_charge: 0.00970006734133\n",
      "pay_tm-last_update_tm_diff: 0.00968467071652\n",
      "android: 0.00926895346493\n",
      "campus_user_flag: 0.00909958779812\n",
      "pay_discount_amount: 0.00882244296372\n",
      "check_account_tm-last_update_tm_diff: 0.00726735219359\n",
      "apple: 0.00720576476306\n",
      "ord_proc_tm-print_tm_diff: 0.00700560444966\n",
      "user_actual_pay_amount: 0.00646671187133\n",
      "ord_proc_tm-ord_complete_tm_diff: 0.00642052106559\n",
      "split_status_cd: 0.00638972735032\n",
      "ord_create_user_lv_cd: 0.00583543768153\n",
      "full_rebate_offer_amount: 0.00582004059106\n",
      "pay_tm-ord_complete_tm_diff: 0.00520416349173\n",
      "province_equal: 0.00511178188026\n",
      "m: 0.00458828592673\n",
      "ord_proc_tm-ship_sorting_tm_diff: 0.00443431688473\n",
      "dq_and_jq_pay_amount: 0.00441891979426\n",
      "item_original_amount: 0.00437272898853\n",
      "city_equal: 0.00435733189806\n",
      "check_account_tm-ord_complete_tm_diff: 0.00375685165636\n",
      "package_tm-out_wh_tm_diff: 0.00367986690253\n",
      "ord_proc_tm-out_wh_tm_diff: 0.00346430996433\n",
      "pay_tm-ship_sorting_tm_diff: 0.00335653149523\n",
      "print_tm-last_update_tm_diff: 0.00323335593566\n",
      "ord_complete_tm-last_update_tm_diff: 0.0031101803761\n",
      "sale_ord_cate_cd: 0.0031101803761\n",
      "pay_tm-check_account_tm_diff: 0.00304859271273\n",
      "point: 0.0029716079589\n",
      "====================================================\n",
      "Top 50 Cumulative Importance: 0.936410675524\n"
     ]
    }
   ],
   "source": [
    "print_impor(xgb_best,X_train)"
   ]
  },
  {
   "cell_type": "code",
   "execution_count": 33,
   "metadata": {
    "collapsed": false
   },
   "outputs": [],
   "source": [
    "import pickle\n",
    "pickle.dump(xgb_best, open(\"pima.pickle.dat\", \"wb\"))"
   ]
  },
  {
   "cell_type": "code",
   "execution_count": 35,
   "metadata": {
    "collapsed": false
   },
   "outputs": [],
   "source": [
    "import pickle\n",
    "loaded_model = pickle.load(open(\"pima.pickle.dat\", \"rb\"))\n",
    "# make predictions for test data\n",
    "y_pred = loaded_model.predict(X_test)"
   ]
  },
  {
   "cell_type": "markdown",
   "metadata": {},
   "source": [
    "++++++++++++++++++++++++++++++++++++++++++++++++++++++++++++++"
   ]
  },
  {
   "cell_type": "code",
   "execution_count": 64,
   "metadata": {
    "collapsed": true
   },
   "outputs": [],
   "source": [
    "import findspark\n",
    "findspark.init()\n",
    "import pyspark\n",
    "sc = pyspark.SparkContext()\n",
    "from pyspark.sql import SQLContext\n",
    "from pyspark.sql.types import *\n",
    "from pyspark.mllib.tree import RandomForest, RandomForestModel\n",
    "from pyspark.mllib.util import MLUtils\n",
    "from pyspark.sql import functions as F\n",
    "from pyspark.sql.functions import col, count, sum\n",
    "from pyspark.sql.functions import *\n",
    "from pyspark.sql import functions as F\n",
    "from pyspark.sql.types import *\n",
    "\n",
    "\n",
    "sqlContext = SQLContext(sc)"
   ]
  },
  {
   "cell_type": "code",
   "execution_count": 67,
   "metadata": {
    "collapsed": true
   },
   "outputs": [],
   "source": [
    "from __future__ import division\n",
    "from collections import Counter\n",
    "import pandas as pd\n",
    "import numpy as np\n",
    "import matplotlib.dates as dates\n",
    "\n",
    "import datetime\n",
    "from matplotlib import pyplot as plt\n",
    "from sklearn.model_selection import train_test_split\n",
    "import os\n",
    "import time\n",
    "from datetime import date, timedelta as td\n",
    "import pickle\n",
    "%matplotlib inline"
   ]
  },
  {
   "cell_type": "code",
   "execution_count": 68,
   "metadata": {
    "collapsed": true
   },
   "outputs": [],
   "source": [
    "from splearn.preprocessing import SparkLabelEncoder\n",
    "from pyspark.ml.feature import StringIndexer\n",
    "from pyspark.sql.functions import col\n",
    "from pyspark.sql.functions import *\n",
    "from pyspark.sql.functions import datediff, to_date, lit"
   ]
  },
  {
   "cell_type": "code",
   "execution_count": 244,
   "metadata": {
    "collapsed": true
   },
   "outputs": [],
   "source": [
    "from datetime import datetime\n",
    "from pyspark.sql.functions import col, udf\n",
    "from pyspark.sql.types import DateType\n",
    "from pyspark.sql.functions import monotonically_increasing_id\n",
    "from sklearn.preprocessing import LabelEncoder\n",
    "from pyspark.sql.functions import split, col\n",
    "import datetime"
   ]
  },
  {
   "cell_type": "code",
   "execution_count": 227,
   "metadata": {
    "collapsed": true
   },
   "outputs": [],
   "source": [
    "from pyspark.ml import Pipeline\n",
    "from pyspark.ml.classification import RandomForestClassifier as RF\n",
    "from pyspark.ml.classification import GBTClassifier\n",
    "\n",
    "from pyspark.ml.feature import StringIndexer, VectorIndexer, VectorAssembler, SQLTransformer\n",
    "from pyspark.ml.evaluation import MulticlassClassificationEvaluator, BinaryClassificationEvaluator\n",
    "from pyspark.ml.tuning import CrossValidator, ParamGridBuilder"
   ]
  },
  {
   "cell_type": "code",
   "execution_count": 242,
   "metadata": {
    "collapsed": false
   },
   "outputs": [
    {
     "name": "stdout",
     "output_type": "stream",
     "text": [
      "63.5126036444\n"
     ]
    }
   ],
   "source": [
    "start = time.clock()\n",
    "data = sqlContext.read.load('D:/jd intern/oneday.csv', \n",
    "                            format='com.databricks.spark.csv', \n",
    "                            header='true', \n",
    "                            inferSchema='true')\n",
    "print time.clock() - start"
   ]
  },
  {
   "cell_type": "code",
   "execution_count": 245,
   "metadata": {
    "collapsed": false
   },
   "outputs": [
    {
     "name": "stdout",
     "output_type": "stream",
     "text": [
      "pay_tm done\n",
      "ord_proc_tm done\n",
      "ord_cancel_tm done\n",
      "print_tm done\n",
      "package_tm done\n",
      "out_wh_tm done\n",
      "ship_sorting_tm done\n",
      "check_account_tm done\n",
      "ord_complete_tm done\n",
      "last_update_tm done\n",
      "sorting_center_pop_rev_tm done\n"
     ]
    }
   ],
   "source": [
    "\n",
    "# reg_user_type_cd\n",
    "data = data.withColumn('reg_user_type_cd', F.when(data['reg_user_type_cd'] == 'Z', -1).otherwise(data['reg_user_type_cd']))\n",
    "data = data.withColumn(\"reg_user_type_cd\", data[\"reg_user_type_cd\"].cast(IntegerType()))\n",
    "# vat_invoice_flag\n",
    "indexer = StringIndexer(inputCol=\"vat_invoice_flag\", outputCol=\"vat_invoice_flagIndex\") \n",
    "indexed = indexer.fit(data).transform(data) \n",
    "\n",
    "drop_list = [\"vat_invoice_flag\"]\n",
    "indexed = indexed.select([column for column in indexed.columns if column not in drop_list])\n",
    "#indexed = indexed.drop('vat_invoice_flag')\n",
    "\n",
    "mapping = {'vat_invoice_flagIndex':'vat_invoice_flag'}\n",
    "data = indexed.select([col(c).alias(mapping.get(c, c)) for c in indexed.columns])\n",
    "\n",
    "data = data.drop('sorting_tm')\n",
    "\n",
    "tm_col = []\n",
    "for col1 in data.columns:\n",
    "    if '_tm' in col1 and col1 != 'user_reg_tm' and col1 != 'ord_tm':\n",
    "        tm_col.append(col1)\n",
    "for i in xrange(len(tm_col)):\n",
    "    try:\n",
    "        col_name = tm_col[i]\n",
    "        data = data.withColumn(col_name, data[col_name].cast(StringType()))\n",
    "        data = data.withColumn(\"test\", split(col(col_name),\" \").cast(\"array<String>\")) \\\n",
    "                    .withColumn(\"time\", split(col(\"test\")[1],\":\").cast(\"array<int>\")) \\\n",
    "                    .withColumn(\"minute\", col('time')[1].cast(IntegerType())) \\\n",
    "                    .withColumn(\"sec\", col('time')[2].cast(IntegerType())) \\\n",
    "                    .withColumn(col_name, col('minute') * 60 + col('sec'))\n",
    "        drop_col = ['test','minute','sec','time'] \n",
    "        for col1 in drop_col:\n",
    "            data = data.drop(col1)\n",
    "        print '{} done'.format(col_name)\n",
    "    except Exception as e:\n",
    "        print i\n",
    "\n",
    "# name_col\n",
    "name_col = filter(lambda x: '_name' in x, data.columns)\n",
    "data = data.select([column for column in data.columns if column not in name_col])\n",
    "\n",
    "def label(data, col):\n",
    "    mask = pd.notnull(data[col])\n",
    "    le = LabelEncoder()\n",
    "    le.fit(data[col][mask])\n",
    "    data[col][mask] = le.transform(data[col][mask])\n",
    "    data[col] = pd.to_numeric(data[col],errors='coerce')\n",
    "\n",
    "start = time.clock()\n",
    "\"\"\"\n",
    "need_label = ['carry_bill_id', 'place_ord_ip']\n",
    "for col in need_label:\n",
    "    a = data.select(col).toPandas()\n",
    "    label(a, col)\n",
    "    \n",
    "    spark_df = sqlContext.createDataFrame(a)\n",
    "    spark_df = spark_df.withColumn('id', monotonically_increasing_id())\n",
    "    data = data.withColumn('id', monotonically_increasing_id())\n",
    "    data = data.drop(col)\n",
    "    data = data.join(spark_df, data.id == spark_df.id, 'inner').drop(spark_df.id)\n",
    "    data = data.drop(data.id)\n",
    "    print '{} Done.'.format(col)\n",
    "    print 'Elapsed: {}'.format(time.clock() - start)\n",
    "\"\"\"\n",
    "\n",
    "need_label = ['carry_bill_id', 'place_ord_ip']\n",
    "for col1 in need_label:\n",
    "    data = data.drop(col1)\n",
    "\n",
    "# user age\n",
    "data = data.withColumn('user_age',\n",
    "                      datediff(to_date(lit('2017-05-14')),\n",
    "                               to_date(unix_timestamp('reg_birthday', \"yyyy-MM-dd\").cast(\"timestamp\"))))\n",
    "data = data.drop('reg_birthday')\n",
    "# cancel col\n",
    "cancel_col = filter(lambda x:'cancel' in x and x != 'cancel_flag', data.columns)\n",
    "for col in cancel_col:\n",
    "    data = data.drop(col)\n",
    "\n",
    "# 一列的值一样\n",
    "same_col = ['ord_dt','dp','dt',\n",
    "            'sale_ord_cancel_type_cd','ord_cancel_rsn_cd','carrier_tel',\n",
    "            'user_log_acct']\n",
    "\n",
    "data = data.withColumn('reg_age',\n",
    "                      datediff(to_date(lit('2017-05-14')),\n",
    "                               to_date(unix_timestamp('user_reg_tm', \"yyyy-MM-dd\").cast(\"timestamp\"))))\n",
    "data = data.drop('user_reg_tm')\n",
    "\n",
    "def trans_ord_tm(v):\n",
    "    return v.hour * 3600 + v.minute * 60 + v.second\n",
    "    \n",
    "udf_trans_ord_tm = udf(trans_ord_tm, IntegerType())\n",
    "data = data.withColumn('ord_tm', udf_trans_ord_tm(data['ord_tm']))\n",
    "\n",
    "# 删除一列的值一样\n",
    "for col in same_col:\n",
    "    data = data.drop(col)\n",
    "\n",
    "\"\"\"\n",
    "start = time.clock()\n",
    "col = 'client'\n",
    "a = data.select(col).toPandas()\n",
    "label(a, col)\n",
    "\n",
    "\n",
    "spark_df = sqlContext.createDataFrame(a)\n",
    "spark_df = spark_df.withColumn('id', monotonically_increasing_id())\n",
    "data = data.withColumn('id', monotonically_increasing_id())\n",
    "data = data.drop(col)\n",
    "data = data.join(spark_df, data.id == spark_df.id, 'inner').drop(spark_df.id)\n",
    "data = data.drop(data.id)\n",
    "print '{} Done.'.format(col)\n",
    "print 'Elapsed: {}'.format(time.clock() - start)\n",
    "\"\"\"\n",
    "\n",
    "\"\"\"\n",
    "col = 'src_desc'\n",
    "a = data.select(col).toPandas()\n",
    "dummies = pd.get_dummies(a[col])\n",
    "a = pd.concat([a,dummies],axis=1)\n",
    "a.drop(col,axis=1,inplace=True)\n",
    "\n",
    "spark_df = sqlContext.createDataFrame(a)\n",
    "spark_df = spark_df.withColumn('id', monotonically_increasing_id())\n",
    "data = data.withColumn('id', monotonically_increasing_id())\n",
    "data = data.drop(col)\n",
    "data = data.join(spark_df, data.id == spark_df.id, 'inner').drop(spark_df.id)\n",
    "data = data.drop(data.id)\n",
    "print '{} Done.'.format(col)\n",
    "print 'Elapsed: {}'.format(time.clock() - start)\n",
    "\"\"\"\n",
    "need_label = ['carry_bill_id','place_ord_ip','src_desc','client','sorting_center_pop_rev_tm']\n",
    "for col1 in need_label:\n",
    "    data = data.drop(col1)\n",
    "\n",
    "data = data.drop('client_vert')\n",
    "\n",
    "# drop相关系数大的col\n",
    "coef_col = [ 'ord_status_cd_2',\n",
    "             'split_status_cd',\n",
    "             'ord_syn_status_cd',\n",
    "             'ord_status_cd_1',\n",
    "             'campus_sta_flag',\n",
    "             'pre_sorting_flag',\n",
    "             'valid_flag' ]\n",
    "\n",
    "for col in coef_col:\n",
    "    data = data.drop(col)\n",
    "\n",
    "# drop 'ord' col\n",
    "ord_col = filter(lambda x: 'ord' in x, data.columns)\n",
    "for col in ord_col:\n",
    "    data = data.drop(col)\n",
    "\n",
    "# drop 'id' col\n",
    "id_col = ['user_id','carry_bill_id','store_id','delv_station_id','check_account_tm','last_update_tm']\n",
    "for col in id_col:\n",
    "    data = data.drop(col)\n",
    "\n",
    "# drop Nan col\n",
    "nan_col = ['school_agent_acct_num',\n",
    "             'pay_instalments_fee',\n",
    "             'pay_instalments_periods',\n",
    "             'pay_instalments_rate',\n",
    "             'sorting_tm',\n",
    "             'rev_addr',\n",
    "             'cnee_fixed_tel',\n",
    "             'cnee_mobile_num',\n",
    "             'cnee_mail_addr',\n",
    "             'user_reg_addr',\n",
    "             'corp',\n",
    "             'user_point',\n",
    "             'chan_client_type_cd',\n",
    "             'rev_zip']\n",
    "for col1 in nan_col:\n",
    "    data = data.drop(col1)\n",
    "\n",
    "obj_col = [item[0] for item in data.dtypes if item[1] == 'string']\n",
    "for col1 in obj_col:\n",
    "    data = data.withColumn(col1, data[col1].cast(IntegerType()))\n"
   ]
  },
  {
   "cell_type": "code",
   "execution_count": 301,
   "metadata": {
    "collapsed": false
   },
   "outputs": [
    {
     "data": {
      "text/plain": [
       "(set(), set())"
      ]
     },
     "execution_count": 301,
     "metadata": {},
     "output_type": "execute_result"
    }
   ],
   "source": [
    "tmp_test = data.limit(500000).toPandas()\n",
    "original_data = pd.read_csv('train.csv')\n",
    "original_data.drop('sorting_center_pop_rev_tm',axis=1,inplace=True)\n",
    "set(original_data.columns) - set(tmp_test.columns), set(tmp_test.columns)-set(original_data.columns) "
   ]
  },
  {
   "cell_type": "code",
   "execution_count": 302,
   "metadata": {
    "collapsed": true
   },
   "outputs": [],
   "source": [
    "temp_y_test = tmp_test.cancel_flag\n",
    "tmp_test.drop('cancel_flag',axis=1,inplace=True)\n",
    "temp_X_test = tmp_test\n",
    "\n",
    "#print_scoring(xgb_best, temp_X_test, temp_y_test)"
   ]
  },
  {
   "cell_type": "code",
   "execution_count": 303,
   "metadata": {
    "collapsed": false,
    "scrolled": true
   },
   "outputs": [
    {
     "name": "stdout",
     "output_type": "stream",
     "text": [
      "Recall: 0.0127252038688\n",
      "===========================\n",
      "Precision: 0.320592451027\n",
      "===========================\n",
      "Accuracy: 0.893038\n"
     ]
    }
   ],
   "source": [
    "y_pred = xgb_best.predict(temp_X_test.values)\n",
    "recall = recall_score(temp_y_test, y_pred, average='binary')\n",
    "print 'Recall: {}'.format(recall)\n",
    "print '==========================='\n",
    "precision = precision_score(temp_y_test, y_pred, average='binary')\n",
    "print 'Precision: {}'.format(precision)\n",
    "print '==========================='\n",
    "accuracy = accuracy_score(temp_y_test, y_pred)\n",
    "print 'Accuracy: {}'.format(accuracy)"
   ]
  },
  {
   "cell_type": "code",
   "execution_count": 311,
   "metadata": {
    "collapsed": false
   },
   "outputs": [
    {
     "name": "stdout",
     "output_type": "stream",
     "text": [
      "after_prefr_amount: 0.0717571899295\n",
      "reg_age: 0.061045113951\n",
      "no_prefr_total_amount: 0.0576804243028\n",
      "rev_addr_county_id: 0.0480670183897\n",
      "pay_tm: 0.0462130047381\n",
      "user_age: 0.0441529899836\n",
      "vertical_web_type_cd: 0.0440156571567\n",
      "delv_center_num: 0.0412689708173\n",
      "rev_addr_city_id: 0.0381789468229\n",
      "total_offer_amount: 0.0305568911135\n",
      "subd_num: 0.0297328848392\n",
      "rev_addr_town_id: 0.0286342091858\n",
      "user_actual_pay_amount: 0.0284282080829\n",
      "sku_offer_amount: 0.0280848722905\n",
      "out_wh_tm: 0.025818856433\n",
      "print_tm: 0.0232095029205\n",
      "rev_addr_province_id: 0.0232095029205\n",
      "package_tm: 0.0225228313357\n",
      "ship_sorting_tm: 0.0207374859601\n",
      "pay_mode_cd: 0.0200508143753\n",
      "user_site_city_id: 0.0182654671371\n",
      "user_site_province_id: 0.0181281324476\n",
      "pay_discount_amount: 0.0175101291388\n",
      "user_site_county_id: 0.0175101291388\n",
      "user_lv_cd: 0.0169607903808\n",
      "reg_user_type_cd: 0.0169607903808\n",
      "promotion_discount_amount: 0.0164801217616\n",
      "dq_and_jq_pay_amount: 0.0156561154872\n",
      "total_shipping_charge: 0.0150381103158\n",
      "easy_pur_flag: 0.0142827713862\n",
      "full_rebate_offer_amount: 0.0138021009043\n",
      "print_status_cd: 0.0109180798754\n",
      "member_reg_gender: 0.00789672415704\n",
      "worldwide_tax_amount: 0.00556204095483\n",
      "union_coupon_pay_amount: 0.00480670202523\n",
      "item_original_amount: 0.00446336623281\n",
      "pop_shop_lim_sku_jq_pay_amount: 0.00446336623281\n",
      "self_carry_status_cd: 0.00425736466423\n",
      "campus_user_flag: 0.00425736466423\n",
      "other_offer: 0.0039140288718\n",
      "vat_invoice_flag: 0.00363935995847\n",
      "acct_bal_pay_amount: 0.00336469127797\n",
      "gift_cps_pay_amount: 0.00288402126171\n",
      "point: 0.00288402126171\n",
      "user_site_school_id: 0.00267801969312\n",
      "suit_offer_amount: 0.00240335101262\n",
      "delv_way_cd: 0.0023346839007\n",
      "actual_shipping_charge: 0.00226601655595\n",
      "ps_delv_way_cd: 0.00212868233211\n",
      "dq_pay_amount: 0.00199134787545\n",
      "====================================================\n"
     ]
    },
    {
     "ename": "AttributeError",
     "evalue": "'numpy.ndarray' object has no attribute '_get_object_id'",
     "output_type": "error",
     "traceback": [
      "\u001b[0;31m---------------------------------------------------------------------------\u001b[0m",
      "\u001b[0;31mAttributeError\u001b[0m                            Traceback (most recent call last)",
      "\u001b[0;32m<ipython-input-311-23802b0472ba>\u001b[0m in \u001b[0;36m<module>\u001b[0;34m()\u001b[0m\n\u001b[0;32m----> 1\u001b[0;31m \u001b[0mprint_impor\u001b[0m\u001b[1;33m(\u001b[0m\u001b[0mxgb_best\u001b[0m\u001b[1;33m,\u001b[0m\u001b[0mX_train\u001b[0m\u001b[1;33m)\u001b[0m\u001b[1;33m\u001b[0m\u001b[0m\n\u001b[0m",
      "\u001b[0;32m<ipython-input-283-71aaaa267ea3>\u001b[0m in \u001b[0;36mprint_impor\u001b[0;34m(model, X_train, top)\u001b[0m\n\u001b[1;32m      6\u001b[0m         \u001b[1;32mprint\u001b[0m \u001b[1;34m'{}: {}'\u001b[0m\u001b[1;33m.\u001b[0m\u001b[0mformat\u001b[0m\u001b[1;33m(\u001b[0m\u001b[0mX_train\u001b[0m\u001b[1;33m.\u001b[0m\u001b[0mcolumns\u001b[0m\u001b[1;33m[\u001b[0m\u001b[0mindices\u001b[0m\u001b[1;33m]\u001b[0m\u001b[1;33m[\u001b[0m\u001b[1;33m:\u001b[0m\u001b[1;33m:\u001b[0m\u001b[1;33m-\u001b[0m\u001b[1;36m1\u001b[0m\u001b[1;33m]\u001b[0m\u001b[1;33m[\u001b[0m\u001b[0mi\u001b[0m\u001b[1;33m]\u001b[0m\u001b[1;33m,\u001b[0m \u001b[0mimportances\u001b[0m\u001b[1;33m[\u001b[0m\u001b[0mindices\u001b[0m\u001b[1;33m]\u001b[0m\u001b[1;33m[\u001b[0m\u001b[1;33m:\u001b[0m\u001b[1;33m:\u001b[0m\u001b[1;33m-\u001b[0m\u001b[1;36m1\u001b[0m\u001b[1;33m]\u001b[0m\u001b[1;33m[\u001b[0m\u001b[0mi\u001b[0m\u001b[1;33m]\u001b[0m\u001b[1;33m)\u001b[0m\u001b[1;33m\u001b[0m\u001b[0m\n\u001b[1;32m      7\u001b[0m     \u001b[1;32mprint\u001b[0m \u001b[1;34m'===================================================='\u001b[0m\u001b[1;33m\u001b[0m\u001b[0m\n\u001b[0;32m----> 8\u001b[0;31m     \u001b[1;32mprint\u001b[0m \u001b[1;34m'Top {} Cumulative Importance: {}'\u001b[0m\u001b[1;33m.\u001b[0m\u001b[0mformat\u001b[0m\u001b[1;33m(\u001b[0m\u001b[0mtop\u001b[0m\u001b[1;33m,\u001b[0m\u001b[0msum\u001b[0m\u001b[1;33m(\u001b[0m\u001b[0mimportances\u001b[0m\u001b[1;33m[\u001b[0m\u001b[0mindices\u001b[0m\u001b[1;33m]\u001b[0m\u001b[1;33m[\u001b[0m\u001b[1;33m:\u001b[0m\u001b[1;33m:\u001b[0m\u001b[1;33m-\u001b[0m\u001b[1;36m1\u001b[0m\u001b[1;33m]\u001b[0m\u001b[1;33m[\u001b[0m\u001b[1;33m:\u001b[0m\u001b[1;36m50\u001b[0m\u001b[1;33m]\u001b[0m\u001b[1;33m)\u001b[0m\u001b[1;33m)\u001b[0m\u001b[1;33m\u001b[0m\u001b[0m\n\u001b[0m",
      "\u001b[0;32mD:\\spark-2.0.2-bin-hadoop2.7\\python\\pyspark\\sql\\functions.pyc\u001b[0m in \u001b[0;36m_\u001b[0;34m(col)\u001b[0m\n\u001b[1;32m     37\u001b[0m     \u001b[1;32mdef\u001b[0m \u001b[0m_\u001b[0m\u001b[1;33m(\u001b[0m\u001b[0mcol\u001b[0m\u001b[1;33m)\u001b[0m\u001b[1;33m:\u001b[0m\u001b[1;33m\u001b[0m\u001b[0m\n\u001b[1;32m     38\u001b[0m         \u001b[0msc\u001b[0m \u001b[1;33m=\u001b[0m \u001b[0mSparkContext\u001b[0m\u001b[1;33m.\u001b[0m\u001b[0m_active_spark_context\u001b[0m\u001b[1;33m\u001b[0m\u001b[0m\n\u001b[0;32m---> 39\u001b[0;31m         \u001b[0mjc\u001b[0m \u001b[1;33m=\u001b[0m \u001b[0mgetattr\u001b[0m\u001b[1;33m(\u001b[0m\u001b[0msc\u001b[0m\u001b[1;33m.\u001b[0m\u001b[0m_jvm\u001b[0m\u001b[1;33m.\u001b[0m\u001b[0mfunctions\u001b[0m\u001b[1;33m,\u001b[0m \u001b[0mname\u001b[0m\u001b[1;33m)\u001b[0m\u001b[1;33m(\u001b[0m\u001b[0mcol\u001b[0m\u001b[1;33m.\u001b[0m\u001b[0m_jc\u001b[0m \u001b[1;32mif\u001b[0m \u001b[0misinstance\u001b[0m\u001b[1;33m(\u001b[0m\u001b[0mcol\u001b[0m\u001b[1;33m,\u001b[0m \u001b[0mColumn\u001b[0m\u001b[1;33m)\u001b[0m \u001b[1;32melse\u001b[0m \u001b[0mcol\u001b[0m\u001b[1;33m)\u001b[0m\u001b[1;33m\u001b[0m\u001b[0m\n\u001b[0m\u001b[1;32m     40\u001b[0m         \u001b[1;32mreturn\u001b[0m \u001b[0mColumn\u001b[0m\u001b[1;33m(\u001b[0m\u001b[0mjc\u001b[0m\u001b[1;33m)\u001b[0m\u001b[1;33m\u001b[0m\u001b[0m\n\u001b[1;32m     41\u001b[0m     \u001b[0m_\u001b[0m\u001b[1;33m.\u001b[0m\u001b[0m__name__\u001b[0m \u001b[1;33m=\u001b[0m \u001b[0mname\u001b[0m\u001b[1;33m\u001b[0m\u001b[0m\n",
      "\u001b[0;32mD:\\spark-2.0.2-bin-hadoop2.7\\python\\lib\\py4j-0.10.3-src.zip\\py4j\\java_gateway.py\u001b[0m in \u001b[0;36m__call__\u001b[0;34m(self, *args)\u001b[0m\n\u001b[1;32m   1122\u001b[0m \u001b[1;33m\u001b[0m\u001b[0m\n\u001b[1;32m   1123\u001b[0m     \u001b[1;32mdef\u001b[0m \u001b[0m__call__\u001b[0m\u001b[1;33m(\u001b[0m\u001b[0mself\u001b[0m\u001b[1;33m,\u001b[0m \u001b[1;33m*\u001b[0m\u001b[0margs\u001b[0m\u001b[1;33m)\u001b[0m\u001b[1;33m:\u001b[0m\u001b[1;33m\u001b[0m\u001b[0m\n\u001b[0;32m-> 1124\u001b[0;31m         \u001b[0margs_command\u001b[0m\u001b[1;33m,\u001b[0m \u001b[0mtemp_args\u001b[0m \u001b[1;33m=\u001b[0m \u001b[0mself\u001b[0m\u001b[1;33m.\u001b[0m\u001b[0m_build_args\u001b[0m\u001b[1;33m(\u001b[0m\u001b[1;33m*\u001b[0m\u001b[0margs\u001b[0m\u001b[1;33m)\u001b[0m\u001b[1;33m\u001b[0m\u001b[0m\n\u001b[0m\u001b[1;32m   1125\u001b[0m \u001b[1;33m\u001b[0m\u001b[0m\n\u001b[1;32m   1126\u001b[0m         \u001b[0mcommand\u001b[0m \u001b[1;33m=\u001b[0m \u001b[0mproto\u001b[0m\u001b[1;33m.\u001b[0m\u001b[0mCALL_COMMAND_NAME\u001b[0m \u001b[1;33m+\u001b[0m\u001b[0;31m\\\u001b[0m\u001b[1;33m\u001b[0m\u001b[0m\n",
      "\u001b[0;32mD:\\spark-2.0.2-bin-hadoop2.7\\python\\lib\\py4j-0.10.3-src.zip\\py4j\\java_gateway.py\u001b[0m in \u001b[0;36m_build_args\u001b[0;34m(self, *args)\u001b[0m\n\u001b[1;32m   1092\u001b[0m \u001b[1;33m\u001b[0m\u001b[0m\n\u001b[1;32m   1093\u001b[0m         args_command = \"\".join(\n\u001b[0;32m-> 1094\u001b[0;31m             [get_command_part(arg, self.pool) for arg in new_args])\n\u001b[0m\u001b[1;32m   1095\u001b[0m \u001b[1;33m\u001b[0m\u001b[0m\n\u001b[1;32m   1096\u001b[0m         \u001b[1;32mreturn\u001b[0m \u001b[0margs_command\u001b[0m\u001b[1;33m,\u001b[0m \u001b[0mtemp_args\u001b[0m\u001b[1;33m\u001b[0m\u001b[0m\n",
      "\u001b[0;32mD:\\spark-2.0.2-bin-hadoop2.7\\python\\lib\\py4j-0.10.3-src.zip\\py4j\\protocol.py\u001b[0m in \u001b[0;36mget_command_part\u001b[0;34m(parameter, python_proxy_pool)\u001b[0m\n\u001b[1;32m    287\u001b[0m             \u001b[0mcommand_part\u001b[0m \u001b[1;33m+=\u001b[0m \u001b[1;34m\";\"\u001b[0m \u001b[1;33m+\u001b[0m \u001b[0minterface\u001b[0m\u001b[1;33m\u001b[0m\u001b[0m\n\u001b[1;32m    288\u001b[0m     \u001b[1;32melse\u001b[0m\u001b[1;33m:\u001b[0m\u001b[1;33m\u001b[0m\u001b[0m\n\u001b[0;32m--> 289\u001b[0;31m         \u001b[0mcommand_part\u001b[0m \u001b[1;33m=\u001b[0m \u001b[0mREFERENCE_TYPE\u001b[0m \u001b[1;33m+\u001b[0m \u001b[0mparameter\u001b[0m\u001b[1;33m.\u001b[0m\u001b[0m_get_object_id\u001b[0m\u001b[1;33m(\u001b[0m\u001b[1;33m)\u001b[0m\u001b[1;33m\u001b[0m\u001b[0m\n\u001b[0m\u001b[1;32m    290\u001b[0m \u001b[1;33m\u001b[0m\u001b[0m\n\u001b[1;32m    291\u001b[0m     \u001b[0mcommand_part\u001b[0m \u001b[1;33m+=\u001b[0m \u001b[1;34m\"\\n\"\u001b[0m\u001b[1;33m\u001b[0m\u001b[0m\n",
      "\u001b[0;31mAttributeError\u001b[0m: 'numpy.ndarray' object has no attribute '_get_object_id'"
     ]
    }
   ],
   "source": [
    "print_impor(xgb_best,X_train)"
   ]
  },
  {
   "cell_type": "markdown",
   "metadata": {},
   "source": [
    "++++++++++++++++++++++++++++++++++++++++++++++++++++++++++++++"
   ]
  },
  {
   "cell_type": "code",
   "execution_count": null,
   "metadata": {
    "collapsed": true
   },
   "outputs": [],
   "source": [
    "print_scoring(model.best_estimator_,X_test,y_test)"
   ]
  },
  {
   "cell_type": "code",
   "execution_count": 33,
   "metadata": {
    "collapsed": false
   },
   "outputs": [
    {
     "name": "stdout",
     "output_type": "stream",
     "text": [
      "pay_tm: 0.0866967588663\n",
      "reg_age: 0.075411580503\n",
      "after_prefr_amount: 0.0617365911603\n",
      "vertical_web_type_cd: 0.0580191202462\n",
      "no_prefr_total_amount: 0.0508497096598\n",
      "rev_addr_county_id: 0.0491237379611\n",
      "rev_addr_city_id: 0.0398300588131\n",
      "sku_offer_amount: 0.039298992604\n",
      "delv_center_num: 0.0389006920159\n",
      "rev_addr_town_id: 0.0355815179646\n",
      "user_actual_pay_amount: 0.0346521511674\n",
      "out_wh_tm: 0.0310674458742\n",
      "print_tm: 0.0273499730974\n",
      "pay_mode_cd: 0.0273499730974\n",
      "user_site_city_id: 0.0265533719212\n",
      "total_offer_amount: 0.0258895382285\n",
      "ship_sorting_tm: 0.0252257045358\n",
      "user_lv_cd: 0.0211099311709\n",
      "user_site_province_id: 0.0209771636873\n",
      "user_site_county_id: 0.0209771636873\n",
      "rev_addr_province_id: 0.0193839613348\n",
      "user_age: 0.0191184282303\n",
      "reg_user_type_cd: 0.0167286247015\n",
      "pay_discount_amount: 0.0142060546204\n",
      "promotion_discount_amount: 0.0140732871369\n",
      "dq_and_jq_pay_amount: 0.0128783853725\n",
      "full_rebate_offer_amount: 0.0115507170558\n",
      "print_status_cd: 0.00995751470327\n",
      "subd_num: 0.00929368007928\n",
      "package_tm: 0.00916091352701\n",
      "sorting_center_pop_rev_tm: 0.00849707890302\n",
      "member_reg_gender: 0.00770047819242\n",
      "total_shipping_charge: 0.00730217760429\n",
      "dq_pay_amount: 0.00557620823383\n",
      "point: 0.00531067466363\n",
      "apple: 0.00451407348737\n",
      "jbean_pay_amount: 0.00451407348737\n",
      "campus_user_flag: 0.00345193850808\n",
      "android: 0.00305363791995\n",
      "other_offer: 0.00252257031389\n",
      "m: 0.00238980352879\n",
      "ps_delv_way_cd: 0.00159320235252\n",
      "easy_pur_flag: 0.00159320235252\n",
      "afs_ser_fee_amount: 0.00146043545101\n",
      "pop_shop_lim_sku_dq_pay_amount: 0.00132766866591\n",
      "acct_bal_pay_amount: 0.00132766866591\n",
      "item_original_amount: 0.00132766866591\n",
      "app: 0.000796601176262\n",
      "delv_way_cd: 0.000663834332954\n",
      "user_site_school_id: 0.000531067431439\n",
      "====================================================\n",
      "Top 50 Cumulative Importance: 0.998406806961\n"
     ]
    }
   ],
   "source": [
    "print_impor(model.best_estimator_,X_train)"
   ]
  },
  {
   "cell_type": "code",
   "execution_count": 111,
   "metadata": {
    "collapsed": false
   },
   "outputs": [
    {
     "data": {
      "image/png": "[encoded data removed]",
      "text/plain": [
       "<matplotlib.figure.Figure at 0xe8f9080>"
      ]
     },
     "metadata": {},
     "output_type": "display_data"
    }
   ],
   "source": [
    "importances = model.best_estimator_.feature_importances_\n",
    "indices = np.argsort(importances)\n",
    "plt.figure(figsize=(10,8))\n",
    "plt.title(\"XGB Feature importances\")\n",
    "plt.barh(range(X_train.shape[1]), importances[indices],\n",
    "           color=\"r\", align=\"center\")\n",
    "\n",
    "plt.yticks(range(X_train.shape[1]), X_train.columns[indices],rotation='horizontal')\n",
    "plt.ylim([-1, X_train.shape[1]])\n",
    "plt.show()"
   ]
  },
  {
   "cell_type": "markdown",
   "metadata": {},
   "source": [
    "### 2. RF "
   ]
  },
  {
   "cell_type": "code",
   "execution_count": 79,
   "metadata": {
    "collapsed": true
   },
   "outputs": [],
   "source": [
    "data = data.fillna(0)"
   ]
  },
  {
   "cell_type": "code",
   "execution_count": 81,
   "metadata": {
    "collapsed": false
   },
   "outputs": [
    {
     "name": "stdout",
     "output_type": "stream",
     "text": [
      "Fitting 5 folds for each of 5 candidates, totalling 25 fits\n",
      "[CV] n_estimators=50 .................................................\n"
     ]
    },
    {
     "name": "stderr",
     "output_type": "stream",
     "text": [
      "[Parallel(n_jobs=4)]: Done  42 tasks      | elapsed:    0.2s\n",
      "[Parallel(n_jobs=4)]: Done  50 out of  50 | elapsed:    0.2s finished\n",
      "[Parallel(n_jobs=4)]: Done  42 tasks      | elapsed:    0.0s\n",
      "[Parallel(n_jobs=4)]: Done  50 out of  50 | elapsed:    0.0s finished\n",
      "[Parallel(n_jobs=4)]: Done  42 tasks      | elapsed:    0.0s\n",
      "[Parallel(n_jobs=4)]: Done  50 out of  50 | elapsed:    0.0s finished\n",
      "[Parallel(n_jobs=1)]: Done   1 out of   1 | elapsed:    1.0s remaining:    0.0s\n"
     ]
    },
    {
     "name": "stdout",
     "output_type": "stream",
     "text": [
      "[CV] .................. n_estimators=50, score=0.976404, total=   0.7s\n",
      "[CV] n_estimators=50 .................................................\n"
     ]
    },
    {
     "name": "stderr",
     "output_type": "stream",
     "text": [
      "[Parallel(n_jobs=4)]: Done  42 tasks      | elapsed:    0.2s\n",
      "[Parallel(n_jobs=4)]: Done  50 out of  50 | elapsed:    0.2s finished\n",
      "[Parallel(n_jobs=4)]: Done  42 tasks      | elapsed:    0.0s\n",
      "[Parallel(n_jobs=4)]: Done  50 out of  50 | elapsed:    0.1s finished\n",
      "[Parallel(n_jobs=4)]: Done  42 tasks      | elapsed:    0.0s\n",
      "[Parallel(n_jobs=4)]: Done  50 out of  50 | elapsed:    0.0s finished\n",
      "[Parallel(n_jobs=1)]: Done   2 out of   2 | elapsed:    2.0s remaining:    0.0s\n"
     ]
    },
    {
     "name": "stdout",
     "output_type": "stream",
     "text": [
      "[CV] .................. n_estimators=50, score=0.979658, total=   0.7s\n",
      "[CV] n_estimators=50 .................................................\n"
     ]
    },
    {
     "name": "stderr",
     "output_type": "stream",
     "text": [
      "[Parallel(n_jobs=4)]: Done  42 tasks      | elapsed:    0.2s\n",
      "[Parallel(n_jobs=4)]: Done  50 out of  50 | elapsed:    0.2s finished\n",
      "[Parallel(n_jobs=4)]: Done  42 tasks      | elapsed:    0.0s\n",
      "[Parallel(n_jobs=4)]: Done  50 out of  50 | elapsed:    0.0s finished\n",
      "[Parallel(n_jobs=4)]: Done  42 tasks      | elapsed:    0.0s\n",
      "[Parallel(n_jobs=4)]: Done  50 out of  50 | elapsed:    0.0s finished\n",
      "[Parallel(n_jobs=1)]: Done   3 out of   3 | elapsed:    3.1s remaining:    0.0s\n"
     ]
    },
    {
     "name": "stdout",
     "output_type": "stream",
     "text": [
      "[CV] .................. n_estimators=50, score=0.979387, total=   0.7s\n",
      "[CV] n_estimators=50 .................................................\n"
     ]
    },
    {
     "name": "stderr",
     "output_type": "stream",
     "text": [
      "[Parallel(n_jobs=4)]: Done  42 tasks      | elapsed:    0.2s\n",
      "[Parallel(n_jobs=4)]: Done  50 out of  50 | elapsed:    0.2s finished\n",
      "[Parallel(n_jobs=4)]: Done  42 tasks      | elapsed:    0.0s\n",
      "[Parallel(n_jobs=4)]: Done  50 out of  50 | elapsed:    0.0s finished\n",
      "[Parallel(n_jobs=4)]: Done  42 tasks      | elapsed:    0.0s\n",
      "[Parallel(n_jobs=4)]: Done  50 out of  50 | elapsed:    0.0s finished\n",
      "[Parallel(n_jobs=1)]: Done   4 out of   4 | elapsed:    4.1s remaining:    0.0s\n"
     ]
    },
    {
     "name": "stdout",
     "output_type": "stream",
     "text": [
      "[CV] .................. n_estimators=50, score=0.974227, total=   0.7s\n",
      "[CV] n_estimators=50 .................................................\n"
     ]
    },
    {
     "name": "stderr",
     "output_type": "stream",
     "text": [
      "[Parallel(n_jobs=4)]: Done  42 tasks      | elapsed:    0.2s\n",
      "[Parallel(n_jobs=4)]: Done  50 out of  50 | elapsed:    0.2s finished\n",
      "[Parallel(n_jobs=4)]: Done  42 tasks      | elapsed:    0.0s\n",
      "[Parallel(n_jobs=4)]: Done  50 out of  50 | elapsed:    0.0s finished\n",
      "[Parallel(n_jobs=4)]: Done  42 tasks      | elapsed:    0.0s\n",
      "[Parallel(n_jobs=4)]: Done  50 out of  50 | elapsed:    0.0s finished\n",
      "[Parallel(n_jobs=1)]: Done   5 out of   5 | elapsed:    5.1s remaining:    0.0s\n"
     ]
    },
    {
     "name": "stdout",
     "output_type": "stream",
     "text": [
      "[CV] .................. n_estimators=50, score=0.978833, total=   0.7s\n",
      "[CV] n_estimators=80 .................................................\n"
     ]
    },
    {
     "name": "stderr",
     "output_type": "stream",
     "text": [
      "[Parallel(n_jobs=4)]: Done  42 tasks      | elapsed:    0.2s\n",
      "[Parallel(n_jobs=4)]: Done  80 out of  80 | elapsed:    0.4s finished\n",
      "[Parallel(n_jobs=4)]: Done  42 tasks      | elapsed:    0.0s\n",
      "[Parallel(n_jobs=4)]: Done  80 out of  80 | elapsed:    0.0s finished\n",
      "[Parallel(n_jobs=4)]: Done  42 tasks      | elapsed:    0.0s\n",
      "[Parallel(n_jobs=4)]: Done  80 out of  80 | elapsed:    0.0s finished\n",
      "[Parallel(n_jobs=1)]: Done   6 out of   6 | elapsed:    6.1s remaining:    0.0s\n"
     ]
    },
    {
     "name": "stdout",
     "output_type": "stream",
     "text": [
      "[CV] .................. n_estimators=80, score=0.976675, total=   0.7s\n",
      "[CV] n_estimators=80 .................................................\n"
     ]
    },
    {
     "name": "stderr",
     "output_type": "stream",
     "text": [
      "[Parallel(n_jobs=4)]: Done  42 tasks      | elapsed:    0.2s\n",
      "[Parallel(n_jobs=4)]: Done  80 out of  80 | elapsed:    0.4s finished\n",
      "[Parallel(n_jobs=4)]: Done  42 tasks      | elapsed:    0.0s\n",
      "[Parallel(n_jobs=4)]: Done  80 out of  80 | elapsed:    0.0s finished\n",
      "[Parallel(n_jobs=4)]: Done  42 tasks      | elapsed:    0.0s\n",
      "[Parallel(n_jobs=4)]: Done  80 out of  80 | elapsed:    0.0s finished\n",
      "[Parallel(n_jobs=1)]: Done   7 out of   7 | elapsed:    7.2s remaining:    0.0s\n"
     ]
    },
    {
     "name": "stdout",
     "output_type": "stream",
     "text": [
      "[CV] .................. n_estimators=80, score=0.978031, total=   0.7s\n",
      "[CV] n_estimators=80 .................................................\n"
     ]
    },
    {
     "name": "stderr",
     "output_type": "stream",
     "text": [
      "[Parallel(n_jobs=4)]: Done  42 tasks      | elapsed:    0.2s\n",
      "[Parallel(n_jobs=4)]: Done  80 out of  80 | elapsed:    0.4s finished\n",
      "[Parallel(n_jobs=4)]: Done  42 tasks      | elapsed:    0.0s\n",
      "[Parallel(n_jobs=4)]: Done  80 out of  80 | elapsed:    0.0s finished\n",
      "[Parallel(n_jobs=4)]: Done  42 tasks      | elapsed:    0.0s\n",
      "[Parallel(n_jobs=4)]: Done  80 out of  80 | elapsed:    0.0s finished\n"
     ]
    },
    {
     "name": "stdout",
     "output_type": "stream",
     "text": [
      "[CV] .................. n_estimators=80, score=0.979929, total=   0.8s\n",
      "[CV] n_estimators=80 .................................................\n"
     ]
    },
    {
     "name": "stderr",
     "output_type": "stream",
     "text": [
      "[Parallel(n_jobs=1)]: Done   8 out of   8 | elapsed:    8.4s remaining:    0.0s\n",
      "[Parallel(n_jobs=4)]: Done  42 tasks      | elapsed:    0.2s\n",
      "[Parallel(n_jobs=4)]: Done  80 out of  80 | elapsed:    0.4s finished\n",
      "[Parallel(n_jobs=4)]: Done  42 tasks      | elapsed:    0.0s\n",
      "[Parallel(n_jobs=4)]: Done  80 out of  80 | elapsed:    0.0s finished\n",
      "[Parallel(n_jobs=4)]: Done  42 tasks      | elapsed:    0.0s\n",
      "[Parallel(n_jobs=4)]: Done  80 out of  80 | elapsed:    0.0s finished\n",
      "[Parallel(n_jobs=1)]: Done   9 out of   9 | elapsed:    9.5s remaining:    0.0s\n"
     ]
    },
    {
     "name": "stdout",
     "output_type": "stream",
     "text": [
      "[CV] .................. n_estimators=80, score=0.971785, total=   0.7s\n",
      "[CV] n_estimators=80 .................................................\n"
     ]
    },
    {
     "name": "stderr",
     "output_type": "stream",
     "text": [
      "[Parallel(n_jobs=4)]: Done  42 tasks      | elapsed:    0.2s\n",
      "[Parallel(n_jobs=4)]: Done  80 out of  80 | elapsed:    0.4s finished\n",
      "[Parallel(n_jobs=4)]: Done  42 tasks      | elapsed:    0.0s\n",
      "[Parallel(n_jobs=4)]: Done  80 out of  80 | elapsed:    0.0s finished\n",
      "[Parallel(n_jobs=4)]: Done  42 tasks      | elapsed:    0.0s\n",
      "[Parallel(n_jobs=4)]: Done  80 out of  80 | elapsed:    0.0s finished\n",
      "[Parallel(n_jobs=1)]: Done  10 out of  10 | elapsed:   10.5s remaining:    0.0s\n"
     ]
    },
    {
     "name": "stdout",
     "output_type": "stream",
     "text": [
      "[CV] .................. n_estimators=80, score=0.979919, total=   0.7s\n",
      "[CV] n_estimators=100 ................................................\n"
     ]
    },
    {
     "name": "stderr",
     "output_type": "stream",
     "text": [
      "[Parallel(n_jobs=4)]: Done  42 tasks      | elapsed:    0.2s\n",
      "[Parallel(n_jobs=4)]: Done 100 out of 100 | elapsed:    0.5s finished\n",
      "[Parallel(n_jobs=4)]: Done  42 tasks      | elapsed:    0.0s\n",
      "[Parallel(n_jobs=4)]: Done 100 out of 100 | elapsed:    0.1s finished\n",
      "[Parallel(n_jobs=4)]: Done  42 tasks      | elapsed:    0.0s\n",
      "[Parallel(n_jobs=4)]: Done 100 out of 100 | elapsed:    0.1s finished\n",
      "[Parallel(n_jobs=1)]: Done  11 out of  11 | elapsed:   12.0s remaining:    0.0s\n"
     ]
    },
    {
     "name": "stdout",
     "output_type": "stream",
     "text": [
      "[CV] ................. n_estimators=100, score=0.976675, total=   1.1s\n",
      "[CV] n_estimators=100 ................................................\n"
     ]
    },
    {
     "name": "stderr",
     "output_type": "stream",
     "text": [
      "[Parallel(n_jobs=4)]: Done  42 tasks      | elapsed:    0.2s\n",
      "[Parallel(n_jobs=4)]: Done 100 out of 100 | elapsed:    0.5s finished\n",
      "[Parallel(n_jobs=4)]: Done  42 tasks      | elapsed:    0.0s\n",
      "[Parallel(n_jobs=4)]: Done 100 out of 100 | elapsed:    0.1s finished\n",
      "[Parallel(n_jobs=4)]: Done  42 tasks      | elapsed:    0.0s\n",
      "[Parallel(n_jobs=4)]: Done 100 out of 100 | elapsed:    0.1s finished\n"
     ]
    },
    {
     "name": "stdout",
     "output_type": "stream",
     "text": [
      "[CV] ................. n_estimators=100, score=0.978302, total=   1.1s\n",
      "[CV] n_estimators=100 ................................................\n"
     ]
    },
    {
     "name": "stderr",
     "output_type": "stream",
     "text": [
      "[Parallel(n_jobs=1)]: Done  12 out of  12 | elapsed:   13.6s remaining:    0.0s\n",
      "[Parallel(n_jobs=4)]: Done  42 tasks      | elapsed:    0.2s\n",
      "[Parallel(n_jobs=4)]: Done 100 out of 100 | elapsed:    0.5s finished\n",
      "[Parallel(n_jobs=4)]: Done  42 tasks      | elapsed:    0.0s\n",
      "[Parallel(n_jobs=4)]: Done 100 out of 100 | elapsed:    0.0s finished\n",
      "[Parallel(n_jobs=4)]: Done  42 tasks      | elapsed:    0.0s\n",
      "[Parallel(n_jobs=4)]: Done 100 out of 100 | elapsed:    0.1s finished\n"
     ]
    },
    {
     "name": "stdout",
     "output_type": "stream",
     "text": [
      "[CV] ................. n_estimators=100, score=0.980743, total=   0.9s\n",
      "[CV] n_estimators=100 ................................................\n"
     ]
    },
    {
     "name": "stderr",
     "output_type": "stream",
     "text": [
      "[Parallel(n_jobs=1)]: Done  13 out of  13 | elapsed:   15.0s remaining:    0.0s\n",
      "[Parallel(n_jobs=4)]: Done  42 tasks      | elapsed:    0.2s\n",
      "[Parallel(n_jobs=4)]: Done 100 out of 100 | elapsed:    0.5s finished\n",
      "[Parallel(n_jobs=4)]: Done  42 tasks      | elapsed:    0.0s\n",
      "[Parallel(n_jobs=4)]: Done 100 out of 100 | elapsed:    0.0s finished\n",
      "[Parallel(n_jobs=4)]: Done  42 tasks      | elapsed:    0.0s\n",
      "[Parallel(n_jobs=4)]: Done 100 out of 100 | elapsed:    0.1s finished\n",
      "[Parallel(n_jobs=1)]: Done  14 out of  14 | elapsed:   16.3s remaining:    0.0s\n"
     ]
    },
    {
     "name": "stdout",
     "output_type": "stream",
     "text": [
      "[CV] ................. n_estimators=100, score=0.972056, total=   1.0s\n",
      "[CV] n_estimators=100 ................................................\n"
     ]
    },
    {
     "name": "stderr",
     "output_type": "stream",
     "text": [
      "[Parallel(n_jobs=4)]: Done  42 tasks      | elapsed:    0.2s\n",
      "[Parallel(n_jobs=4)]: Done 100 out of 100 | elapsed:    0.5s finished\n",
      "[Parallel(n_jobs=4)]: Done  42 tasks      | elapsed:    0.0s\n",
      "[Parallel(n_jobs=4)]: Done 100 out of 100 | elapsed:    0.1s finished\n",
      "[Parallel(n_jobs=4)]: Done  42 tasks      | elapsed:    0.0s\n",
      "[Parallel(n_jobs=4)]: Done 100 out of 100 | elapsed:    0.1s finished\n",
      "[Parallel(n_jobs=1)]: Done  15 out of  15 | elapsed:   17.8s remaining:    0.0s\n"
     ]
    },
    {
     "name": "stdout",
     "output_type": "stream",
     "text": [
      "[CV] ................. n_estimators=100, score=0.979647, total=   1.2s\n",
      "[CV] n_estimators=200 ................................................\n"
     ]
    },
    {
     "name": "stderr",
     "output_type": "stream",
     "text": [
      "[Parallel(n_jobs=4)]: Done  42 tasks      | elapsed:    0.2s\n",
      "[Parallel(n_jobs=4)]: Done 192 tasks      | elapsed:    1.0s\n",
      "[Parallel(n_jobs=4)]: Done 200 out of 200 | elapsed:    1.1s finished\n",
      "[Parallel(n_jobs=4)]: Done  42 tasks      | elapsed:    0.0s\n",
      "[Parallel(n_jobs=4)]: Done 192 tasks      | elapsed:    0.2s\n",
      "[Parallel(n_jobs=4)]: Done 200 out of 200 | elapsed:    0.2s finished\n",
      "[Parallel(n_jobs=4)]: Done  42 tasks      | elapsed:    0.0s\n",
      "[Parallel(n_jobs=4)]: Done 192 tasks      | elapsed:    0.1s\n",
      "[Parallel(n_jobs=4)]: Done 200 out of 200 | elapsed:    0.2s finished\n",
      "[Parallel(n_jobs=1)]: Done  16 out of  16 | elapsed:   20.0s remaining:    0.0s\n"
     ]
    },
    {
     "name": "stdout",
     "output_type": "stream",
     "text": [
      "[CV] ................. n_estimators=200, score=0.975319, total=   1.8s\n",
      "[CV] n_estimators=200 ................................................\n"
     ]
    },
    {
     "name": "stderr",
     "output_type": "stream",
     "text": [
      "[Parallel(n_jobs=4)]: Done  42 tasks      | elapsed:    0.2s\n",
      "[Parallel(n_jobs=4)]: Done 192 tasks      | elapsed:    1.0s\n",
      "[Parallel(n_jobs=4)]: Done 200 out of 200 | elapsed:    1.0s finished\n",
      "[Parallel(n_jobs=4)]: Done  42 tasks      | elapsed:    0.0s\n",
      "[Parallel(n_jobs=4)]: Done 192 tasks      | elapsed:    0.1s\n",
      "[Parallel(n_jobs=4)]: Done 200 out of 200 | elapsed:    0.2s finished\n",
      "[Parallel(n_jobs=4)]: Done  42 tasks      | elapsed:    0.0s\n",
      "[Parallel(n_jobs=4)]: Done 192 tasks      | elapsed:    0.2s\n",
      "[Parallel(n_jobs=4)]: Done 200 out of 200 | elapsed:    0.2s finished\n",
      "[Parallel(n_jobs=1)]: Done  17 out of  17 | elapsed:   22.5s remaining:    0.0s\n"
     ]
    },
    {
     "name": "stdout",
     "output_type": "stream",
     "text": [
      "[CV] ................. n_estimators=200, score=0.978573, total=   1.8s\n",
      "[CV] n_estimators=200 ................................................\n"
     ]
    },
    {
     "name": "stderr",
     "output_type": "stream",
     "text": [
      "[Parallel(n_jobs=4)]: Done  42 tasks      | elapsed:    0.2s\n",
      "[Parallel(n_jobs=4)]: Done 192 tasks      | elapsed:    1.0s\n",
      "[Parallel(n_jobs=4)]: Done 200 out of 200 | elapsed:    1.1s finished\n",
      "[Parallel(n_jobs=4)]: Done  42 tasks      | elapsed:    0.0s\n",
      "[Parallel(n_jobs=4)]: Done 192 tasks      | elapsed:    0.2s\n",
      "[Parallel(n_jobs=4)]: Done 200 out of 200 | elapsed:    0.2s finished\n",
      "[Parallel(n_jobs=4)]: Done  42 tasks      | elapsed:    0.0s\n",
      "[Parallel(n_jobs=4)]: Done 192 tasks      | elapsed:    0.2s\n",
      "[Parallel(n_jobs=4)]: Done 200 out of 200 | elapsed:    0.2s finished\n",
      "[Parallel(n_jobs=1)]: Done  18 out of  18 | elapsed:   24.9s remaining:    0.0s\n"
     ]
    },
    {
     "name": "stdout",
     "output_type": "stream",
     "text": [
      "[CV] ................. n_estimators=200, score=0.979929, total=   1.8s\n",
      "[CV] n_estimators=200 ................................................\n"
     ]
    },
    {
     "name": "stderr",
     "output_type": "stream",
     "text": [
      "[Parallel(n_jobs=4)]: Done  42 tasks      | elapsed:    0.2s\n",
      "[Parallel(n_jobs=4)]: Done 192 tasks      | elapsed:    1.0s\n",
      "[Parallel(n_jobs=4)]: Done 200 out of 200 | elapsed:    1.1s finished\n",
      "[Parallel(n_jobs=4)]: Done  42 tasks      | elapsed:    0.0s\n",
      "[Parallel(n_jobs=4)]: Done 192 tasks      | elapsed:    0.1s\n",
      "[Parallel(n_jobs=4)]: Done 200 out of 200 | elapsed:    0.1s finished\n",
      "[Parallel(n_jobs=4)]: Done  42 tasks      | elapsed:    0.0s\n",
      "[Parallel(n_jobs=4)]: Done 192 tasks      | elapsed:    0.2s\n",
      "[Parallel(n_jobs=4)]: Done 200 out of 200 | elapsed:    0.2s finished\n",
      "[Parallel(n_jobs=1)]: Done  19 out of  19 | elapsed:   27.3s remaining:    0.0s\n"
     ]
    },
    {
     "name": "stdout",
     "output_type": "stream",
     "text": [
      "[CV] ................. n_estimators=200, score=0.971243, total=   1.8s\n",
      "[CV] n_estimators=200 ................................................\n"
     ]
    },
    {
     "name": "stderr",
     "output_type": "stream",
     "text": [
      "[Parallel(n_jobs=4)]: Done  42 tasks      | elapsed:    0.2s\n",
      "[Parallel(n_jobs=4)]: Done 192 tasks      | elapsed:    1.0s\n",
      "[Parallel(n_jobs=4)]: Done 200 out of 200 | elapsed:    1.1s finished\n",
      "[Parallel(n_jobs=4)]: Done  42 tasks      | elapsed:    0.0s\n",
      "[Parallel(n_jobs=4)]: Done 192 tasks      | elapsed:    0.3s\n",
      "[Parallel(n_jobs=4)]: Done 200 out of 200 | elapsed:    0.4s finished\n",
      "[Parallel(n_jobs=4)]: Done  42 tasks      | elapsed:    0.0s\n",
      "[Parallel(n_jobs=4)]: Done 192 tasks      | elapsed:    0.2s\n",
      "[Parallel(n_jobs=4)]: Done 200 out of 200 | elapsed:    0.2s finished\n"
     ]
    },
    {
     "name": "stdout",
     "output_type": "stream",
     "text": [
      "[CV] ................. n_estimators=200, score=0.979647, total=   2.1s\n",
      "[CV] n_estimators=500 ................................................\n"
     ]
    },
    {
     "name": "stderr",
     "output_type": "stream",
     "text": [
      "[Parallel(n_jobs=4)]: Done  42 tasks      | elapsed:    0.1s\n",
      "[Parallel(n_jobs=4)]: Done 192 tasks      | elapsed:    1.0s\n",
      "[Parallel(n_jobs=4)]: Done 442 tasks      | elapsed:    2.3s\n",
      "[Parallel(n_jobs=4)]: Done 500 out of 500 | elapsed:    2.7s finished\n",
      "[Parallel(n_jobs=4)]: Done  42 tasks      | elapsed:    0.0s\n",
      "[Parallel(n_jobs=4)]: Done 192 tasks      | elapsed:    0.2s\n",
      "[Parallel(n_jobs=4)]: Done 442 tasks      | elapsed:    0.5s\n",
      "[Parallel(n_jobs=4)]: Done 500 out of 500 | elapsed:    0.6s finished\n",
      "[Parallel(n_jobs=4)]: Done  42 tasks      | elapsed:    0.0s\n",
      "[Parallel(n_jobs=4)]: Done 192 tasks      | elapsed:    0.2s\n",
      "[Parallel(n_jobs=4)]: Done 442 tasks      | elapsed:    0.4s\n",
      "[Parallel(n_jobs=4)]: Done 500 out of 500 | elapsed:    0.6s finished\n"
     ]
    },
    {
     "name": "stdout",
     "output_type": "stream",
     "text": [
      "[CV] ................. n_estimators=500, score=0.974234, total=   4.3s\n",
      "[CV] n_estimators=500 ................................................\n"
     ]
    },
    {
     "name": "stderr",
     "output_type": "stream",
     "text": [
      "[Parallel(n_jobs=4)]: Done  42 tasks      | elapsed:    0.2s\n",
      "[Parallel(n_jobs=4)]: Done 192 tasks      | elapsed:    1.0s\n",
      "[Parallel(n_jobs=4)]: Done 442 tasks      | elapsed:    2.4s\n",
      "[Parallel(n_jobs=4)]: Done 500 out of 500 | elapsed:    2.7s finished\n",
      "[Parallel(n_jobs=4)]: Done  42 tasks      | elapsed:    0.0s\n",
      "[Parallel(n_jobs=4)]: Done 192 tasks      | elapsed:    0.2s\n",
      "[Parallel(n_jobs=4)]: Done 442 tasks      | elapsed:    0.6s\n",
      "[Parallel(n_jobs=4)]: Done 500 out of 500 | elapsed:    0.7s finished\n",
      "[Parallel(n_jobs=4)]: Done  42 tasks      | elapsed:    0.0s\n",
      "[Parallel(n_jobs=4)]: Done 192 tasks      | elapsed:    0.2s\n",
      "[Parallel(n_jobs=4)]: Done 442 tasks      | elapsed:    0.5s\n",
      "[Parallel(n_jobs=4)]: Done 500 out of 500 | elapsed:    0.7s finished\n"
     ]
    },
    {
     "name": "stdout",
     "output_type": "stream",
     "text": [
      "[CV] ................. n_estimators=500, score=0.976675, total=   4.5s\n",
      "[CV] n_estimators=500 ................................................\n"
     ]
    },
    {
     "name": "stderr",
     "output_type": "stream",
     "text": [
      "[Parallel(n_jobs=4)]: Done  42 tasks      | elapsed:    0.2s\n",
      "[Parallel(n_jobs=4)]: Done 192 tasks      | elapsed:    1.0s\n",
      "[Parallel(n_jobs=4)]: Done 442 tasks      | elapsed:    2.4s\n",
      "[Parallel(n_jobs=4)]: Done 500 out of 500 | elapsed:    2.7s finished\n",
      "[Parallel(n_jobs=4)]: Done  42 tasks      | elapsed:    0.0s\n",
      "[Parallel(n_jobs=4)]: Done 192 tasks      | elapsed:    0.2s\n",
      "[Parallel(n_jobs=4)]: Done 442 tasks      | elapsed:    0.4s\n",
      "[Parallel(n_jobs=4)]: Done 500 out of 500 | elapsed:    0.6s finished\n",
      "[Parallel(n_jobs=4)]: Done  42 tasks      | elapsed:    0.0s\n",
      "[Parallel(n_jobs=4)]: Done 192 tasks      | elapsed:    0.2s\n",
      "[Parallel(n_jobs=4)]: Done 442 tasks      | elapsed:    0.5s\n",
      "[Parallel(n_jobs=4)]: Done 500 out of 500 | elapsed:    0.6s finished\n"
     ]
    },
    {
     "name": "stdout",
     "output_type": "stream",
     "text": [
      "[CV] ................. n_estimators=500, score=0.980472, total=   4.4s\n",
      "[CV] n_estimators=500 ................................................\n"
     ]
    },
    {
     "name": "stderr",
     "output_type": "stream",
     "text": [
      "[Parallel(n_jobs=4)]: Done  42 tasks      | elapsed:    0.2s\n",
      "[Parallel(n_jobs=4)]: Done 192 tasks      | elapsed:    1.0s\n",
      "[Parallel(n_jobs=4)]: Done 442 tasks      | elapsed:    2.4s\n",
      "[Parallel(n_jobs=4)]: Done 500 out of 500 | elapsed:    2.8s finished\n",
      "[Parallel(n_jobs=4)]: Done  42 tasks      | elapsed:    0.0s\n",
      "[Parallel(n_jobs=4)]: Done 192 tasks      | elapsed:    0.1s\n",
      "[Parallel(n_jobs=4)]: Done 442 tasks      | elapsed:    0.4s\n",
      "[Parallel(n_jobs=4)]: Done 500 out of 500 | elapsed:    0.5s finished\n",
      "[Parallel(n_jobs=4)]: Done  42 tasks      | elapsed:    0.0s\n",
      "[Parallel(n_jobs=4)]: Done 192 tasks      | elapsed:    0.2s\n",
      "[Parallel(n_jobs=4)]: Done 442 tasks      | elapsed:    0.6s\n",
      "[Parallel(n_jobs=4)]: Done 500 out of 500 | elapsed:    0.7s finished\n"
     ]
    },
    {
     "name": "stdout",
     "output_type": "stream",
     "text": [
      "[CV] ................. n_estimators=500, score=0.971514, total=   4.5s\n",
      "[CV] n_estimators=500 ................................................\n"
     ]
    },
    {
     "name": "stderr",
     "output_type": "stream",
     "text": [
      "[Parallel(n_jobs=4)]: Done  42 tasks      | elapsed:    0.1s\n",
      "[Parallel(n_jobs=4)]: Done 192 tasks      | elapsed:    1.0s\n",
      "[Parallel(n_jobs=4)]: Done 442 tasks      | elapsed:    2.4s\n",
      "[Parallel(n_jobs=4)]: Done 500 out of 500 | elapsed:    2.8s finished\n",
      "[Parallel(n_jobs=4)]: Done  42 tasks      | elapsed:    0.0s\n",
      "[Parallel(n_jobs=4)]: Done 192 tasks      | elapsed:    0.2s\n",
      "[Parallel(n_jobs=4)]: Done 442 tasks      | elapsed:    0.4s\n",
      "[Parallel(n_jobs=4)]: Done 500 out of 500 | elapsed:    0.6s finished\n",
      "[Parallel(n_jobs=4)]: Done  42 tasks      | elapsed:    0.0s\n",
      "[Parallel(n_jobs=4)]: Done 192 tasks      | elapsed:    0.2s\n",
      "[Parallel(n_jobs=4)]: Done 442 tasks      | elapsed:    0.5s\n",
      "[Parallel(n_jobs=4)]: Done 500 out of 500 | elapsed:    0.7s finished\n"
     ]
    },
    {
     "name": "stdout",
     "output_type": "stream",
     "text": [
      "[CV] ................. n_estimators=500, score=0.979376, total=   4.5s\n"
     ]
    },
    {
     "name": "stderr",
     "output_type": "stream",
     "text": [
      "[Parallel(n_jobs=1)]: Done  25 out of  25 | elapsed:   57.0s finished\n"
     ]
    },
    {
     "name": "stdout",
     "output_type": "stream",
     "text": [
      "--- Grid Search Completed: 0.96 minutes ---\n",
      "Best Params:\n",
      "{'n_estimators': 50}\n",
      "Best CV Score:\n",
      "-0.977701822917\n"
     ]
    },
    {
     "name": "stderr",
     "output_type": "stream",
     "text": [
      "[Parallel(n_jobs=4)]: Done  42 tasks      | elapsed:    0.2s\n",
      "[Parallel(n_jobs=4)]: Done  50 out of  50 | elapsed:    0.3s finished\n"
     ]
    }
   ],
   "source": [
    "start_time = time.clock()\n",
    "rf = RandomForestClassifier(n_jobs=4, random_state=2017, verbose=1)\n",
    "\n",
    "param_grid = {'n_estimators': [50,80,100,200,500]}\n",
    "rf_model = GridSearchCV(estimator=rf, param_grid=param_grid,cv=5, verbose=20)\n",
    "rf_model.fit(X_train, y_train)\n",
    "\n",
    "print('--- Grid Search Completed: %s minutes ---' % round(((time.clock() - start_time) / 60), 2))\n",
    "print('Best Params:')\n",
    "print(rf_model.best_params_)\n",
    "print('Best CV Score:')\n",
    "print(-rf_model.best_score_)"
   ]
  },
  {
   "cell_type": "code",
   "execution_count": 256,
   "metadata": {
    "collapsed": false
   },
   "outputs": [
    {
     "data": {
      "text/plain": [
       "Index([u'afs_ser_fee_amount', u'sale_ord_id', u'parent_sale_ord_id',\n",
       "       u'sale_ord_tm', u'sale_ord_det_tm', u'free_goods_sku_id',\n",
       "       u'user_payable_pay_amount', u'sku_freight_coupon_amount',\n",
       "       u'worldwide_tax_amount', u'rev_addr_county_id',\n",
       "       ...\n",
       "       u'present_cps_flag', u'campus_ord_flag', u'night_delv_flag',\n",
       "       u'211_ord_flag', u'invt_piority_ship_flag', u'easy_pur_flag',\n",
       "       u'ord_flag', u'delv_ser_fee_amount', u'pay_instalments_ord_flag',\n",
       "       u'acct_bal_pay_amount'],\n",
       "      dtype='object', length=150)"
      ]
     },
     "execution_count": 256,
     "metadata": {},
     "output_type": "execute_result"
    }
   ],
   "source": [
    "index = np.argsort(X_test.iloc[0])\n",
    "X_test.columns[index][::-1]"
   ]
  },
  {
   "cell_type": "code",
   "execution_count": 82,
   "metadata": {
    "collapsed": false
   },
   "outputs": [
    {
     "name": "stderr",
     "output_type": "stream",
     "text": [
      "[Parallel(n_jobs=4)]: Done  42 tasks      | elapsed:    0.0s\n",
      "[Parallel(n_jobs=4)]: Done  50 out of  50 | elapsed:    0.0s finished\n"
     ]
    },
    {
     "name": "stdout",
     "output_type": "stream",
     "text": [
      "Recall: 0.94124559342\n",
      "===========================\n",
      "Precision: 0.972677595628\n",
      "===========================\n",
      "Accuracy: 0.98164556962\n"
     ]
    },
    {
     "name": "stderr",
     "output_type": "stream",
     "text": [
      "[Parallel(n_jobs=4)]: Done  42 tasks      | elapsed:    0.0s\n",
      "[Parallel(n_jobs=4)]: Done  50 out of  50 | elapsed:    0.0s finished\n"
     ]
    }
   ],
   "source": [
    "rf_pred = rf_model.best_estimator_.predict(X_test)\n",
    "print_scoring(rf_model.best_estimator_,X_test,y_test)"
   ]
  },
  {
   "cell_type": "code",
   "execution_count": 83,
   "metadata": {
    "collapsed": false
   },
   "outputs": [
    {
     "name": "stdout",
     "output_type": "stream",
     "text": [
      "user_actual_pay_amount: 0.165506235286\n",
      "pay_tm: 0.155467967775\n",
      "pay_mode_cd: 0.0758311735036\n",
      "ship_sorting_tm: 0.0699812280947\n",
      "out_wh_tm: 0.0638145494912\n",
      "print_tm: 0.0565318616358\n",
      "delv_center_num: 0.0339157027255\n",
      "after_prefr_amount: 0.0260776550354\n",
      "no_prefr_total_amount: 0.0250572496303\n",
      "vertical_web_type_cd: 0.0247025998916\n",
      "item_original_amount: 0.0225938130445\n",
      "rev_addr_city_id: 0.0202471218408\n",
      "reg_age: 0.0199535405144\n",
      "sku_offer_amount: 0.0197293133285\n",
      "promotion_discount_amount: 0.0164967637932\n",
      "subd_num: 0.0159429471905\n",
      "total_offer_amount: 0.0159197787361\n",
      "user_lv_cd: 0.0156640749039\n",
      "rev_addr_province_id: 0.013067370156\n",
      "rev_addr_county_id: 0.0128156834104\n",
      "reg_user_type_cd: 0.0100685677965\n",
      "rev_addr_town_id: 0.00931108451979\n",
      "ps_delv_way_cd: 0.00809051282027\n",
      "print_status_cd: 0.00804433593777\n",
      "package_tm: 0.00740097119969\n",
      "pay_discount_amount: 0.00655357931263\n",
      "user_site_province_id: 0.00633340366763\n",
      "dq_and_jq_pay_amount: 0.00631210634657\n",
      "total_shipping_charge: 0.00605199359537\n",
      "user_site_city_id: 0.0060246811104\n",
      "user_site_county_id: 0.0059577558964\n",
      "virtual: 0.00544666564923\n",
      "user_age: 0.00541223754722\n",
      "app: 0.00479816517678\n",
      "sorting_center_pop_rev_tm: 0.00476641247764\n",
      "apple: 0.00381455755548\n",
      "campus_user_flag: 0.00375108016233\n",
      "member_reg_gender: 0.00355457927881\n",
      "android: 0.00319281514715\n",
      "full_rebate_offer_amount: 0.00310276161091\n",
      "m: 0.00276883941685\n",
      "easy_pur_flag: 0.00150746805154\n",
      "other_offer: 0.00141234468704\n",
      "jbean_pay_amount: 0.00117644016057\n",
      "self_carry_status_cd: 0.000990729407153\n",
      "point: 0.000848566041135\n",
      "supply: 0.000549391169841\n",
      "delv_way_cd: 0.000536970372938\n",
      "dq_pay_amount: 0.000512237573674\n",
      "pop_shop_lim_sku_dq_pay_amount: 0.000456816289534\n",
      "====================================================\n",
      "Top 50 Cumulative Importance: 0.998064699966\n"
     ]
    }
   ],
   "source": [
    "print_impor(rf_model.best_estimator_,X_train)"
   ]
  },
  {
   "cell_type": "markdown",
   "metadata": {},
   "source": [
    "### 3.GB"
   ]
  },
  {
   "cell_type": "code",
   "execution_count": 262,
   "metadata": {
    "collapsed": false
   },
   "outputs": [
    {
     "name": "stdout",
     "output_type": "stream",
     "text": [
      "Fitting 5 folds for each of 54 candidates, totalling 270 fits\n"
     ]
    },
    {
     "name": "stderr",
     "output_type": "stream",
     "text": [
      "[Parallel(n_jobs=8)]: Done   1 tasks      | elapsed:   10.3s\n",
      "[Parallel(n_jobs=8)]: Done   2 tasks      | elapsed:   10.3s\n",
      "[Parallel(n_jobs=8)]: Done   3 tasks      | elapsed:   10.4s\n",
      "[Parallel(n_jobs=8)]: Done   4 tasks      | elapsed:   10.6s\n",
      "[Parallel(n_jobs=8)]: Done   5 tasks      | elapsed:   10.8s\n",
      "[Parallel(n_jobs=8)]: Done   6 tasks      | elapsed:   11.3s\n",
      "[Parallel(n_jobs=8)]: Done   7 tasks      | elapsed:   11.3s\n",
      "[Parallel(n_jobs=8)]: Done   8 tasks      | elapsed:   11.6s\n",
      "[Parallel(n_jobs=8)]: Done   9 tasks      | elapsed:   20.6s\n",
      "[Parallel(n_jobs=8)]: Done  10 tasks      | elapsed:   20.7s\n",
      "[Parallel(n_jobs=8)]: Done  11 tasks      | elapsed:   21.2s\n",
      "[Parallel(n_jobs=8)]: Done  12 tasks      | elapsed:   21.2s\n",
      "[Parallel(n_jobs=8)]: Done  13 tasks      | elapsed:   21.6s\n",
      "[Parallel(n_jobs=8)]: Done  14 tasks      | elapsed:   21.8s\n",
      "[Parallel(n_jobs=8)]: Done  15 tasks      | elapsed:   21.8s\n",
      "[Parallel(n_jobs=8)]: Done  16 tasks      | elapsed:   26.3s\n",
      "[Parallel(n_jobs=8)]: Done  17 tasks      | elapsed:   35.7s\n",
      "[Parallel(n_jobs=8)]: Done  18 tasks      | elapsed:   35.8s\n",
      "[Parallel(n_jobs=8)]: Done  19 tasks      | elapsed:   35.8s\n",
      "[Parallel(n_jobs=8)]: Done  20 tasks      | elapsed:   35.9s\n",
      "[Parallel(n_jobs=8)]: Done  21 tasks      | elapsed:   36.2s\n",
      "[Parallel(n_jobs=8)]: Done  22 tasks      | elapsed:   36.7s\n",
      "[Parallel(n_jobs=8)]: Done  23 tasks      | elapsed:   36.7s\n",
      "[Parallel(n_jobs=8)]: Done  24 tasks      | elapsed:   41.2s\n",
      "[Parallel(n_jobs=8)]: Done  25 tasks      | elapsed:   50.8s\n",
      "[Parallel(n_jobs=8)]: Done  26 tasks      | elapsed:   51.4s\n",
      "[Parallel(n_jobs=8)]: Done  27 tasks      | elapsed:   51.5s\n",
      "[Parallel(n_jobs=8)]: Done  28 tasks      | elapsed:   51.5s\n",
      "[Parallel(n_jobs=8)]: Done  29 tasks      | elapsed:   51.7s\n",
      "[Parallel(n_jobs=8)]: Done  30 tasks      | elapsed:   52.3s\n",
      "[Parallel(n_jobs=8)]: Done  31 tasks      | elapsed:  1.0min\n",
      "[Parallel(n_jobs=8)]: Done  32 tasks      | elapsed:  1.1min\n",
      "[Parallel(n_jobs=8)]: Done  33 tasks      | elapsed:  1.2min\n",
      "[Parallel(n_jobs=8)]: Done  34 tasks      | elapsed:  1.2min\n",
      "[Parallel(n_jobs=8)]: Done  35 tasks      | elapsed:  1.3min\n",
      "[Parallel(n_jobs=8)]: Done  36 tasks      | elapsed:  1.3min\n",
      "[Parallel(n_jobs=8)]: Done  37 tasks      | elapsed:  1.3min\n",
      "[Parallel(n_jobs=8)]: Done  38 tasks      | elapsed:  1.3min\n",
      "[Parallel(n_jobs=8)]: Done  39 tasks      | elapsed:  1.4min\n",
      "[Parallel(n_jobs=8)]: Done  40 tasks      | elapsed:  1.5min\n",
      "[Parallel(n_jobs=8)]: Done  41 tasks      | elapsed:  1.7min\n",
      "[Parallel(n_jobs=8)]: Done  42 tasks      | elapsed:  1.7min\n",
      "[Parallel(n_jobs=8)]: Done  43 tasks      | elapsed:  1.7min\n",
      "[Parallel(n_jobs=8)]: Done  44 tasks      | elapsed:  1.7min\n",
      "[Parallel(n_jobs=8)]: Done  45 tasks      | elapsed:  1.7min\n",
      "[Parallel(n_jobs=8)]: Done  46 tasks      | elapsed:  1.8min\n",
      "[Parallel(n_jobs=8)]: Done  47 tasks      | elapsed:  1.9min\n",
      "[Parallel(n_jobs=8)]: Done  48 tasks      | elapsed:  2.0min\n",
      "[Parallel(n_jobs=8)]: Done  49 tasks      | elapsed:  2.2min\n",
      "[Parallel(n_jobs=8)]: Done  50 tasks      | elapsed:  2.2min\n",
      "[Parallel(n_jobs=8)]: Done  51 tasks      | elapsed:  2.2min\n",
      "[Parallel(n_jobs=8)]: Done  52 tasks      | elapsed:  2.2min\n",
      "[Parallel(n_jobs=8)]: Done  53 tasks      | elapsed:  2.2min\n",
      "[Parallel(n_jobs=8)]: Done  54 tasks      | elapsed:  2.3min\n",
      "[Parallel(n_jobs=8)]: Done  55 tasks      | elapsed:  2.4min\n",
      "[Parallel(n_jobs=8)]: Done  56 tasks      | elapsed:  2.5min\n",
      "[Parallel(n_jobs=8)]: Done  57 tasks      | elapsed:  2.7min\n",
      "[Parallel(n_jobs=8)]: Done  58 tasks      | elapsed:  2.7min\n",
      "[Parallel(n_jobs=8)]: Done  59 tasks      | elapsed:  2.7min\n",
      "[Parallel(n_jobs=8)]: Done  60 tasks      | elapsed:  2.7min\n",
      "[Parallel(n_jobs=8)]: Done  61 tasks      | elapsed:  2.8min\n",
      "[Parallel(n_jobs=8)]: Done  62 tasks      | elapsed:  2.8min\n",
      "[Parallel(n_jobs=8)]: Done  63 tasks      | elapsed:  3.0min\n",
      "[Parallel(n_jobs=8)]: Done  64 tasks      | elapsed:  3.1min\n",
      "[Parallel(n_jobs=8)]: Done  65 tasks      | elapsed:  3.3min\n",
      "[Parallel(n_jobs=8)]: Done  66 tasks      | elapsed:  3.3min\n",
      "[Parallel(n_jobs=8)]: Done  67 tasks      | elapsed:  3.3min\n",
      "[Parallel(n_jobs=8)]: Done  68 tasks      | elapsed:  3.3min\n",
      "[Parallel(n_jobs=8)]: Done  69 tasks      | elapsed:  3.4min\n",
      "[Parallel(n_jobs=8)]: Done  70 tasks      | elapsed:  3.4min\n",
      "[Parallel(n_jobs=8)]: Done  71 tasks      | elapsed:  3.6min\n",
      "[Parallel(n_jobs=8)]: Done  72 tasks      | elapsed:  3.7min\n",
      "[Parallel(n_jobs=8)]: Done  73 tasks      | elapsed:  3.9min\n",
      "[Parallel(n_jobs=8)]: Done  74 tasks      | elapsed:  3.9min\n",
      "[Parallel(n_jobs=8)]: Done  75 tasks      | elapsed:  3.9min\n",
      "[Parallel(n_jobs=8)]: Done  76 tasks      | elapsed:  4.0min\n",
      "[Parallel(n_jobs=8)]: Done  77 tasks      | elapsed:  4.0min\n",
      "[Parallel(n_jobs=8)]: Done  78 tasks      | elapsed:  4.1min\n",
      "[Parallel(n_jobs=8)]: Done  79 tasks      | elapsed:  4.3min\n",
      "[Parallel(n_jobs=8)]: Done  80 tasks      | elapsed:  4.4min\n",
      "[Parallel(n_jobs=8)]: Done  81 tasks      | elapsed:  4.6min\n",
      "[Parallel(n_jobs=8)]: Done  82 tasks      | elapsed:  4.6min\n",
      "[Parallel(n_jobs=8)]: Done  83 tasks      | elapsed:  4.6min\n",
      "[Parallel(n_jobs=8)]: Done  84 tasks      | elapsed:  4.7min\n",
      "[Parallel(n_jobs=8)]: Done  85 tasks      | elapsed:  4.8min\n",
      "[Parallel(n_jobs=8)]: Done  86 tasks      | elapsed:  4.8min\n",
      "[Parallel(n_jobs=8)]: Done  87 tasks      | elapsed:  5.1min\n",
      "[Parallel(n_jobs=8)]: Done  88 tasks      | elapsed:  5.1min\n",
      "[Parallel(n_jobs=8)]: Done  89 tasks      | elapsed:  5.3min\n",
      "[Parallel(n_jobs=8)]: Done  90 tasks      | elapsed:  5.4min\n",
      "[Parallel(n_jobs=8)]: Done  91 tasks      | elapsed:  5.4min\n",
      "[Parallel(n_jobs=8)]: Done  92 tasks      | elapsed:  5.5min\n",
      "[Parallel(n_jobs=8)]: Done  93 tasks      | elapsed:  5.6min\n",
      "[Parallel(n_jobs=8)]: Done  94 tasks      | elapsed:  5.6min\n",
      "[Parallel(n_jobs=8)]: Done  95 tasks      | elapsed:  5.9min\n",
      "[Parallel(n_jobs=8)]: Done  96 tasks      | elapsed:  6.0min\n",
      "[Parallel(n_jobs=8)]: Done  97 tasks      | elapsed:  6.2min\n",
      "[Parallel(n_jobs=8)]: Done  98 tasks      | elapsed:  6.2min\n",
      "[Parallel(n_jobs=8)]: Done  99 tasks      | elapsed:  6.3min\n",
      "[Parallel(n_jobs=8)]: Done 100 tasks      | elapsed:  6.3min\n",
      "[Parallel(n_jobs=8)]: Done 101 tasks      | elapsed:  6.4min\n",
      "[Parallel(n_jobs=8)]: Done 102 tasks      | elapsed:  6.5min\n",
      "[Parallel(n_jobs=8)]: Done 103 tasks      | elapsed:  6.7min\n",
      "[Parallel(n_jobs=8)]: Done 104 tasks      | elapsed:  6.8min\n",
      "[Parallel(n_jobs=8)]: Done 105 tasks      | elapsed:  7.0min\n",
      "[Parallel(n_jobs=8)]: Done 106 tasks      | elapsed:  7.0min\n",
      "[Parallel(n_jobs=8)]: Done 107 tasks      | elapsed:  7.1min\n",
      "[Parallel(n_jobs=8)]: Done 108 tasks      | elapsed:  7.1min\n",
      "[Parallel(n_jobs=8)]: Done 109 tasks      | elapsed:  7.2min\n",
      "[Parallel(n_jobs=8)]: Done 110 tasks      | elapsed:  7.3min\n",
      "[Parallel(n_jobs=8)]: Done 111 tasks      | elapsed:  7.5min\n",
      "[Parallel(n_jobs=8)]: Done 112 tasks      | elapsed:  7.6min\n",
      "[Parallel(n_jobs=8)]: Done 113 tasks      | elapsed:  7.8min\n",
      "[Parallel(n_jobs=8)]: Done 114 tasks      | elapsed:  7.8min\n",
      "[Parallel(n_jobs=8)]: Done 115 tasks      | elapsed:  7.9min\n",
      "[Parallel(n_jobs=8)]: Done 116 tasks      | elapsed:  8.0min\n",
      "[Parallel(n_jobs=8)]: Done 117 tasks      | elapsed:  8.1min\n",
      "[Parallel(n_jobs=8)]: Done 118 tasks      | elapsed:  8.2min\n",
      "[Parallel(n_jobs=8)]: Done 119 tasks      | elapsed:  8.4min\n",
      "[Parallel(n_jobs=8)]: Done 120 tasks      | elapsed:  8.5min\n",
      "[Parallel(n_jobs=8)]: Done 121 tasks      | elapsed:  9.5min\n",
      "[Parallel(n_jobs=8)]: Done 122 tasks      | elapsed:  9.5min\n",
      "[Parallel(n_jobs=8)]: Done 123 tasks      | elapsed:  9.6min\n",
      "[Parallel(n_jobs=8)]: Done 124 tasks      | elapsed:  9.7min\n",
      "[Parallel(n_jobs=8)]: Done 125 tasks      | elapsed:  9.7min\n",
      "[Parallel(n_jobs=8)]: Done 126 tasks      | elapsed:  9.8min\n",
      "[Parallel(n_jobs=8)]: Done 127 tasks      | elapsed: 10.1min\n",
      "[Parallel(n_jobs=8)]: Done 128 tasks      | elapsed: 10.2min\n",
      "[Parallel(n_jobs=8)]: Done 129 tasks      | elapsed: 10.4min\n",
      "[Parallel(n_jobs=8)]: Done 130 tasks      | elapsed: 10.6min\n",
      "[Parallel(n_jobs=8)]: Done 131 tasks      | elapsed: 10.8min\n",
      "[Parallel(n_jobs=8)]: Done 132 tasks      | elapsed: 10.9min\n",
      "[Parallel(n_jobs=8)]: Done 133 tasks      | elapsed: 11.1min\n",
      "[Parallel(n_jobs=8)]: Done 134 tasks      | elapsed: 11.2min\n",
      "[Parallel(n_jobs=8)]: Done 135 tasks      | elapsed: 11.2min\n",
      "[Parallel(n_jobs=8)]: Done 136 tasks      | elapsed: 11.3min\n",
      "[Parallel(n_jobs=8)]: Done 137 tasks      | elapsed: 11.3min\n",
      "[Parallel(n_jobs=8)]: Done 138 tasks      | elapsed: 11.4min\n",
      "[Parallel(n_jobs=8)]: Done 139 tasks      | elapsed: 11.4min\n",
      "[Parallel(n_jobs=8)]: Done 140 tasks      | elapsed: 11.4min\n",
      "[Parallel(n_jobs=8)]: Done 141 tasks      | elapsed: 11.5min\n",
      "[Parallel(n_jobs=8)]: Done 142 tasks      | elapsed: 11.5min\n",
      "[Parallel(n_jobs=8)]: Done 143 tasks      | elapsed: 11.5min\n",
      "[Parallel(n_jobs=8)]: Done 144 tasks      | elapsed: 11.6min\n",
      "[Parallel(n_jobs=8)]: Done 145 tasks      | elapsed: 11.6min\n",
      "[Parallel(n_jobs=8)]: Done 146 tasks      | elapsed: 11.6min\n",
      "[Parallel(n_jobs=8)]: Done 147 tasks      | elapsed: 11.6min\n",
      "[Parallel(n_jobs=8)]: Done 148 tasks      | elapsed: 11.6min\n",
      "[Parallel(n_jobs=8)]: Done 149 tasks      | elapsed: 11.7min\n",
      "[Parallel(n_jobs=8)]: Done 150 tasks      | elapsed: 11.8min\n",
      "[Parallel(n_jobs=8)]: Done 151 tasks      | elapsed: 11.8min\n",
      "[Parallel(n_jobs=8)]: Done 152 tasks      | elapsed: 11.8min\n",
      "[Parallel(n_jobs=8)]: Done 153 tasks      | elapsed: 11.9min\n",
      "[Parallel(n_jobs=8)]: Done 154 tasks      | elapsed: 11.9min\n",
      "[Parallel(n_jobs=8)]: Done 155 tasks      | elapsed: 11.9min\n",
      "[Parallel(n_jobs=8)]: Done 156 tasks      | elapsed: 11.9min\n",
      "[Parallel(n_jobs=8)]: Done 157 tasks      | elapsed: 12.0min\n",
      "[Parallel(n_jobs=8)]: Done 158 tasks      | elapsed: 12.1min\n",
      "[Parallel(n_jobs=8)]: Done 159 tasks      | elapsed: 12.1min\n",
      "[Parallel(n_jobs=8)]: Done 160 tasks      | elapsed: 12.1min\n",
      "[Parallel(n_jobs=8)]: Done 161 tasks      | elapsed: 12.1min\n",
      "[Parallel(n_jobs=8)]: Done 162 tasks      | elapsed: 12.1min\n",
      "[Parallel(n_jobs=8)]: Done 163 tasks      | elapsed: 12.2min\n",
      "[Parallel(n_jobs=8)]: Done 164 tasks      | elapsed: 12.2min\n",
      "[Parallel(n_jobs=8)]: Done 165 tasks      | elapsed: 12.3min\n",
      "[Parallel(n_jobs=8)]: Done 166 tasks      | elapsed: 12.5min\n",
      "[Parallel(n_jobs=8)]: Done 167 tasks      | elapsed: 12.5min\n",
      "[Parallel(n_jobs=8)]: Done 168 tasks      | elapsed: 12.5min\n",
      "[Parallel(n_jobs=8)]: Done 169 tasks      | elapsed: 12.6min\n",
      "[Parallel(n_jobs=8)]: Done 170 tasks      | elapsed: 12.6min\n",
      "[Parallel(n_jobs=8)]: Done 171 tasks      | elapsed: 12.6min\n",
      "[Parallel(n_jobs=8)]: Done 172 tasks      | elapsed: 12.6min\n",
      "[Parallel(n_jobs=8)]: Done 173 tasks      | elapsed: 12.7min\n",
      "[Parallel(n_jobs=8)]: Done 174 tasks      | elapsed: 12.9min\n",
      "[Parallel(n_jobs=8)]: Done 175 tasks      | elapsed: 13.0min\n",
      "[Parallel(n_jobs=8)]: Done 176 tasks      | elapsed: 13.0min\n",
      "[Parallel(n_jobs=8)]: Done 177 tasks      | elapsed: 13.0min\n",
      "[Parallel(n_jobs=8)]: Done 178 tasks      | elapsed: 13.0min\n",
      "[Parallel(n_jobs=8)]: Done 179 tasks      | elapsed: 13.1min\n",
      "[Parallel(n_jobs=8)]: Done 180 tasks      | elapsed: 13.1min\n",
      "[Parallel(n_jobs=8)]: Done 181 tasks      | elapsed: 13.2min\n",
      "[Parallel(n_jobs=8)]: Done 182 tasks      | elapsed: 13.4min\n",
      "[Parallel(n_jobs=8)]: Done 183 tasks      | elapsed: 13.5min\n",
      "[Parallel(n_jobs=8)]: Done 184 tasks      | elapsed: 13.5min\n",
      "[Parallel(n_jobs=8)]: Done 185 tasks      | elapsed: 13.5min\n",
      "[Parallel(n_jobs=8)]: Done 186 tasks      | elapsed: 13.6min\n",
      "[Parallel(n_jobs=8)]: Done 187 tasks      | elapsed: 13.6min\n",
      "[Parallel(n_jobs=8)]: Done 188 tasks      | elapsed: 13.6min\n",
      "[Parallel(n_jobs=8)]: Done 189 tasks      | elapsed: 13.7min\n",
      "[Parallel(n_jobs=8)]: Done 190 tasks      | elapsed: 14.0min\n",
      "[Parallel(n_jobs=8)]: Done 191 tasks      | elapsed: 14.0min\n",
      "[Parallel(n_jobs=8)]: Done 192 tasks      | elapsed: 14.1min\n",
      "[Parallel(n_jobs=8)]: Done 193 tasks      | elapsed: 14.1min\n",
      "[Parallel(n_jobs=8)]: Done 194 tasks      | elapsed: 14.1min\n",
      "[Parallel(n_jobs=8)]: Done 195 tasks      | elapsed: 14.1min\n",
      "[Parallel(n_jobs=8)]: Done 196 tasks      | elapsed: 14.2min\n",
      "[Parallel(n_jobs=8)]: Done 197 tasks      | elapsed: 14.3min\n",
      "[Parallel(n_jobs=8)]: Done 198 tasks      | elapsed: 14.6min\n",
      "[Parallel(n_jobs=8)]: Done 199 tasks      | elapsed: 14.6min\n",
      "[Parallel(n_jobs=8)]: Done 200 tasks      | elapsed: 14.7min\n",
      "[Parallel(n_jobs=8)]: Done 201 tasks      | elapsed: 14.7min\n",
      "[Parallel(n_jobs=8)]: Done 202 tasks      | elapsed: 14.7min\n",
      "[Parallel(n_jobs=8)]: Done 203 tasks      | elapsed: 14.7min\n",
      "[Parallel(n_jobs=8)]: Done 204 tasks      | elapsed: 14.8min\n",
      "[Parallel(n_jobs=8)]: Done 205 tasks      | elapsed: 14.9min\n",
      "[Parallel(n_jobs=8)]: Done 206 tasks      | elapsed: 15.2min\n",
      "[Parallel(n_jobs=8)]: Done 207 tasks      | elapsed: 15.2min\n",
      "[Parallel(n_jobs=8)]: Done 208 tasks      | elapsed: 15.3min\n",
      "[Parallel(n_jobs=8)]: Done 209 tasks      | elapsed: 15.3min\n",
      "[Parallel(n_jobs=8)]: Done 210 tasks      | elapsed: 15.3min\n",
      "[Parallel(n_jobs=8)]: Done 211 tasks      | elapsed: 15.4min\n",
      "[Parallel(n_jobs=8)]: Done 212 tasks      | elapsed: 15.5min\n",
      "[Parallel(n_jobs=8)]: Done 213 tasks      | elapsed: 15.5min\n",
      "[Parallel(n_jobs=8)]: Done 214 tasks      | elapsed: 15.9min\n",
      "[Parallel(n_jobs=8)]: Done 215 tasks      | elapsed: 15.9min\n",
      "[Parallel(n_jobs=8)]: Done 216 tasks      | elapsed: 16.0min\n",
      "[Parallel(n_jobs=8)]: Done 217 tasks      | elapsed: 16.0min\n",
      "[Parallel(n_jobs=8)]: Done 218 tasks      | elapsed: 16.0min\n",
      "[Parallel(n_jobs=8)]: Done 219 tasks      | elapsed: 16.1min\n",
      "[Parallel(n_jobs=8)]: Done 220 tasks      | elapsed: 16.2min\n",
      "[Parallel(n_jobs=8)]: Done 221 tasks      | elapsed: 16.3min\n",
      "[Parallel(n_jobs=8)]: Done 222 tasks      | elapsed: 16.6min\n",
      "[Parallel(n_jobs=8)]: Done 223 tasks      | elapsed: 16.6min\n",
      "[Parallel(n_jobs=8)]: Done 224 tasks      | elapsed: 16.7min\n",
      "[Parallel(n_jobs=8)]: Done 225 tasks      | elapsed: 16.7min\n",
      "[Parallel(n_jobs=8)]: Done 226 tasks      | elapsed: 16.8min\n",
      "[Parallel(n_jobs=8)]: Done 227 tasks      | elapsed: 16.8min\n",
      "[Parallel(n_jobs=8)]: Done 228 tasks      | elapsed: 17.0min\n",
      "[Parallel(n_jobs=8)]: Done 229 tasks      | elapsed: 17.0min\n",
      "[Parallel(n_jobs=8)]: Done 230 tasks      | elapsed: 17.4min\n",
      "[Parallel(n_jobs=8)]: Done 231 tasks      | elapsed: 17.4min\n",
      "[Parallel(n_jobs=8)]: Done 232 tasks      | elapsed: 17.5min\n",
      "[Parallel(n_jobs=8)]: Done 233 tasks      | elapsed: 17.5min\n",
      "[Parallel(n_jobs=8)]: Done 234 tasks      | elapsed: 17.6min\n",
      "[Parallel(n_jobs=8)]: Done 235 tasks      | elapsed: 17.6min\n",
      "[Parallel(n_jobs=8)]: Done 236 tasks      | elapsed: 17.8min\n",
      "[Parallel(n_jobs=8)]: Done 237 tasks      | elapsed: 17.8min\n",
      "[Parallel(n_jobs=8)]: Done 238 tasks      | elapsed: 18.2min\n",
      "[Parallel(n_jobs=8)]: Done 239 tasks      | elapsed: 18.3min\n",
      "[Parallel(n_jobs=8)]: Done 240 tasks      | elapsed: 18.3min\n",
      "[Parallel(n_jobs=8)]: Done 241 tasks      | elapsed: 18.4min\n",
      "[Parallel(n_jobs=8)]: Done 242 tasks      | elapsed: 18.4min\n",
      "[Parallel(n_jobs=8)]: Done 243 tasks      | elapsed: 18.4min\n",
      "[Parallel(n_jobs=8)]: Done 244 tasks      | elapsed: 18.6min\n",
      "[Parallel(n_jobs=8)]: Done 245 tasks      | elapsed: 18.7min\n",
      "[Parallel(n_jobs=8)]: Done 246 tasks      | elapsed: 19.0min\n",
      "[Parallel(n_jobs=8)]: Done 247 tasks      | elapsed: 19.2min\n",
      "[Parallel(n_jobs=8)]: Done 248 tasks      | elapsed: 19.2min\n",
      "[Parallel(n_jobs=8)]: Done 249 tasks      | elapsed: 19.3min\n",
      "[Parallel(n_jobs=8)]: Done 250 tasks      | elapsed: 19.3min\n",
      "[Parallel(n_jobs=8)]: Done 251 tasks      | elapsed: 19.4min\n",
      "[Parallel(n_jobs=8)]: Done 252 tasks      | elapsed: 19.5min\n",
      "[Parallel(n_jobs=8)]: Done 253 tasks      | elapsed: 19.6min\n",
      "[Parallel(n_jobs=8)]: Done 254 tasks      | elapsed: 19.9min\n",
      "[Parallel(n_jobs=8)]: Done 255 tasks      | elapsed: 20.1min\n",
      "[Parallel(n_jobs=8)]: Done 270 out of 270 | elapsed: 22.9min finished\n"
     ]
    },
    {
     "name": "stdout",
     "output_type": "stream",
     "text": [
      "      Iter       Train Loss      OOB Improve   Remaining Time \n",
      "         1           0.8666           0.0858           24.88s\n",
      "         2           0.8056           0.0663           26.63s\n",
      "         3           0.7480           0.0561           26.86s\n",
      "         4           0.6964           0.0477           26.21s\n",
      "         5           0.6579           0.0410           26.32s\n",
      "         6           0.6144           0.0379           26.42s\n",
      "         7           0.5833           0.0340           25.97s\n",
      "         8           0.5516           0.0308           25.66s\n",
      "         9           0.5283           0.0272           25.68s\n",
      "        10           0.5021           0.0253           25.65s\n",
      "        20           0.3344           0.0122           24.41s\n",
      "        30           0.2310           0.0108           23.22s\n",
      "        40           0.1612           0.0056           22.22s\n",
      "        50           0.1168           0.0028           21.29s\n",
      "        60           0.0951           0.0024           20.69s\n",
      "        70           0.0742           0.0013           19.60s\n",
      "        80           0.0602           0.0009           18.35s\n",
      "        90           0.0505           0.0008           16.97s\n",
      "       100           0.0495           0.0008           15.40s\n",
      "       200           0.0227           0.0000            0.00s\n",
      "--- Grid Search Completed: 23.4 minutes ---\n",
      "Best Params:\n",
      "{'n_estimators': 200, 'subsample': 0.75, 'learning_rate': 0.1}\n",
      "Best CV Score:\n",
      "-0.998530667006\n"
     ]
    }
   ],
   "source": [
    "start_time = time.clock()\n",
    "gbc = GradientBoostingClassifier(random_state=2017, verbose=1)\n",
    "\n",
    "param_grid = {\n",
    "    'n_estimators': [20,30,50,60,70,80,90,100,200],\n",
    "    'learning_rate': [0.05,0.1],\n",
    "    'subsample': [0.7,0.75,0.8]\n",
    "}\n",
    "gb = GridSearchCV(estimator=gbc, param_grid=param_grid,n_jobs=8,cv=5,verbose=20,scoring='roc_auc')\n",
    "gb.fit(X_train.values, y_train.values)\n",
    "\n",
    "print('--- Grid Search Completed: %s minutes ---' % round(((time.clock() - start_time) / 60), 2))\n",
    "print('Best Params:')\n",
    "print(model.best_params_)\n",
    "print('Best CV Score:')\n",
    "print(-model.best_score_)"
   ]
  },
  {
   "cell_type": "code",
   "execution_count": 84,
   "metadata": {
    "collapsed": false
   },
   "outputs": [
    {
     "name": "stdout",
     "output_type": "stream",
     "text": [
      "      Iter       Train Loss      OOB Improve   Remaining Time \n",
      "         1           0.9371           0.0754           10.35s\n",
      "         2           0.8666           0.0633           10.00s\n",
      "         3           0.8152           0.0537           10.11s\n",
      "         4           0.7687           0.0464           10.14s\n",
      "         5           0.7297           0.0404           10.26s\n",
      "         6           0.6875           0.0376           10.12s\n",
      "         7           0.6558           0.0332           10.12s\n",
      "         8           0.6298           0.0275           10.03s\n",
      "         9           0.6014           0.0279           10.12s\n",
      "        10           0.5802           0.0253           10.11s\n",
      "        20           0.4065           0.0124            9.86s\n",
      "        30           0.3238           0.0060            9.45s\n",
      "        40           0.2743           0.0031            8.98s\n",
      "        50           0.2464           0.0031            8.37s\n",
      "        60           0.2222           0.0011            7.63s\n",
      "        70           0.2112           0.0012            7.01s\n",
      "        80           0.1976           0.0009            6.38s\n",
      "        90           0.1889           0.0009            5.75s\n",
      "       100           0.1803           0.0005            5.19s\n",
      "       200           0.1416          -0.0000            0.00s\n",
      "Recall: 0.931844888367\n",
      "===========================\n",
      "Precision: 0.98326100434\n",
      "===========================\n",
      "Accuracy: 0.981898734177\n",
      "=========================\n",
      "user_actual_pay_amount: 0.175294344829\n",
      "pay_mode_cd: 0.156173869553\n",
      "after_prefr_amount: 0.0991853969632\n",
      "user_lv_cd: 0.0809396696298\n",
      "out_wh_tm: 0.0631415307917\n",
      "reg_age: 0.0547774356466\n",
      "print_status_cd: 0.0427591347226\n",
      "vertical_web_type_cd: 0.0358367869748\n",
      "sku_offer_amount: 0.0336367577354\n",
      "delv_center_num: 0.0261820352367\n",
      "m: 0.0211699919048\n",
      "print_tm: 0.017991078565\n",
      "pay_tm: 0.0172118356339\n",
      "promotion_discount_amount: 0.0132653053044\n",
      "total_offer_amount: 0.0132266771806\n",
      "acct_bal_pay_amount: 0.0131407116486\n",
      "item_original_amount: 0.0128755187955\n",
      "no_prefr_total_amount: 0.0122238547784\n",
      "subd_num: 0.0107399028422\n",
      "dq_pay_amount: 0.00907771460723\n",
      "pay_discount_amount: 0.00901540575572\n",
      "reg_user_type_cd: 0.00811247661337\n",
      "rev_addr_county_id: 0.00808427917391\n",
      "ship_sorting_tm: 0.00667283287256\n",
      "full_rebate_offer_amount: 0.00651794666726\n",
      "rev_addr_city_id: 0.00581185876172\n",
      "delv_way_cd: 0.00573810361826\n",
      "easy_pur_flag: 0.00548743664693\n",
      "campus_user_flag: 0.00453121784642\n",
      "sorting_center_pop_rev_tm: 0.00394480057883\n",
      "user_site_province_id: 0.00387281071463\n",
      "engy_subsidy_amount: 0.0032891974302\n",
      "dq_and_jq_pay_amount: 0.00244643018497\n",
      "user_site_county_id: 0.0022965988057\n",
      "jbean_pay_amount: 0.00208235239799\n",
      "other_offer: 0.00161038750085\n",
      "point: 0.00150661559407\n",
      "apple: 0.00142697423201\n",
      "user_age: 0.00131773097695\n",
      "android: 0.00126299454385\n",
      "union_coupon_pay_amount: 0.00114234451089\n",
      "rev_addr_town_id: 0.001137658724\n",
      "package_tm: 0.00110954389504\n",
      "supply: 0.00100277185002\n",
      "user_site_city_id: 0.000977310425842\n",
      "rev_addr_province_id: 0.000378894624937\n",
      "ps_delv_way_cd: 0.000178474320903\n",
      "total_shipping_charge: 0.000172165040027\n",
      "vat_invoice_flag: 1.87070777203e-05\n",
      "member_reg_gender: 4.12527149142e-06\n",
      "====================================================\n",
      "Top 50 Cumulative Importance: 1.0\n"
     ]
    }
   ],
   "source": [
    "gb_best = GradientBoostingClassifier(criterion='friedman_mse', init=None,\n",
    "              learning_rate=0.05, loss='deviance', max_depth=3,\n",
    "              max_features=None, max_leaf_nodes=None,\n",
    "              min_impurity_split=1e-07, min_samples_leaf=1,\n",
    "              min_samples_split=2, min_weight_fraction_leaf=0.0,\n",
    "              n_estimators=200, presort='auto', random_state=2017,\n",
    "              subsample=0.75, verbose=1, warm_start=False)\n",
    "gb_best.fit(X_train, y_train)\n",
    "print_scoring(gb_best, X_test, y_test)\n",
    "print '========================='\n",
    "print_impor(gb_best,X_train)"
   ]
  },
  {
   "cell_type": "code",
   "execution_count": 264,
   "metadata": {
    "collapsed": false
   },
   "outputs": [
    {
     "data": {
      "text/plain": [
       "GradientBoostingClassifier(criterion='friedman_mse', init=None,\n",
       "              learning_rate=0.05, loss='deviance', max_depth=3,\n",
       "              max_features=None, max_leaf_nodes=None,\n",
       "              min_impurity_split=1e-07, min_samples_leaf=1,\n",
       "              min_samples_split=2, min_weight_fraction_leaf=0.0,\n",
       "              n_estimators=200, presort='auto', random_state=2017,\n",
       "              subsample=0.75, verbose=1, warm_start=False)"
      ]
     },
     "execution_count": 264,
     "metadata": {},
     "output_type": "execute_result"
    }
   ],
   "source": [
    "gb.best_estimator_"
   ]
  },
  {
   "cell_type": "code",
   "execution_count": 263,
   "metadata": {
    "collapsed": false
   },
   "outputs": [
    {
     "name": "stdout",
     "output_type": "stream",
     "text": [
      "Recall: 0.989509022241\n",
      "===========================\n",
      "Precision: 0.997884045705\n",
      "===========================\n",
      "Accuracy: 0.997745208568\n"
     ]
    }
   ],
   "source": [
    "print_scoring(gb.best_estimator_, X_test, y_test)"
   ]
  },
  {
   "cell_type": "code",
   "execution_count": 269,
   "metadata": {
    "collapsed": false
   },
   "outputs": [
    {
     "name": "stdout",
     "output_type": "stream",
     "text": [
      "split_status_cd: 0.168894967864\n",
      "ord_status_cd_2: 0.0901963838545\n",
      "ord_complete_tm: 0.0781021703181\n",
      "valid_flag: 0.0446497947724\n",
      "sale_ord_valid_flag: 0.0415153809369\n",
      "ord_syn_status_cd: 0.0347736109733\n",
      "user_actual_pay_amount: 0.0343244668256\n",
      "pay_mode_cd: 0.0322592069299\n",
      "ord_status_cd_1: 0.0313168194339\n",
      "check_account_tm: 0.0274565321746\n",
      "last_update_tm: 0.0274477567488\n",
      "sale_qtty_lim: 0.020891496341\n",
      "store_id: 0.0191099808564\n",
      "pay_tm: 0.0186424058434\n",
      "ord_age: 0.0163590511379\n",
      "sku_offer_amount: 0.0154078951399\n",
      "user_site_county_id: 0.01435283456\n",
      "vertical_web_type_cd: 0.0127074970837\n",
      "sale_ord_tm: 0.0124496810547\n",
      "item_sku_id: 0.0121842850107\n",
      "ord_proc_tm: 0.0111569006579\n",
      "logic_delv_center_num: 0.0105786722699\n",
      "sale_ord_det_tm: 0.0103806902266\n",
      "delv_station_id: 0.0101747100014\n",
      "no_prefr_total_amount: 0.00970045183676\n",
      "android: 0.00964017300785\n",
      "item_original_amount: 0.00935247969186\n",
      "rev_addr_county_id: 0.00819474067854\n",
      "virtual: 0.00787836866941\n",
      "suit_offer_amount: 0.00786751308342\n",
      "total_offer_amount: 0.00741810780283\n",
      "sale_ord_type_cd: 0.00664175175245\n",
      "after_prefr_amount: 0.00653310768064\n",
      "item_first_cate_cd: 0.00635442243585\n",
      "after_prefr_unit_price: 0.00625554001446\n",
      "sale_qtty: 0.00621411362191\n",
      "item_id: 0.00614711880925\n",
      "ship_sorting_tm: 0.00553057206481\n",
      "subd_num: 0.00520111939835\n",
      "user_site_city_id: 0.00509311503392\n",
      "wt: 0.00505700771639\n",
      "sale_ord_det_id: 0.00479766142508\n",
      "rev_addr_city_id: 0.00436423164968\n",
      "apple: 0.00435367789442\n",
      "order_all_weight: 0.00406711192401\n",
      "user_reg_age: 0.00403180832727\n",
      "major_item_first_cate_id: 0.00397481650264\n",
      "user_payable_pay_amount: 0.00353114343524\n",
      "volume: 0.00341693713414\n",
      "pop_item_gross_profit: 0.00339251345074\n",
      "====================================================\n",
      "Top 50 Cumulative Importance: 0.950342796057\n"
     ]
    }
   ],
   "source": [
    "print_impor(gb,X_train)"
   ]
  },
  {
   "cell_type": "code",
   "execution_count": 53,
   "metadata": {
    "collapsed": false,
    "scrolled": true
   },
   "outputs": [
    {
     "data": {
      "text/plain": [
       "array([0, 0, 0, 1, 0, 1, 0, 1, 0, 0, 0, 0, 1, 0, 0, 0, 0, 0, 1, 0], dtype=int64)"
      ]
     },
     "execution_count": 53,
     "metadata": {},
     "output_type": "execute_result"
    }
   ],
   "source": [
    "gb_pred = gb_best.predict(X_test)\n",
    "gb_pred[:20]"
   ]
  }
 ],
 "metadata": {
  "kernelspec": {
   "display_name": "Python 2",
   "language": "python",
   "name": "python2"
  },
  "language_info": {
   "codemirror_mode": {
    "name": "ipython",
    "version": 2
   },
   "file_extension": ".py",
   "mimetype": "text/x-python",
   "name": "python",
   "nbconvert_exporter": "python",
   "pygments_lexer": "ipython2",
   "version": "2.7.13"
  }
 },
 "nbformat": 4,
 "nbformat_minor": 2
}

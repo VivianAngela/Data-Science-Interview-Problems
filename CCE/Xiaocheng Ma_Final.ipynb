{
 "cells": [
  {
   "cell_type": "markdown",
   "metadata": {},
   "source": [
    "# Section 1: Create Tables"
   ]
  },
  {
   "cell_type": "code",
   "execution_count": 1,
   "metadata": {
    "collapsed": false
   },
   "outputs": [],
   "source": [
    "%load_ext sql"
   ]
  },
  {
   "cell_type": "code",
   "execution_count": 2,
   "metadata": {
    "collapsed": false
   },
   "outputs": [
    {
     "data": {
      "text/plain": [
       "'Connected: None@None'"
      ]
     },
     "execution_count": 2,
     "metadata": {},
     "output_type": "execute_result"
    }
   ],
   "source": [
    "%sql sqlite://"
   ]
  },
  {
   "cell_type": "code",
   "execution_count": 3,
   "metadata": {
    "collapsed": false
   },
   "outputs": [
    {
     "name": "stdout",
     "output_type": "stream",
     "text": [
      "Done.\n"
     ]
    },
    {
     "data": {
      "text/plain": [
       "[]"
      ]
     },
     "execution_count": 3,
     "metadata": {},
     "output_type": "execute_result"
    }
   ],
   "source": [
    "%%sql\n",
    "CREATE TABLE mail_Leads (First_name VARCHAR(20), \n",
    "                         Last_name VARCHAR(20), \n",
    "                         Mailing_address VARCHAR(20),\n",
    "                         Electricity_util VARCHAR(30),\n",
    "                         Util_id INTEGER,\n",
    "                         State_id INTEGER,\n",
    "                         County_id INTEGER,\n",
    "                         Census_block_id INTEGER,\n",
    "                         PRIMARY KEY (mailing_address));"
   ]
  },
  {
   "cell_type": "code",
   "execution_count": 4,
   "metadata": {
    "collapsed": false
   },
   "outputs": [
    {
     "name": "stdout",
     "output_type": "stream",
     "text": [
      "Done.\n"
     ]
    },
    {
     "data": {
      "text/plain": [
       "[]"
      ]
     },
     "execution_count": 4,
     "metadata": {},
     "output_type": "execute_result"
    }
   ],
   "source": [
    "%%sql\n",
    "CREATE TABLE mail_tracking (Table_id INTEGER, \n",
    "                            Mailing_name VARCHAR(20), \n",
    "                            Mailing_address VARCHAR(20),\n",
    "                            Electricity_util VARCHAR(30),\n",
    "                            Sent_date DATE,\n",
    "                            Util_id INTEGER,\n",
    "                            Num_of_mails INTEGER,\n",
    "                            Census_tracking_code INTEGER);"
   ]
  },
  {
   "cell_type": "markdown",
   "metadata": {},
   "source": [
    "# Section 2: Queries"
   ]
  },
  {
   "cell_type": "code",
   "execution_count": 5,
   "metadata": {
    "collapsed": false
   },
   "outputs": [
    {
     "name": "stdout",
     "output_type": "stream",
     "text": [
      "Done.\n"
     ]
    },
    {
     "data": {
      "text/plain": [
       "[]"
      ]
     },
     "execution_count": 5,
     "metadata": {},
     "output_type": "execute_result"
    }
   ],
   "source": [
    "%%sql\n",
    "/*1.Number of customer leads by state*/\n",
    "\n",
    "select State_id, count(Mailing_address) as Num_of_customer_leads\n",
    "from mail_Leads\n",
    "group by State_id;"
   ]
  },
  {
   "cell_type": "code",
   "execution_count": 6,
   "metadata": {
    "collapsed": false
   },
   "outputs": [
    {
     "name": "stdout",
     "output_type": "stream",
     "text": [
      "Done.\n"
     ]
    },
    {
     "data": {
      "text/html": [
       "<table>\n",
       "    <tr>\n",
       "        <th>Num_of_unique_addr</th>\n",
       "    </tr>\n",
       "    <tr>\n",
       "        <td>0</td>\n",
       "    </tr>\n",
       "</table>"
      ],
      "text/plain": [
       "[(0,)]"
      ]
     },
     "execution_count": 6,
     "metadata": {},
     "output_type": "execute_result"
    }
   ],
   "source": [
    "%%sql\n",
    "/*2.Number of distinct addresses in the file*/\n",
    "\n",
    "select count(distinct Mailing_address) as Num_of_unique_addr\n",
    "from mail_Leads;"
   ]
  },
  {
   "cell_type": "code",
   "execution_count": 7,
   "metadata": {
    "collapsed": false
   },
   "outputs": [
    {
     "name": "stdout",
     "output_type": "stream",
     "text": [
      "Done.\n"
     ]
    },
    {
     "data": {
      "text/plain": [
       "[]"
      ]
     },
     "execution_count": 7,
     "metadata": {},
     "output_type": "execute_result"
    }
   ],
   "source": [
    "%%sql\n",
    "/*3.Number of customer leads in each utility, grouped by state*/\n",
    "\n",
    "select State_id, Util_id, count(Mailing_address) as Num_of_customer_leads\n",
    "from mail_Leads\n",
    "group by State_id, Util_id;"
   ]
  },
  {
   "cell_type": "code",
   "execution_count": 8,
   "metadata": {
    "collapsed": false
   },
   "outputs": [
    {
     "name": "stdout",
     "output_type": "stream",
     "text": [
      "Done.\n"
     ]
    },
    {
     "data": {
      "text/plain": [
       "[]"
      ]
     },
     "execution_count": 8,
     "metadata": {},
     "output_type": "execute_result"
    }
   ],
   "source": [
    "%%sql\n",
    "/*4.Concatenated census tracking code*/\n",
    "\n",
    "select State_id || County_id || Census_block_id as concat_census_tracking_code\n",
    "from mail_Leads;"
   ]
  },
  {
   "cell_type": "code",
   "execution_count": 9,
   "metadata": {
    "collapsed": false
   },
   "outputs": [
    {
     "name": "stdout",
     "output_type": "stream",
     "text": [
      "Done.\n"
     ]
    },
    {
     "data": {
      "text/plain": [
       "[]"
      ]
     },
     "execution_count": 9,
     "metadata": {},
     "output_type": "execute_result"
    }
   ],
   "source": [
    "%%sql\n",
    "/*5.The total number of mail pieces*/\n",
    "\n",
    "select Table_id,sum(Num_of_mails) as total_num \n",
    "from mail_tracking\n",
    "group by Table_id"
   ]
  },
  {
   "cell_type": "markdown",
   "metadata": {},
   "source": [
    "# Section3"
   ]
  },
  {
   "cell_type": "markdown",
   "metadata": {},
   "source": [
    "## 1) Data Cleaning "
   ]
  },
  {
   "cell_type": "code",
   "execution_count": 10,
   "metadata": {
    "collapsed": true
   },
   "outputs": [],
   "source": [
    "from collections import Counter\n",
    "import pandas as pd\n",
    "import numpy as np\n",
    "import matplotlib.dates as dates\n",
    "from __future__ import division\n",
    "import datetime\n",
    "from matplotlib import pyplot as plt\n",
    "from sklearn.model_selection import train_test_split\n",
    "%matplotlib inline"
   ]
  },
  {
   "cell_type": "markdown",
   "metadata": {},
   "source": [
    "### Since I don't a test dataset, I will split 70% of the original dataset into training data,30% into test data. Although one customer may have multiple energy consumptions in different time, I consider the same person in different time to be two different people. So I will split splits on the entries rather than on the customer_id. And this split can simulate the real-world condition because sometimes the customer is an old customer, sometimes he/she is a new one."
   ]
  },
  {
   "cell_type": "code",
   "execution_count": 11,
   "metadata": {
    "collapsed": false,
    "scrolled": true
   },
   "outputs": [
    {
     "data": {
      "text/html": [
       "<div>\n",
       "<table border=\"1\" class=\"dataframe\">\n",
       "  <thead>\n",
       "    <tr style=\"text-align: right;\">\n",
       "      <th></th>\n",
       "      <th>customer_id</th>\n",
       "      <th>geoid1</th>\n",
       "      <th>geoid2</th>\n",
       "      <th>score</th>\n",
       "    </tr>\n",
       "  </thead>\n",
       "  <tbody>\n",
       "    <tr>\n",
       "      <th>count</th>\n",
       "      <td>69874.000000</td>\n",
       "      <td>69874.000000</td>\n",
       "      <td>69874.000000</td>\n",
       "      <td>69874.000000</td>\n",
       "    </tr>\n",
       "    <tr>\n",
       "      <th>mean</th>\n",
       "      <td>104543.903226</td>\n",
       "      <td>4.877122</td>\n",
       "      <td>97.438489</td>\n",
       "      <td>0.499790</td>\n",
       "    </tr>\n",
       "    <tr>\n",
       "      <th>std</th>\n",
       "      <td>3009.858594</td>\n",
       "      <td>2.716258</td>\n",
       "      <td>42.969757</td>\n",
       "      <td>0.288483</td>\n",
       "    </tr>\n",
       "    <tr>\n",
       "      <th>min</th>\n",
       "      <td>100002.000000</td>\n",
       "      <td>1.000000</td>\n",
       "      <td>14.000000</td>\n",
       "      <td>0.000002</td>\n",
       "    </tr>\n",
       "    <tr>\n",
       "      <th>25%</th>\n",
       "      <td>101851.000000</td>\n",
       "      <td>3.000000</td>\n",
       "      <td>48.000000</td>\n",
       "      <td>0.250253</td>\n",
       "    </tr>\n",
       "    <tr>\n",
       "      <th>50%</th>\n",
       "      <td>104128.000000</td>\n",
       "      <td>4.000000</td>\n",
       "      <td>120.000000</td>\n",
       "      <td>0.498307</td>\n",
       "    </tr>\n",
       "    <tr>\n",
       "      <th>75%</th>\n",
       "      <td>107297.000000</td>\n",
       "      <td>8.000000</td>\n",
       "      <td>121.000000</td>\n",
       "      <td>0.751187</td>\n",
       "    </tr>\n",
       "    <tr>\n",
       "      <th>max</th>\n",
       "      <td>109999.000000</td>\n",
       "      <td>8.000000</td>\n",
       "      <td>173.000000</td>\n",
       "      <td>0.999963</td>\n",
       "    </tr>\n",
       "  </tbody>\n",
       "</table>\n",
       "</div>"
      ],
      "text/plain": [
       "         customer_id        geoid1        geoid2         score\n",
       "count   69874.000000  69874.000000  69874.000000  69874.000000\n",
       "mean   104543.903226      4.877122     97.438489      0.499790\n",
       "std      3009.858594      2.716258     42.969757      0.288483\n",
       "min    100002.000000      1.000000     14.000000      0.000002\n",
       "25%    101851.000000      3.000000     48.000000      0.250253\n",
       "50%    104128.000000      4.000000    120.000000      0.498307\n",
       "75%    107297.000000      8.000000    121.000000      0.751187\n",
       "max    109999.000000      8.000000    173.000000      0.999963"
      ]
     },
     "execution_count": 11,
     "metadata": {},
     "output_type": "execute_result"
    }
   ],
   "source": [
    "data = pd.read_csv('test_usage_data.csv')\n",
    "data.describe()"
   ]
  },
  {
   "cell_type": "code",
   "execution_count": 12,
   "metadata": {
    "collapsed": true
   },
   "outputs": [],
   "source": [
    "x_col = ['customer_id','invoicefromdt','invoicetodt','invoicedate','geoid1','geoid2','score']\n",
    "y_col = ['kwh']\n",
    "X_train, X_test, y_train, y_test = train_test_split(data[x_col],data[y_col],test_size=0.3,random_state=456)"
   ]
  },
  {
   "cell_type": "code",
   "execution_count": 13,
   "metadata": {
    "collapsed": false
   },
   "outputs": [
    {
     "data": {
      "text/html": [
       "<div>\n",
       "<table border=\"1\" class=\"dataframe\">\n",
       "  <thead>\n",
       "    <tr style=\"text-align: right;\">\n",
       "      <th></th>\n",
       "      <th>customer_id</th>\n",
       "      <th>invoicefromdt</th>\n",
       "      <th>invoicetodt</th>\n",
       "      <th>invoicedate</th>\n",
       "      <th>geoid1</th>\n",
       "      <th>geoid2</th>\n",
       "      <th>score</th>\n",
       "    </tr>\n",
       "  </thead>\n",
       "  <tbody>\n",
       "    <tr>\n",
       "      <th>20989</th>\n",
       "      <td>103038</td>\n",
       "      <td>2015/6/16</td>\n",
       "      <td>2015/7/16</td>\n",
       "      <td>2015/7/17</td>\n",
       "      <td>8</td>\n",
       "      <td>114</td>\n",
       "      <td>0.530333</td>\n",
       "    </tr>\n",
       "    <tr>\n",
       "      <th>3849</th>\n",
       "      <td>100796</td>\n",
       "      <td>2015/4/14</td>\n",
       "      <td>2015/5/13</td>\n",
       "      <td>2015/5/15</td>\n",
       "      <td>1</td>\n",
       "      <td>120</td>\n",
       "      <td>0.879737</td>\n",
       "    </tr>\n",
       "    <tr>\n",
       "      <th>66575</th>\n",
       "      <td>107332</td>\n",
       "      <td>2015/4/28</td>\n",
       "      <td>2015/5/29</td>\n",
       "      <td>2015/6/1</td>\n",
       "      <td>3</td>\n",
       "      <td>35</td>\n",
       "      <td>0.241568</td>\n",
       "    </tr>\n",
       "    <tr>\n",
       "      <th>34057</th>\n",
       "      <td>109266</td>\n",
       "      <td>2014/12/11</td>\n",
       "      <td>2015/1/19</td>\n",
       "      <td>2015/1/21</td>\n",
       "      <td>2</td>\n",
       "      <td>42</td>\n",
       "      <td>0.597360</td>\n",
       "    </tr>\n",
       "    <tr>\n",
       "      <th>32365</th>\n",
       "      <td>109434</td>\n",
       "      <td>2015/2/23</td>\n",
       "      <td>2015/3/24</td>\n",
       "      <td>2015/3/26</td>\n",
       "      <td>4</td>\n",
       "      <td>16</td>\n",
       "      <td>0.775568</td>\n",
       "    </tr>\n",
       "  </tbody>\n",
       "</table>\n",
       "</div>"
      ],
      "text/plain": [
       "       customer_id invoicefromdt invoicetodt invoicedate  geoid1  geoid2  \\\n",
       "20989       103038     2015/6/16   2015/7/16   2015/7/17       8     114   \n",
       "3849        100796     2015/4/14   2015/5/13   2015/5/15       1     120   \n",
       "66575       107332     2015/4/28   2015/5/29    2015/6/1       3      35   \n",
       "34057       109266    2014/12/11   2015/1/19   2015/1/21       2      42   \n",
       "32365       109434     2015/2/23   2015/3/24   2015/3/26       4      16   \n",
       "\n",
       "          score  \n",
       "20989  0.530333  \n",
       "3849   0.879737  \n",
       "66575  0.241568  \n",
       "34057  0.597360  \n",
       "32365  0.775568  "
      ]
     },
     "execution_count": 13,
     "metadata": {},
     "output_type": "execute_result"
    }
   ],
   "source": [
    "X_train.head()"
   ]
  },
  {
   "cell_type": "code",
   "execution_count": 14,
   "metadata": {
    "collapsed": false
   },
   "outputs": [
    {
     "name": "stdout",
     "output_type": "stream",
     "text": [
      "<class 'pandas.core.frame.DataFrame'>\n",
      "Int64Index: 48911 entries, 20989 to 30619\n",
      "Data columns (total 7 columns):\n",
      "customer_id      48911 non-null int64\n",
      "invoicefromdt    48911 non-null object\n",
      "invoicetodt      48911 non-null object\n",
      "invoicedate      48911 non-null object\n",
      "geoid1           48911 non-null int64\n",
      "geoid2           48911 non-null int64\n",
      "score            48911 non-null float64\n",
      "dtypes: float64(1), int64(3), object(3)\n",
      "memory usage: 3.0+ MB\n"
     ]
    }
   ],
   "source": [
    "X_train.info()"
   ]
  },
  {
   "cell_type": "markdown",
   "metadata": {},
   "source": [
    "### According to above, we need to convert the dates into datetime type; kwh to float type"
   ]
  },
  {
   "cell_type": "code",
   "execution_count": 15,
   "metadata": {
    "collapsed": false
   },
   "outputs": [
    {
     "ename": "ValueError",
     "evalue": "Unable to parse string \"(null)\" at position 761",
     "output_type": "error",
     "traceback": [
      "\u001b[0;31m---------------------------------------------------------------------------\u001b[0m",
      "\u001b[0;31mValueError\u001b[0m                                Traceback (most recent call last)",
      "\u001b[0;32m<ipython-input-15-fd03d492f7c4>\u001b[0m in \u001b[0;36m<module>\u001b[0;34m()\u001b[0m\n\u001b[1;32m      6\u001b[0m     \u001b[0mX_test\u001b[0m\u001b[1;33m[\u001b[0m\u001b[0mcol\u001b[0m\u001b[1;33m]\u001b[0m \u001b[1;33m=\u001b[0m \u001b[0mconvert2date\u001b[0m\u001b[1;33m(\u001b[0m\u001b[0mX_test\u001b[0m\u001b[1;33m[\u001b[0m\u001b[0mcol\u001b[0m\u001b[1;33m]\u001b[0m\u001b[1;33m)\u001b[0m\u001b[1;33m\u001b[0m\u001b[0m\n\u001b[1;32m      7\u001b[0m \u001b[1;33m\u001b[0m\u001b[0m\n\u001b[0;32m----> 8\u001b[0;31m \u001b[0my_train\u001b[0m\u001b[1;33m[\u001b[0m\u001b[1;34m'kwh'\u001b[0m\u001b[1;33m]\u001b[0m \u001b[1;33m=\u001b[0m \u001b[0mpd\u001b[0m\u001b[1;33m.\u001b[0m\u001b[0mto_numeric\u001b[0m\u001b[1;33m(\u001b[0m\u001b[0my_train\u001b[0m\u001b[1;33m[\u001b[0m\u001b[1;34m'kwh'\u001b[0m\u001b[1;33m]\u001b[0m\u001b[1;33m)\u001b[0m\u001b[1;33m\u001b[0m\u001b[0m\n\u001b[0m\u001b[1;32m      9\u001b[0m \u001b[0my_test\u001b[0m\u001b[1;33m[\u001b[0m\u001b[1;34m'kwh'\u001b[0m\u001b[1;33m]\u001b[0m \u001b[1;33m=\u001b[0m \u001b[0mpd\u001b[0m\u001b[1;33m.\u001b[0m\u001b[0mto_numeric\u001b[0m\u001b[1;33m(\u001b[0m\u001b[0my_test\u001b[0m\u001b[1;33m[\u001b[0m\u001b[1;34m'kwh'\u001b[0m\u001b[1;33m]\u001b[0m\u001b[1;33m)\u001b[0m\u001b[1;33m\u001b[0m\u001b[0m\n",
      "\u001b[0;32mC:\\Users\\KrystalU\\Anaconda2\\lib\\site-packages\\pandas\\tools\\util.pyc\u001b[0m in \u001b[0;36mto_numeric\u001b[0;34m(arg, errors, downcast)\u001b[0m\n\u001b[1;32m    193\u001b[0m             \u001b[0mcoerce_numeric\u001b[0m \u001b[1;33m=\u001b[0m \u001b[0mFalse\u001b[0m \u001b[1;32mif\u001b[0m \u001b[0merrors\u001b[0m \u001b[1;32min\u001b[0m \u001b[1;33m(\u001b[0m\u001b[1;34m'ignore'\u001b[0m\u001b[1;33m,\u001b[0m \u001b[1;34m'raise'\u001b[0m\u001b[1;33m)\u001b[0m \u001b[1;32melse\u001b[0m \u001b[0mTrue\u001b[0m\u001b[1;33m\u001b[0m\u001b[0m\n\u001b[1;32m    194\u001b[0m             values = lib.maybe_convert_numeric(values, set(),\n\u001b[0;32m--> 195\u001b[0;31m                                                coerce_numeric=coerce_numeric)\n\u001b[0m\u001b[1;32m    196\u001b[0m \u001b[1;33m\u001b[0m\u001b[0m\n\u001b[1;32m    197\u001b[0m     \u001b[1;32mexcept\u001b[0m \u001b[0mException\u001b[0m\u001b[1;33m:\u001b[0m\u001b[1;33m\u001b[0m\u001b[0m\n",
      "\u001b[0;32mpandas\\src\\inference.pyx\u001b[0m in \u001b[0;36mpandas.lib.maybe_convert_numeric (pandas\\lib.c:56097)\u001b[0;34m()\u001b[0m\n",
      "\u001b[0;31mValueError\u001b[0m: Unable to parse string \"(null)\" at position 761"
     ]
    }
   ],
   "source": [
    "def convert2date(df):\n",
    "    return pd.to_datetime(df)\n",
    "\n",
    "for col in data.columns[1:4]:\n",
    "    X_train[col] = convert2date(X_train[col])\n",
    "    X_test[col] = convert2date(X_test[col])\n",
    "    \n",
    "y_train['kwh'] = pd.to_numeric(y_train['kwh'])\n",
    "y_test['kwh'] = pd.to_numeric(y_test['kwh'])"
   ]
  },
  {
   "cell_type": "markdown",
   "metadata": {},
   "source": [
    "### Although there is error above, it is useful. According to it: 'ValueError: Unable to parse string \"(null)\" at position 761', there are Nan values in the 'kwh' column"
   ]
  },
  {
   "cell_type": "code",
   "execution_count": 16,
   "metadata": {
    "collapsed": false
   },
   "outputs": [
    {
     "name": "stdout",
     "output_type": "stream",
     "text": [
      "(null)\n",
      "(null)\n",
      "(null)\n",
      "(null)\n",
      "(null)\n",
      "(null)\n",
      "(null)\n",
      "(null)\n",
      "(null)\n",
      "(null)\n",
      "(null)\n",
      "(null)\n",
      "(null)\n",
      "(null)\n",
      "(null)\n",
      "(null)\n",
      "(null)\n",
      "(null)\n",
      "(null)\n",
      "(null)\n",
      "(null)\n",
      "(null)\n",
      "(null)\n",
      "(null)\n",
      "(null)\n",
      "(null)\n",
      "(null)\n",
      "(null)\n",
      "(null)\n",
      "(null)\n",
      "Nan value proportion:0.0613358958108%\n"
     ]
    }
   ],
   "source": [
    "count = 0\n",
    "for item in y_train['kwh']:\n",
    "    try:\n",
    "        item = float(item)\n",
    "    except Exception as e:\n",
    "        count += 1\n",
    "        print item\n",
    "print 'Nan value proportion:{}%'.format(count / len(y_train)*100)"
   ]
  },
  {
   "cell_type": "markdown",
   "metadata": {},
   "source": [
    "### I print out all the values that can't be converted to float in case of multiple set of string values. It seems all the Nan values in the 'kwh' column are represented as '(null)'. Considering the proprotion of these nan values is small, only 0.06% of the training data. For simplicity, we can use the mean or median to fill these nan values."
   ]
  },
  {
   "cell_type": "code",
   "execution_count": 16,
   "metadata": {
    "collapsed": true
   },
   "outputs": [],
   "source": [
    "y_train['kwh'] = pd.to_numeric(y_train['kwh'],errors='coerce')\n",
    "y_train['kwh'] = y_train['kwh'].fillna(y_train['kwh'].mean(),axis=0)"
   ]
  },
  {
   "cell_type": "code",
   "execution_count": 17,
   "metadata": {
    "collapsed": false
   },
   "outputs": [],
   "source": [
    "# Cehck the result of filling\n",
    "assert sum(pd.isnull(y_train['kwh'])) == 0, 'There is still Nan values'"
   ]
  },
  {
   "cell_type": "code",
   "execution_count": 18,
   "metadata": {
    "collapsed": false
   },
   "outputs": [
    {
     "name": "stdout",
     "output_type": "stream",
     "text": [
      "<class 'pandas.core.frame.DataFrame'>\n",
      "Int64Index: 48911 entries, 20989 to 30619\n",
      "Data columns (total 1 columns):\n",
      "kwh    48911 non-null float64\n",
      "dtypes: float64(1)\n",
      "memory usage: 764.2 KB\n"
     ]
    }
   ],
   "source": [
    "y_train.info()"
   ]
  },
  {
   "cell_type": "markdown",
   "metadata": {},
   "source": [
    "## 2) Data Visualization & Feature engineering"
   ]
  },
  {
   "cell_type": "markdown",
   "metadata": {},
   "source": [
    "### Drop customer id. But I don't want to lose the information that one customer had multiple purchases. So I create a  feature called usage_count as the number of purchases a user made."
   ]
  },
  {
   "cell_type": "code",
   "execution_count": 19,
   "metadata": {
    "collapsed": true
   },
   "outputs": [],
   "source": [
    "hashtable = Counter(X_train['customer_id'])\n",
    "X_train['usage_count'] = X_train['customer_id'].map(hashtable)"
   ]
  },
  {
   "cell_type": "code",
   "execution_count": 23,
   "metadata": {
    "collapsed": false
   },
   "outputs": [
    {
     "data": {
      "image/png": "[encoded data removed]",
      "text/plain": [
       "<matplotlib.figure.Figure at 0xe724c88>"
      ]
     },
     "metadata": {},
     "output_type": "display_data"
    }
   ],
   "source": [
    "diff = X_train.invoicetodt-X_train.invoicefromdt\n",
    "# Turn the difference to int\n",
    "diff = map(lambda x: int(str(x)[:str(x).index(' ')]),diff)\n",
    "ax = plt.subplot(111)\n",
    "ax.bar(range(len(diff)),diff)\n",
    "plt.show()"
   ]
  },
  {
   "cell_type": "markdown",
   "metadata": {},
   "source": [
    "### The above figure shows the days betweeen invoicetodt and invoicefromdt. As is seen, almost all customer has the same days range. It can expected that its variance is small."
   ]
  },
  {
   "cell_type": "code",
   "execution_count": 23,
   "metadata": {
    "collapsed": true
   },
   "outputs": [],
   "source": [
    "diff1 = X_train.invoicedate-X_train.invoicetodt\n",
    "diff1 = map(lambda x: int(str(x)[:str(x).index(' ')]),diff1)\n",
    "diff1 = np.array(diff1)"
   ]
  },
  {
   "cell_type": "code",
   "execution_count": 24,
   "metadata": {
    "collapsed": false
   },
   "outputs": [
    {
     "data": {
      "text/plain": [
       "<Container object of 2 artists>"
      ]
     },
     "execution_count": 24,
     "metadata": {},
     "output_type": "execute_result"
    },
    {
     "data": {
      "image/png": "[encoded data removed]",
      "text/plain": [
       "<matplotlib.figure.Figure at 0xf1bdda0>"
      ]
     },
     "metadata": {},
     "output_type": "display_data"
    }
   ],
   "source": [
    "fig, axes = plt.subplots(2, 2,figsize=(10,6)) \n",
    "ax1,ax2,ax3,ax4 = axes[0,0],axes[0,1],axes[1,0],axes[1,1]\n",
    "\n",
    "ax1.bar(xrange(len(y_train[diff1>100]['kwh'])),y_train[diff1>100]['kwh'])\n",
    "ax1.set_title('Bigger diff group')\n",
    "\n",
    "ax2.bar(xrange(len(y_train[diff1<=100]['kwh'])),y_train[diff1<=100]['kwh'])\n",
    "ax2.set_title('Smaller diff group')\n",
    "\n",
    "mean_diff= [np.mean(y_train[diff1>100]['kwh']),np.mean(y_train[diff1<=100]['kwh'])]\n",
    "ax3.set_ylabel('Mean consumption')\n",
    "ax3.bar(range(len(mean_diff)),mean_diff)\n",
    "\n",
    "std_diff = np.std(y_train[diff1>100]['kwh']),np.std(y_train[diff1<=100]['kwh'])\n",
    "ax4.set_ylabel('Std consumption')\n",
    "ax4.bar(range(len(std_diff)),std_diff)"
   ]
  },
  {
   "cell_type": "markdown",
   "metadata": {},
   "source": [
    "### As is seen from above, customers whose difference between the invoice date and the invoicetodate is bigger tends to have a bigger energy usage. But their variance is also big compared to those whose difference is smaller which means their consumption is less stable. So we can draw a simple conclusion: High risk, high profit. And this difference can be a informative feature which I will build later."
   ]
  },
  {
   "cell_type": "markdown",
   "metadata": {},
   "source": [
    "#### Mean & Std between invoicedate and invoicetodt"
   ]
  },
  {
   "cell_type": "code",
   "execution_count": 20,
   "metadata": {
    "collapsed": false,
    "scrolled": true
   },
   "outputs": [
    {
     "data": {
      "text/plain": [
       "(Timedelta('3 days 08:52:05.480975'), Timedelta('12 days 12:33:00.389338'))"
      ]
     },
     "execution_count": 20,
     "metadata": {},
     "output_type": "execute_result"
    }
   ],
   "source": [
    "temp = X_train.invoicedate - X_train.invoicetodt\n",
    "np.mean(temp),np.std(temp)"
   ]
  },
  {
   "cell_type": "markdown",
   "metadata": {},
   "source": [
    "#### Mean & Std of diff between invoicetodt and invoicefromdt"
   ]
  },
  {
   "cell_type": "code",
   "execution_count": 21,
   "metadata": {
    "collapsed": false
   },
   "outputs": [
    {
     "data": {
      "text/plain": [
       "(Timedelta('29 days 21:23:13.527018'), Timedelta('4 days 12:01:56.473802'))"
      ]
     },
     "execution_count": 21,
     "metadata": {},
     "output_type": "execute_result"
    }
   ],
   "source": [
    "temp = X_train.invoicetodt - X_train.invoicefromdt\n",
    "np.mean(temp),np.std(temp)"
   ]
  },
  {
   "cell_type": "markdown",
   "metadata": {},
   "source": [
    "### 1. As is seen above, the std of the diff between invoicetodt and invoicefromdt compared to its mean is far more smaller than that between the invoicedate and invoicetodt. It means alomst every customer has the same amout time during the invoice. So the diff between invoicetodt and invoicefromdt can' be a informative feature and I will drop the three columns concerning with date, then create a new feature with the difference between the invoicedate and invoicetodt which can be more informative.   \n",
    "### 2. Here I don't consider about time-series analysis although the data is time-concerning and instead use the difference to substitute. That's beacause each customer is independent so actually the dates are not actually time-series."
   ]
  },
  {
   "cell_type": "code",
   "execution_count": 22,
   "metadata": {
    "collapsed": false,
    "scrolled": true
   },
   "outputs": [
    {
     "data": {
      "text/html": [
       "<div>\n",
       "<table border=\"1\" class=\"dataframe\">\n",
       "  <thead>\n",
       "    <tr style=\"text-align: right;\">\n",
       "      <th></th>\n",
       "      <th>customer_id</th>\n",
       "      <th>invoicefromdt</th>\n",
       "      <th>invoicetodt</th>\n",
       "      <th>invoicedate</th>\n",
       "      <th>geoid1</th>\n",
       "      <th>geoid2</th>\n",
       "      <th>score</th>\n",
       "      <th>usage_count</th>\n",
       "    </tr>\n",
       "  </thead>\n",
       "  <tbody>\n",
       "    <tr>\n",
       "      <th>20989</th>\n",
       "      <td>103038</td>\n",
       "      <td>2015-06-16</td>\n",
       "      <td>2015-07-16</td>\n",
       "      <td>2015-07-17</td>\n",
       "      <td>8</td>\n",
       "      <td>114</td>\n",
       "      <td>0.530333</td>\n",
       "      <td>12</td>\n",
       "    </tr>\n",
       "    <tr>\n",
       "      <th>3849</th>\n",
       "      <td>100796</td>\n",
       "      <td>2015-04-14</td>\n",
       "      <td>2015-05-13</td>\n",
       "      <td>2015-05-15</td>\n",
       "      <td>1</td>\n",
       "      <td>120</td>\n",
       "      <td>0.879737</td>\n",
       "      <td>11</td>\n",
       "    </tr>\n",
       "    <tr>\n",
       "      <th>66575</th>\n",
       "      <td>107332</td>\n",
       "      <td>2015-04-28</td>\n",
       "      <td>2015-05-29</td>\n",
       "      <td>2015-06-01</td>\n",
       "      <td>3</td>\n",
       "      <td>35</td>\n",
       "      <td>0.241568</td>\n",
       "      <td>11</td>\n",
       "    </tr>\n",
       "    <tr>\n",
       "      <th>34057</th>\n",
       "      <td>109266</td>\n",
       "      <td>2014-12-11</td>\n",
       "      <td>2015-01-19</td>\n",
       "      <td>2015-01-21</td>\n",
       "      <td>2</td>\n",
       "      <td>42</td>\n",
       "      <td>0.597360</td>\n",
       "      <td>5</td>\n",
       "    </tr>\n",
       "    <tr>\n",
       "      <th>32365</th>\n",
       "      <td>109434</td>\n",
       "      <td>2015-02-23</td>\n",
       "      <td>2015-03-24</td>\n",
       "      <td>2015-03-26</td>\n",
       "      <td>4</td>\n",
       "      <td>16</td>\n",
       "      <td>0.775568</td>\n",
       "      <td>10</td>\n",
       "    </tr>\n",
       "  </tbody>\n",
       "</table>\n",
       "</div>"
      ],
      "text/plain": [
       "       customer_id invoicefromdt invoicetodt invoicedate  geoid1  geoid2  \\\n",
       "20989       103038    2015-06-16  2015-07-16  2015-07-17       8     114   \n",
       "3849        100796    2015-04-14  2015-05-13  2015-05-15       1     120   \n",
       "66575       107332    2015-04-28  2015-05-29  2015-06-01       3      35   \n",
       "34057       109266    2014-12-11  2015-01-19  2015-01-21       2      42   \n",
       "32365       109434    2015-02-23  2015-03-24  2015-03-26       4      16   \n",
       "\n",
       "          score  usage_count  \n",
       "20989  0.530333           12  \n",
       "3849   0.879737           11  \n",
       "66575  0.241568           11  \n",
       "34057  0.597360            5  \n",
       "32365  0.775568           10  "
      ]
     },
     "execution_count": 22,
     "metadata": {},
     "output_type": "execute_result"
    }
   ],
   "source": [
    "X_train.head()"
   ]
  },
  {
   "cell_type": "code",
   "execution_count": 23,
   "metadata": {
    "collapsed": true
   },
   "outputs": [],
   "source": [
    "seasonmap = {3:1,4:1,5:1,   #Spring\n",
    "             6:2,7:2,8:2,   #Summer\n",
    "             9:3,10:3,11:3, #Autumn\n",
    "             12: 0,1:0,2:0} #Winter"
   ]
  },
  {
   "cell_type": "code",
   "execution_count": 24,
   "metadata": {
    "collapsed": false
   },
   "outputs": [
    {
     "data": {
      "text/plain": [
       "<matplotlib.axes._subplots.AxesSubplot at 0xe979630>"
      ]
     },
     "execution_count": 24,
     "metadata": {},
     "output_type": "execute_result"
    },
    {
     "data": {
      "image/png": "[encoded data removed]",
      "text/plain": [
       "<matplotlib.figure.Figure at 0xe9790b8>"
      ]
     },
     "metadata": {},
     "output_type": "display_data"
    }
   ],
   "source": [
    "X_train['start_Month'] = map(lambda x: x.month, X_train['invoicefromdt'])\n",
    "X_train['Season'] = X_train['start_Month'].map(seasonmap)\n",
    "temp = pd.concat([X_train,y_train],axis=1)\n",
    "season_sum = temp.groupby('Season')['kwh'].sum()\n",
    "df = pd.DataFrame(season_sum)\n",
    "df.index = ['Winter','Spring','Summer','Autumn']\n",
    "df.plot(kind='bar',figsize=(8,4),title='Using starting month as season')"
   ]
  },
  {
   "cell_type": "code",
   "execution_count": 25,
   "metadata": {
    "collapsed": false
   },
   "outputs": [
    {
     "data": {
      "text/plain": [
       "<matplotlib.axes._subplots.AxesSubplot at 0xe9637b8>"
      ]
     },
     "execution_count": 25,
     "metadata": {},
     "output_type": "execute_result"
    },
    {
     "data": {
      "image/png": "[encoded data removed]",
      "text/plain": [
       "<matplotlib.figure.Figure at 0xe942fd0>"
      ]
     },
     "metadata": {},
     "output_type": "display_data"
    }
   ],
   "source": [
    "X_train['end_Month'] = map(lambda x: x.month, X_train['invoicetodt'])\n",
    "X_train['Season'] = X_train['end_Month'].map(seasonmap)\n",
    "temp = pd.concat([X_train,y_train],axis=1)\n",
    "season_sum = temp.groupby('Season')['kwh'].sum()\n",
    "df = pd.DataFrame(season_sum)\n",
    "df.index = ['Winter','Spring','Summer','Autumn']\n",
    "df.plot(kind='bar',figsize=(8,4),title='Using ending month as season')"
   ]
  },
  {
   "cell_type": "markdown",
   "metadata": {},
   "source": [
    "### 1. In the figure called 'Using starting month as season', I use the starting month to map to the season the customer is in. For example, if the month is 3, it's 'spring' or if the month is 12, it's 'winter'. While in the figure called 'Using ending month as season', I use the ending month to map to the season. Whichever way I map, as is seen from above two figures, the overall energy consumption in winter and autumn is among the top 2, while in spring and summer, the consumption is among the lowest 2.  \n",
    "###  2. And one thing to notice is that there is a big gap between the two figures in Autumn. As for the reason, My interpretation is that the overall geological position of all the customers may be in a relatively high latitude so the months of autumn and winter are generally longer and the temparature in these positions are lower."
   ]
  },
  {
   "cell_type": "code",
   "execution_count": 26,
   "metadata": {
    "collapsed": false
   },
   "outputs": [
    {
     "data": {
      "text/html": [
       "<div>\n",
       "<table border=\"1\" class=\"dataframe\">\n",
       "  <thead>\n",
       "    <tr style=\"text-align: right;\">\n",
       "      <th></th>\n",
       "      <th>customer_id</th>\n",
       "      <th>invoicefromdt</th>\n",
       "      <th>invoicetodt</th>\n",
       "      <th>invoicedate</th>\n",
       "      <th>geoid1</th>\n",
       "      <th>geoid2</th>\n",
       "      <th>score</th>\n",
       "      <th>usage_count</th>\n",
       "      <th>start_Month</th>\n",
       "      <th>Season</th>\n",
       "      <th>end_Month</th>\n",
       "    </tr>\n",
       "  </thead>\n",
       "  <tbody>\n",
       "    <tr>\n",
       "      <th>20989</th>\n",
       "      <td>103038</td>\n",
       "      <td>2015-06-16</td>\n",
       "      <td>2015-07-16</td>\n",
       "      <td>2015-07-17</td>\n",
       "      <td>8</td>\n",
       "      <td>114</td>\n",
       "      <td>0.530333</td>\n",
       "      <td>12</td>\n",
       "      <td>6</td>\n",
       "      <td>2</td>\n",
       "      <td>7</td>\n",
       "    </tr>\n",
       "    <tr>\n",
       "      <th>3849</th>\n",
       "      <td>100796</td>\n",
       "      <td>2015-04-14</td>\n",
       "      <td>2015-05-13</td>\n",
       "      <td>2015-05-15</td>\n",
       "      <td>1</td>\n",
       "      <td>120</td>\n",
       "      <td>0.879737</td>\n",
       "      <td>11</td>\n",
       "      <td>4</td>\n",
       "      <td>1</td>\n",
       "      <td>5</td>\n",
       "    </tr>\n",
       "    <tr>\n",
       "      <th>66575</th>\n",
       "      <td>107332</td>\n",
       "      <td>2015-04-28</td>\n",
       "      <td>2015-05-29</td>\n",
       "      <td>2015-06-01</td>\n",
       "      <td>3</td>\n",
       "      <td>35</td>\n",
       "      <td>0.241568</td>\n",
       "      <td>11</td>\n",
       "      <td>4</td>\n",
       "      <td>1</td>\n",
       "      <td>5</td>\n",
       "    </tr>\n",
       "    <tr>\n",
       "      <th>34057</th>\n",
       "      <td>109266</td>\n",
       "      <td>2014-12-11</td>\n",
       "      <td>2015-01-19</td>\n",
       "      <td>2015-01-21</td>\n",
       "      <td>2</td>\n",
       "      <td>42</td>\n",
       "      <td>0.597360</td>\n",
       "      <td>5</td>\n",
       "      <td>12</td>\n",
       "      <td>0</td>\n",
       "      <td>1</td>\n",
       "    </tr>\n",
       "    <tr>\n",
       "      <th>32365</th>\n",
       "      <td>109434</td>\n",
       "      <td>2015-02-23</td>\n",
       "      <td>2015-03-24</td>\n",
       "      <td>2015-03-26</td>\n",
       "      <td>4</td>\n",
       "      <td>16</td>\n",
       "      <td>0.775568</td>\n",
       "      <td>10</td>\n",
       "      <td>2</td>\n",
       "      <td>1</td>\n",
       "      <td>3</td>\n",
       "    </tr>\n",
       "  </tbody>\n",
       "</table>\n",
       "</div>"
      ],
      "text/plain": [
       "       customer_id invoicefromdt invoicetodt invoicedate  geoid1  geoid2  \\\n",
       "20989       103038    2015-06-16  2015-07-16  2015-07-17       8     114   \n",
       "3849        100796    2015-04-14  2015-05-13  2015-05-15       1     120   \n",
       "66575       107332    2015-04-28  2015-05-29  2015-06-01       3      35   \n",
       "34057       109266    2014-12-11  2015-01-19  2015-01-21       2      42   \n",
       "32365       109434    2015-02-23  2015-03-24  2015-03-26       4      16   \n",
       "\n",
       "          score  usage_count  start_Month  Season  end_Month  \n",
       "20989  0.530333           12            6       2          7  \n",
       "3849   0.879737           11            4       1          5  \n",
       "66575  0.241568           11            4       1          5  \n",
       "34057  0.597360            5           12       0          1  \n",
       "32365  0.775568           10            2       1          3  "
      ]
     },
     "execution_count": 26,
     "metadata": {},
     "output_type": "execute_result"
    }
   ],
   "source": [
    "X_train.head()"
   ]
  },
  {
   "cell_type": "code",
   "execution_count": 27,
   "metadata": {
    "collapsed": false
   },
   "outputs": [
    {
     "data": {
      "text/html": [
       "<div>\n",
       "<table border=\"1\" class=\"dataframe\">\n",
       "  <thead>\n",
       "    <tr style=\"text-align: right;\">\n",
       "      <th></th>\n",
       "      <th>geoid1</th>\n",
       "      <th>geoid2</th>\n",
       "      <th>score</th>\n",
       "      <th>usage_count</th>\n",
       "      <th>start_Month</th>\n",
       "      <th>Season</th>\n",
       "      <th>end_Month</th>\n",
       "      <th>diff</th>\n",
       "    </tr>\n",
       "  </thead>\n",
       "  <tbody>\n",
       "    <tr>\n",
       "      <th>20989</th>\n",
       "      <td>8</td>\n",
       "      <td>114</td>\n",
       "      <td>0.530333</td>\n",
       "      <td>12</td>\n",
       "      <td>6</td>\n",
       "      <td>2</td>\n",
       "      <td>7</td>\n",
       "      <td>1</td>\n",
       "    </tr>\n",
       "    <tr>\n",
       "      <th>3849</th>\n",
       "      <td>1</td>\n",
       "      <td>120</td>\n",
       "      <td>0.879737</td>\n",
       "      <td>11</td>\n",
       "      <td>4</td>\n",
       "      <td>1</td>\n",
       "      <td>5</td>\n",
       "      <td>2</td>\n",
       "    </tr>\n",
       "    <tr>\n",
       "      <th>66575</th>\n",
       "      <td>3</td>\n",
       "      <td>35</td>\n",
       "      <td>0.241568</td>\n",
       "      <td>11</td>\n",
       "      <td>4</td>\n",
       "      <td>1</td>\n",
       "      <td>5</td>\n",
       "      <td>3</td>\n",
       "    </tr>\n",
       "    <tr>\n",
       "      <th>34057</th>\n",
       "      <td>2</td>\n",
       "      <td>42</td>\n",
       "      <td>0.597360</td>\n",
       "      <td>5</td>\n",
       "      <td>12</td>\n",
       "      <td>0</td>\n",
       "      <td>1</td>\n",
       "      <td>2</td>\n",
       "    </tr>\n",
       "    <tr>\n",
       "      <th>32365</th>\n",
       "      <td>4</td>\n",
       "      <td>16</td>\n",
       "      <td>0.775568</td>\n",
       "      <td>10</td>\n",
       "      <td>2</td>\n",
       "      <td>1</td>\n",
       "      <td>3</td>\n",
       "      <td>2</td>\n",
       "    </tr>\n",
       "  </tbody>\n",
       "</table>\n",
       "</div>"
      ],
      "text/plain": [
       "       geoid1  geoid2     score  usage_count  start_Month  Season  end_Month  \\\n",
       "20989       8     114  0.530333           12            6       2          7   \n",
       "3849        1     120  0.879737           11            4       1          5   \n",
       "66575       3      35  0.241568           11            4       1          5   \n",
       "34057       2      42  0.597360            5           12       0          1   \n",
       "32365       4      16  0.775568           10            2       1          3   \n",
       "\n",
       "       diff  \n",
       "20989     1  \n",
       "3849      2  \n",
       "66575     3  \n",
       "34057     2  \n",
       "32365     2  "
      ]
     },
     "execution_count": 27,
     "metadata": {},
     "output_type": "execute_result"
    }
   ],
   "source": [
    "# Convert to diff feature and drop the three columns\n",
    "X_train['diff'] = X_train['invoicedate'] - X_train['invoicetodt']\n",
    "X_train['diff'] = map(lambda x: int(str(x)[:str(x).index(' ')]), X_train['diff'])\n",
    "X_train.drop(['customer_id','invoicefromdt','invoicetodt','invoicedate'],axis=1,inplace = True)\n",
    "X_train.head()"
   ]
  },
  {
   "cell_type": "code",
   "execution_count": 28,
   "metadata": {
    "collapsed": false
   },
   "outputs": [],
   "source": [
    "\"\"\"\n",
    "Groupby ['geoid1','geoid2'] and calculate the results' sum and mean energy usage\n",
    "\"\"\"\n",
    "\n",
    "temp =pd.concat([X_train,y_train],axis=1)\n",
    "def build_coor(case):\n",
    "    if case == 'sum':\n",
    "        energy_usage = dict(temp.groupby(['geoid1','geoid2'])['kwh'].sum())\n",
    "    else:\n",
    "        energy_usage = dict(temp.groupby(['geoid1','geoid2'])['kwh'].mean())\n",
    "    x,y,z = [],[],[]\n",
    "    for key, value in energy_usage.items():\n",
    "        x.append(key[0])\n",
    "        y.append(key[1])\n",
    "        z.append(value)\n",
    "    return x,y,z\n",
    "\n",
    "sum_x, sum_y, sum_z = build_coor('sum')\n",
    "mean_x, mean_y, mean_z = build_coor('mean')"
   ]
  },
  {
   "cell_type": "code",
   "execution_count": 29,
   "metadata": {
    "collapsed": false,
    "scrolled": true
   },
   "outputs": [
    {
     "data": {
      "image/png": "[encoded data removed]",
      "text/plain": [
       "<matplotlib.figure.Figure at 0xe942780>"
      ]
     },
     "metadata": {},
     "output_type": "display_data"
    }
   ],
   "source": [
    "\"\"\"\n",
    "Draw the overall energy usage in different places. The darker the color, the more it uses.\n",
    "\"\"\"\n",
    "plt.figure(figsize=(7,5))\n",
    "plt.scatter(sum_x,sum_y, c=sum_z, s=100, cmap=\"YlOrBr\", edgecolor=\"k\")\n",
    "plt.colorbar(label=\"Sum of Energy Usage\")\n",
    "plt.xlabel('geoid1')\n",
    "plt.ylabel('geoid2')\n",
    "plt.grid()\n",
    "plt.show()"
   ]
  },
  {
   "cell_type": "code",
   "execution_count": 30,
   "metadata": {
    "collapsed": false
   },
   "outputs": [
    {
     "data": {
      "image/png": "[encoded data removed]",
      "text/plain": [
       "<matplotlib.figure.Figure at 0xf291f28>"
      ]
     },
     "metadata": {},
     "output_type": "display_data"
    }
   ],
   "source": [
    "\"\"\"\n",
    "Draw the overall energy usage in different places. The darker the color, the more it uses.\n",
    "\"\"\"\n",
    "plt.figure(figsize=(7,5))\n",
    "plt.scatter(mean_x,mean_y, c=mean_z, s=100, cmap=\"YlOrBr\", edgecolor=\"k\")\n",
    "plt.colorbar(label=\"Mean Energy Usage\")\n",
    "plt.xlabel('geoid1')\n",
    "plt.ylabel('geoid2')\n",
    "plt.grid()\n",
    "plt.show()"
   ]
  },
  {
   "cell_type": "markdown",
   "metadata": {},
   "source": [
    "### The above two figures respectively show the sum and  mean of the energy usage in different places. The darker the color is, the more energy that place uses. As is seen, generally speaking, customer whose geoid2 is low or high tend to have more energy usage. And the energy usage distribution in these two figures is alomost the same which means the places having more overall energy usage also has more mean energy usage."
   ]
  },
  {
   "cell_type": "markdown",
   "metadata": {
    "collapsed": true
   },
   "source": [
    "### 3) Machine Learning"
   ]
  },
  {
   "cell_type": "code",
   "execution_count": 31,
   "metadata": {
    "collapsed": false
   },
   "outputs": [],
   "source": [
    "from sklearn.metrics import mean_squared_error as mse\n",
    "from sklearn.metrics import mean_absolute_error as mae\n",
    "from sklearn.model_selection import GridSearchCV\n",
    "from sklearn.ensemble import GradientBoostingRegressor as GBR\n",
    "from sklearn.svm import SVR\n",
    "from sklearn import linear_model\n",
    "from sklearn import tree\n",
    "from sklearn.preprocessing import Normalizer\n",
    "from sklearn.preprocessing import MaxAbsScaler\n",
    "from sklearn.preprocessing import MinMaxScaler\n",
    "import time"
   ]
  },
  {
   "cell_type": "code",
   "execution_count": 32,
   "metadata": {
    "collapsed": false
   },
   "outputs": [
    {
     "data": {
      "text/html": [
       "<div>\n",
       "<table border=\"1\" class=\"dataframe\">\n",
       "  <thead>\n",
       "    <tr style=\"text-align: right;\">\n",
       "      <th></th>\n",
       "      <th>geoid1</th>\n",
       "      <th>geoid2</th>\n",
       "      <th>score</th>\n",
       "      <th>usage_count</th>\n",
       "      <th>diff</th>\n",
       "      <th>end_Month</th>\n",
       "      <th>start_Month</th>\n",
       "      <th>Season</th>\n",
       "    </tr>\n",
       "  </thead>\n",
       "  <tbody>\n",
       "    <tr>\n",
       "      <th>27995</th>\n",
       "      <td>8</td>\n",
       "      <td>114</td>\n",
       "      <td>0.439943</td>\n",
       "      <td>6</td>\n",
       "      <td>1</td>\n",
       "      <td>8</td>\n",
       "      <td>7</td>\n",
       "      <td>2</td>\n",
       "    </tr>\n",
       "    <tr>\n",
       "      <th>63592</th>\n",
       "      <td>4</td>\n",
       "      <td>41</td>\n",
       "      <td>0.630107</td>\n",
       "      <td>4</td>\n",
       "      <td>2</td>\n",
       "      <td>5</td>\n",
       "      <td>4</td>\n",
       "      <td>1</td>\n",
       "    </tr>\n",
       "    <tr>\n",
       "      <th>31343</th>\n",
       "      <td>1</td>\n",
       "      <td>120</td>\n",
       "      <td>0.821492</td>\n",
       "      <td>4</td>\n",
       "      <td>2</td>\n",
       "      <td>2</td>\n",
       "      <td>1</td>\n",
       "      <td>0</td>\n",
       "    </tr>\n",
       "    <tr>\n",
       "      <th>22266</th>\n",
       "      <td>1</td>\n",
       "      <td>120</td>\n",
       "      <td>0.470477</td>\n",
       "      <td>2</td>\n",
       "      <td>2</td>\n",
       "      <td>2</td>\n",
       "      <td>1</td>\n",
       "      <td>0</td>\n",
       "    </tr>\n",
       "    <tr>\n",
       "      <th>33144</th>\n",
       "      <td>5</td>\n",
       "      <td>74</td>\n",
       "      <td>0.145317</td>\n",
       "      <td>3</td>\n",
       "      <td>1</td>\n",
       "      <td>7</td>\n",
       "      <td>6</td>\n",
       "      <td>2</td>\n",
       "    </tr>\n",
       "  </tbody>\n",
       "</table>\n",
       "</div>"
      ],
      "text/plain": [
       "       geoid1  geoid2     score  usage_count  diff  end_Month  start_Month  \\\n",
       "27995       8     114  0.439943            6     1          8            7   \n",
       "63592       4      41  0.630107            4     2          5            4   \n",
       "31343       1     120  0.821492            4     2          2            1   \n",
       "22266       1     120  0.470477            2     2          2            1   \n",
       "33144       5      74  0.145317            3     1          7            6   \n",
       "\n",
       "       Season  \n",
       "27995       2  \n",
       "63592       1  \n",
       "31343       0  \n",
       "22266       0  \n",
       "33144       2  "
      ]
     },
     "execution_count": 32,
     "metadata": {},
     "output_type": "execute_result"
    }
   ],
   "source": [
    "\"\"\"\n",
    "Do the same transforamtion to the test data as the training data.\n",
    "\"\"\"\n",
    "X_test['usage_count'] = X_test['customer_id'].map(Counter(X_test['customer_id']))\n",
    "X_test['diff'] = X_test.invoicedate - X_test.invoicetodt\n",
    "X_test['diff'] = map(lambda x: int(str(x)[:str(x).index(' ')]),X_test['diff'])\n",
    "X_test['end_Month'] = map(lambda x: x.month, X_test['invoicetodt'])\n",
    "X_test['start_Month'] = map(lambda x: x.month, X_test['invoicefromdt'])\n",
    "X_test['Season'] = X_test['end_Month'].map(seasonmap)\n",
    "X_test.drop(['customer_id','invoicefromdt','invoicetodt','invoicedate'],axis=1,inplace = True)\n",
    "X_test.head()"
   ]
  },
  {
   "cell_type": "code",
   "execution_count": 33,
   "metadata": {
    "collapsed": false
   },
   "outputs": [],
   "source": [
    "# Fill Nan in y_test\n",
    "y_test['kwh'] = pd.to_numeric(y_test['kwh'],errors = 'coerce')\n",
    "y_test['kwh'] = y_test['kwh'].fillna(y_test['kwh'].mean(),axis=0)"
   ]
  },
  {
   "cell_type": "code",
   "execution_count": 34,
   "metadata": {
    "collapsed": false,
    "scrolled": false
   },
   "outputs": [
    {
     "name": "stdout",
     "output_type": "stream",
     "text": [
      "<class 'pandas.core.frame.DataFrame'>\n",
      "Int64Index: 20963 entries, 27995 to 32653\n",
      "Data columns (total 1 columns):\n",
      "kwh    20963 non-null float64\n",
      "dtypes: float64(1)\n",
      "memory usage: 327.5 KB\n"
     ]
    }
   ],
   "source": [
    "y_test.info()"
   ]
  },
  {
   "cell_type": "code",
   "execution_count": 35,
   "metadata": {
    "collapsed": false
   },
   "outputs": [
    {
     "data": {
      "text/html": [
       "<div>\n",
       "<table border=\"1\" class=\"dataframe\">\n",
       "  <thead>\n",
       "    <tr style=\"text-align: right;\">\n",
       "      <th></th>\n",
       "      <th>geoid1</th>\n",
       "      <th>geoid2</th>\n",
       "      <th>score</th>\n",
       "      <th>usage_count</th>\n",
       "      <th>start_Month</th>\n",
       "      <th>Season</th>\n",
       "      <th>end_Month</th>\n",
       "      <th>diff</th>\n",
       "    </tr>\n",
       "  </thead>\n",
       "  <tbody>\n",
       "    <tr>\n",
       "      <th>20989</th>\n",
       "      <td>8</td>\n",
       "      <td>114</td>\n",
       "      <td>0.530333</td>\n",
       "      <td>12</td>\n",
       "      <td>6</td>\n",
       "      <td>2</td>\n",
       "      <td>7</td>\n",
       "      <td>1</td>\n",
       "    </tr>\n",
       "    <tr>\n",
       "      <th>3849</th>\n",
       "      <td>1</td>\n",
       "      <td>120</td>\n",
       "      <td>0.879737</td>\n",
       "      <td>11</td>\n",
       "      <td>4</td>\n",
       "      <td>1</td>\n",
       "      <td>5</td>\n",
       "      <td>2</td>\n",
       "    </tr>\n",
       "    <tr>\n",
       "      <th>66575</th>\n",
       "      <td>3</td>\n",
       "      <td>35</td>\n",
       "      <td>0.241568</td>\n",
       "      <td>11</td>\n",
       "      <td>4</td>\n",
       "      <td>1</td>\n",
       "      <td>5</td>\n",
       "      <td>3</td>\n",
       "    </tr>\n",
       "    <tr>\n",
       "      <th>34057</th>\n",
       "      <td>2</td>\n",
       "      <td>42</td>\n",
       "      <td>0.597360</td>\n",
       "      <td>5</td>\n",
       "      <td>12</td>\n",
       "      <td>0</td>\n",
       "      <td>1</td>\n",
       "      <td>2</td>\n",
       "    </tr>\n",
       "    <tr>\n",
       "      <th>32365</th>\n",
       "      <td>4</td>\n",
       "      <td>16</td>\n",
       "      <td>0.775568</td>\n",
       "      <td>10</td>\n",
       "      <td>2</td>\n",
       "      <td>1</td>\n",
       "      <td>3</td>\n",
       "      <td>2</td>\n",
       "    </tr>\n",
       "  </tbody>\n",
       "</table>\n",
       "</div>"
      ],
      "text/plain": [
       "       geoid1  geoid2     score  usage_count  start_Month  Season  end_Month  \\\n",
       "20989       8     114  0.530333           12            6       2          7   \n",
       "3849        1     120  0.879737           11            4       1          5   \n",
       "66575       3      35  0.241568           11            4       1          5   \n",
       "34057       2      42  0.597360            5           12       0          1   \n",
       "32365       4      16  0.775568           10            2       1          3   \n",
       "\n",
       "       diff  \n",
       "20989     1  \n",
       "3849      2  \n",
       "66575     3  \n",
       "34057     2  \n",
       "32365     2  "
      ]
     },
     "execution_count": 35,
     "metadata": {},
     "output_type": "execute_result"
    }
   ],
   "source": [
    "X_train.head()"
   ]
  },
  {
   "cell_type": "markdown",
   "metadata": {},
   "source": [
    "### 1.Gradient Boosting Regression"
   ]
  },
  {
   "cell_type": "code",
   "execution_count": 36,
   "metadata": {
    "collapsed": false
   },
   "outputs": [],
   "source": [
    "\"\"\"\n",
    "RMSE\n",
    "\"\"\"\n",
    "def rmse(predictions, targets):\n",
    "    return np.sqrt(((predictions - targets) ** 2).mean())\n",
    "\n",
    "\"\"\"\n",
    "Tune parameters\n",
    "\"\"\"\n",
    "def param_tune(col_name):\n",
    "    start = time.clock()\n",
    "    temp = X_train[col_name]\n",
    "    grid = GridSearchCV(GBR(), param_grid={\"n_estimators\":range(50,210,10), \n",
    "                                           \"learning_rate\": [0.05,0.1,0.2,0.4],\n",
    "                                           \"random_state\":[2017]}, \n",
    "                        scoring = 'neg_mean_squared_error',cv=5)\n",
    "    grid.fit(temp.values,y_train.values)\n",
    "    print(\"The best parameters are %s with a score of %0.2f\"\n",
    "          % (grid.best_params_, grid.best_score_))\n",
    "    print 'Calculating time:{} mins'.format((time.clock() - start) / 60)\n",
    "    return grid.best_params_\n",
    "\n",
    "\n",
    "\"\"\"\n",
    "Calculate three errors: MSE, MAE, RMSE\n",
    "\"\"\"\n",
    "def gbr_error(best_param,col_name):\n",
    "    temp = X_train[col_name]\n",
    "    gbr = GBR(n_estimators = best_param['n_estimators'],\n",
    "              learning_rate=best_param['learning_rate'],\n",
    "              random_state=best_param['random_state'])\n",
    "    gbr.fit(temp,y_train.values)\n",
    "    gbr_pred = gbr.predict(X_test[col_name])\n",
    "    print 'GBR MSE:{}'.format(mse(y_test,gbr_pred))\n",
    "    print 'GBR MAE:{}'.format(mae(y_test,gbr_pred))\n",
    "    print 'GBR RMSE:{}'.format(rmse(y_test.values,gbr_pred))"
   ]
  },
  {
   "cell_type": "markdown",
   "metadata": {},
   "source": [
    "#### Predicting Result of selecting columns ['geoid1','geoid2','score','diff']"
   ]
  },
  {
   "cell_type": "code",
   "execution_count": 42,
   "metadata": {
    "collapsed": false
   },
   "outputs": [
    {
     "name": "stdout",
     "output_type": "stream",
     "text": [
      "The best parameters are {'n_estimators': 90, 'learning_rate': 0.2, 'random_state': 456} with a score of -464.11\n",
      "Calculating time:385.474905116\n"
     ]
    }
   ],
   "source": [
    "best_param = param_tune(['geoid1','geoid2','score','diff','usage_count'])"
   ]
  },
  {
   "cell_type": "code",
   "execution_count": 47,
   "metadata": {
    "collapsed": false
   },
   "outputs": [
    {
     "name": "stdout",
     "output_type": "stream",
     "text": [
      "GBR MSE:603818.809794\n",
      "GBR MAE:518.774044668\n",
      "GBR RMSE:816.9546471\n"
     ]
    }
   ],
   "source": [
    "gbr_error(best_param, ['geoid1','geoid2','score','diff','usage_count'])"
   ]
  },
  {
   "cell_type": "markdown",
   "metadata": {},
   "source": [
    "#### Predicting Result of selecting columns ['geoid1','geoid2','score','diff','Season']"
   ]
  },
  {
   "cell_type": "code",
   "execution_count": 48,
   "metadata": {
    "collapsed": false
   },
   "outputs": [
    {
     "name": "stdout",
     "output_type": "stream",
     "text": [
      "The best parameters are {'n_estimators': 190, 'learning_rate': 0.1, 'random_state': 456} with a score of -460.44\n",
      "Calculating time:460.699165196\n",
      "GBR MSE:529415.896706\n",
      "GBR MAE:461.232416094\n",
      "GBR RMSE:785.13852348\n"
     ]
    }
   ],
   "source": [
    "col_name = ['geoid1','geoid2','score','diff','Season']\n",
    "best_param = param_tune(col_name)\n",
    "gbr_error(best_param, col_name)"
   ]
  },
  {
   "cell_type": "markdown",
   "metadata": {},
   "source": [
    "#### Predicting Result of selecting columns ['geoid1','geoid2','score','diff','Season','start_Month']"
   ]
  },
  {
   "cell_type": "code",
   "execution_count": 49,
   "metadata": {
    "collapsed": false
   },
   "outputs": [
    {
     "name": "stdout",
     "output_type": "stream",
     "text": [
      "The best parameters are {'n_estimators': 90, 'learning_rate': 0.2, 'random_state': 456} with a score of -453.44\n",
      "Calculating time:525.568700956\n",
      "GBR MSE:512141.259746\n",
      "GBR MAE:453.030197092\n",
      "GBR RMSE:794.138815995\n"
     ]
    }
   ],
   "source": [
    "col_name = ['geoid1','geoid2','score','diff','Season','start_Month']\n",
    "best_param = param_tune(col_name)\n",
    "gbr_error(best_param, col_name)"
   ]
  },
  {
   "cell_type": "code",
   "execution_count": 53,
   "metadata": {
    "collapsed": false
   },
   "outputs": [
    {
     "data": {
      "image/png": "[encoded data removed]",
      "text/plain": [
       "<matplotlib.figure.Figure at 0xe6c7b70>"
      ]
     },
     "metadata": {},
     "output_type": "display_data"
    },
    {
     "data": {
      "text/plain": [
       "<matplotlib.figure.Figure at 0x109cdc50>"
      ]
     },
     "metadata": {},
     "output_type": "display_data"
    }
   ],
   "source": [
    "temp = X_train[col_name]\n",
    "gbr = GBR(n_estimators = best_param['n_estimators'],\n",
    "          learning_rate=best_param['learning_rate'],\n",
    "          random_state=best_param['random_state'])\n",
    "gbr.fit(temp,y_train.values)\n",
    "feature_importance = gbr.feature_importances_\n",
    "feature_importance = 100.0 * (feature_importance / feature_importance.max())\n",
    "sorted_idx = np.argsort(feature_importance)\n",
    "pos = np.arange(sorted_idx.shape[0]) + .5\n",
    "plt.subplot(1, 2, 2)\n",
    "plt.barh(pos, feature_importance[sorted_idx], align='center')\n",
    "plt.yticks(pos, temp.columns[sorted_idx])\n",
    "plt.xlabel('Relative Importance')\n",
    "plt.title('Variable Importance')\n",
    "plt.figure(figsize=(8,15))\n",
    "plt.show()"
   ]
  },
  {
   "cell_type": "markdown",
   "metadata": {},
   "source": [
    "### According to above error calculation, the best solution is as follows:\n",
    "#### Features selected: ['geoid1','geoid2','score','diff','Season','start_Month']\n",
    "#### Cross_validation evaluating metric: MAE\n",
    "#### Best_parameters: 'n_estimators': 90, 'learning_rate': 0.2, 'random_state': 456\n",
    "#### Best_error: MSE:512141.259746; MAE:453.030197092; RMSE:794.138815995"
   ]
  },
  {
   "cell_type": "markdown",
   "metadata": {},
   "source": [
    "### The reason why I add one feature at a time and test the result is because the number of original features is small,so I need to build new features and I want to see how each added new featue can affect the result. And the feature importance is shown above."
   ]
  },
  {
   "cell_type": "markdown",
   "metadata": {},
   "source": [
    "### 2. Ridge Regression"
   ]
  },
  {
   "cell_type": "code",
   "execution_count": 55,
   "metadata": {
    "collapsed": false
   },
   "outputs": [
    {
     "name": "stdout",
     "output_type": "stream",
     "text": [
      "Normalizer(copy=True, norm='l2')\n",
      "Ridge MSE:2268691.18213\n",
      "Ridge MAE:1228.36092113\n",
      "Ridge RMSE:1506.21750824\n",
      "=================================================\n",
      "MaxAbsScaler(copy=True)\n",
      "Ridge MSE:562921.448668\n",
      "Ridge MAE:487.478091925\n",
      "Ridge RMSE:750.280913171\n",
      "=================================================\n",
      "MinMaxScaler(copy=True, feature_range=(0, 1))\n",
      "Ridge MSE:562855.018189\n",
      "Ridge MAE:484.94424461\n",
      "Ridge RMSE:750.23664146\n",
      "=================================================\n"
     ]
    }
   ],
   "source": [
    "norm = [Normalizer(), MaxAbsScaler(), MinMaxScaler()]\n",
    "for method in norm:\n",
    "    col_name = ['geoid1','geoid2','score','diff','Season','start_Month']\n",
    "    temp = X_train[col_name]\n",
    "    ridge = linear_model.RidgeCV(alphas=[0.1,0.5,1,10],cv=5)\n",
    "    method.fit(temp,y_train.values)\n",
    "    ridge_train = method.fit_transform(temp)\n",
    "    ridge_test = MinMaxScaler().fit_transform(X_test[col_name])\n",
    "    ridge.fit(ridge_train,y_train.values)\n",
    "    ridge_pred = ridge.predict(ridge_test)\n",
    "    print '{}'.format(method)\n",
    "    print 'Ridge MSE:{}'.format(mse(y_test,ridge_pred))\n",
    "    print 'Ridge MAE:{}'.format(mae(y_test,ridge_pred))\n",
    "    print 'Ridge RMSE:{}'.format(rmse(y_test.values,ridge_pred))\n",
    "    print '================================================='"
   ]
  },
  {
   "cell_type": "markdown",
   "metadata": {},
   "source": [
    "### Since Ridge Regression is sensitive to the way that normalize the data, I tried three normalization and as seen from above, MinMaxScaler has the smaller MSE,MAE,RMSE compare to the other two. But the error is bigger than ensemble method Gradient Boosting Tree. It makes sense because generally ensemble methods is better than the linear model. "
   ]
  },
  {
   "cell_type": "markdown",
   "metadata": {},
   "source": [
    "### 3. Support Vetor Regression"
   ]
  },
  {
   "cell_type": "code",
   "execution_count": null,
   "metadata": {
    "collapsed": true
   },
   "outputs": [],
   "source": [
    "start = time.clock()\n",
    "best_mae = 10**4\n",
    "best_param = {'penalty':1,'C':1}\n",
    "best_predictor = None\n",
    "\n",
    "col_name = ['geoid1','geoid2','score','diff','Season','start_Month']\n",
    "temp = X_train[col_name]\n",
    "MinMaxScaler().fit(temp)\n",
    "temp_train,temp_test = method.fit_transform(temp),method.fit_transform(X_test[col_name])\n",
    "grid = GridSearchCV(SVR(), param_grid={\"C\":range(10,110,10), \n",
    "                                       \"gamma\": [1, 0.1, 0.01,0.001], \n",
    "                                       'kernel':['linear','rbf','poly']}, \n",
    "                    scoring = 'neg_mean_absolute_error',cv=5)\n",
    "grid.fit(temp_train,y_train.values)\n",
    "grid_pred = grid.predict(temp_test,y_test)\n",
    "temp_score = mae(y_test,grid_pred)\n",
    "print 'SVR MAE:{}'.format(temp_score)\n",
    "print 'Total time:{}'.format(time.clock()-start)"
   ]
  },
  {
   "cell_type": "markdown",
   "metadata": {
    "collapsed": true
   },
   "source": [
    "### I've tried SVR to do regression. But the training and tuning parameters takes ages. Till I submit the test, it's still training. I leave my code here to show what I did."
   ]
  },
  {
   "cell_type": "markdown",
   "metadata": {},
   "source": [
    "### 4.Ensemble"
   ]
  },
  {
   "cell_type": "code",
   "execution_count": 37,
   "metadata": {
    "collapsed": false
   },
   "outputs": [],
   "source": [
    "import os\n",
    "\n",
    "mingw_path = 'C:\\\\Program Files\\\\mingw-w64\\\\x86_64-6.3.0-posix-seh-rt_v5-rev1\\\\mingw64\\\\bin'\n",
    "\n",
    "os.environ['PATH'] = mingw_path + ';' + os.environ['PATH']\n",
    "from xgboost import XGBRegressor\n"
   ]
  },
  {
   "cell_type": "code",
   "execution_count": 39,
   "metadata": {
    "collapsed": false
   },
   "outputs": [],
   "source": [
    "from sklearn.cross_validation import KFold\n",
    "from sklearn.ensemble import RandomForestRegressor, ExtraTreesRegressor, GradientBoostingRegressor\n",
    "from sklearn import grid_search\n",
    "from sklearn.metrics import mean_squared_error, make_scorer\n"
   ]
  },
  {
   "cell_type": "code",
   "execution_count": 43,
   "metadata": {
    "collapsed": true
   },
   "outputs": [],
   "source": [
    "def mean_squared_error_(ground_truth, predictions):\n",
    "    return mean_squared_error(ground_truth, predictions) ** 0.5\n",
    "\n",
    "RMSE = make_scorer(mean_squared_error_, greater_is_better=False)\n",
    "\n",
    "def model_tune(model):\n",
    "    start = time.clock()\n",
    "    best_model = GridSearchCV(model, \n",
    "                              param_grid = {\"n_estimators\":range(50,210,10), \n",
    "                                            \"learning_rate\": [0.05,0.1,0.2,0.4],\n",
    "                                            \"random_state\":[2017],\n",
    "                                            \"verbose\": [1]},\n",
    "                              n_jobs = 5,\n",
    "                              scoring = RMSE,\n",
    "                              cv=10)\n",
    "    best_model.fit(X_train.values,y_train.values)\n",
    "    print(\"The best parameters are %s with a score of %0.2f\"\n",
    "          % (best_model.best_params_, best_model.best_score_))\n",
    "    print 'Calculating time:{} mins'.format((time.clock() - start) / 60)\n",
    "    print '========================================================'\n",
    "    return best_model.best_params_"
   ]
  },
  {
   "cell_type": "code",
   "execution_count": null,
   "metadata": {
    "collapsed": false
   },
   "outputs": [],
   "source": [
    "gbr_best_param = model_tune(GradientBoostingRegressor(random_state=2017,verbose=1))\n",
    "etr_best_param = model_tune(ExtraTreesRegressor(random_state = 2017,verbose=1))\n",
    "rf_best_param = model_tune(RandomForestRegressor(random_state = 2017,verbose=1))\n",
    "xgb_best_param = model_tune(XGBRegressor(random_state = 2017,verbose=1))"
   ]
  },
  {
   "cell_type": "code",
   "execution_count": 75,
   "metadata": {
    "collapsed": true
   },
   "outputs": [],
   "source": [
    "base_models = [\n",
    "        RandomForestRegressor(\n",
    "            n_jobs=1, random_state=2016, verbose=1,\n",
    "            n_estimators=100, \n",
    "        ),\n",
    "        ExtraTreesRegressor(\n",
    "            n_jobs=1, random_state=2016, verbose=1,\n",
    "            n_estimators=100,\n",
    "        ),\n",
    "        GradientBoostingRegressor(\n",
    "            random_state=2016, verbose=1,\n",
    "            n_estimators=100,\n",
    "            #learning_rate=0.05, subsample=0.8\n",
    "        ),\n",
    "        XGBRegressor(\n",
    "            seed=2016,\n",
    "            n_estimators=200,colsample_bytree=0.85,max_depth=8\n",
    "        )\n",
    "    ]"
   ]
  },
  {
   "cell_type": "code",
   "execution_count": 41,
   "metadata": {
    "collapsed": true
   },
   "outputs": [],
   "source": [
    "def mean_squared_error_(ground_truth, predictions):\n",
    "    return mean_squared_error(ground_truth, predictions) ** 0.5\n",
    "\n",
    "RMSE = make_scorer(mean_squared_error_, greater_is_better=False)"
   ]
  },
  {
   "cell_type": "code",
   "execution_count": 42,
   "metadata": {
    "collapsed": false
   },
   "outputs": [],
   "source": [
    "class Ensemble(object):\n",
    "    def __init__(self, n_folds, stacker, base_models):\n",
    "        self.n_folds = n_folds\n",
    "        self.stacker = stacker\n",
    "        self.base_models = base_models\n",
    "\n",
    "    def fit_predict(self, X, y, T):\n",
    "        X = np.array(X)\n",
    "        y = np.array(y)\n",
    "        T = np.array(T)\n",
    "\n",
    "        folds = list(KFold(len(y), n_folds=self.n_folds, shuffle=True, random_state=2016))\n",
    "\n",
    "        S_train = np.zeros((X.shape[0], len(self.base_models)))\n",
    "        S_test = np.zeros((T.shape[0], len(self.base_models)))\n",
    "\n",
    "        for i, clf in enumerate(self.base_models):\n",
    "\n",
    "            print('Fitting For Base Model #{0} / {1} ---'.format(i+1, len(self.base_models)))\n",
    "\n",
    "            S_test_i = np.zeros((T.shape[0], len(folds)))\n",
    "\n",
    "            for j, (train_idx, test_idx) in enumerate(folds):\n",
    "\n",
    "                print('--- Fitting For Fold #{0} / {1} ---'.format(j+1, self.n_folds))\n",
    "\n",
    "                X_train = X[train_idx]\n",
    "                y_train = y[train_idx]\n",
    "                X_holdout = X[test_idx]\n",
    "                # y_holdout = y[test_idx]\n",
    "                \n",
    "                clf.fit(X_train, y_train)\n",
    "\n",
    "                print 'Classifier:{}'.format(clf)\n",
    "                y_pred = clf.predict(X_holdout)[:]\n",
    "                S_train[test_idx, i] = y_pred\n",
    "                S_test_i[:, j] = clf.predict(T)[:]\n",
    "\n",
    "                print('Elapsed: %s minutes ---' % round(((time.time() - start_time) / 60), 2))\n",
    "\n",
    "            S_test[:, i] = S_test_i.mean(1)\n",
    "\n",
    "            print('Elapsed: %s minutes ---' % round(((time.time() - start_time) / 60), 2))\n",
    "\n",
    "        print('--- Base Models Trained: %s minutes ---' % round(((time.time() - start_time) / 60), 2))\n",
    "\n",
    "        param_grid = {\n",
    "             'n_estimators': [50,80,90,100,150,200],\n",
    "             'learning_rate': [0.1, 0.05, 0.2],\n",
    "             #'subsample': [0.72, 0.75, 0.78]\n",
    "         }\n",
    "        # param_grid = {\n",
    "        #    'n_estimators': [100],\n",
    "        #    'learning_rate': [0.05],\n",
    "        #    'subsample': [0.75]\n",
    "        #}\n",
    "        grid = grid_search.GridSearchCV(estimator=self.stacker, \n",
    "                                        param_grid=param_grid, n_jobs=3, cv=5, verbose=20, \n",
    "                                        scoring='neg_mean_absolute_error')\n",
    "        grid.fit(S_train, y)\n",
    "\n",
    "        # a little memo\n",
    "        message = 'to determine local CV score of #28'\n",
    "\n",
    "        try:\n",
    "            print('Param grid:')\n",
    "            print(param_grid)\n",
    "            print('Best Params:')\n",
    "            print(grid.best_params_)\n",
    "            print('Best CV Score:')\n",
    "            print(-grid.best_score_)\n",
    "            print('Best estimator:')\n",
    "            print(grid.best_estimator_)\n",
    "            print(message)\n",
    "        except:\n",
    "            pass\n",
    "\n",
    "        print('--- Stacker Trained: %s minutes ---' % round(((time.time() - start_time) / 60), 2))\n",
    "\n",
    "        y_pred = grid.predict(S_test)[:]\n",
    "\n",
    "        return y_pred"
   ]
  },
  {
   "cell_type": "code",
   "execution_count": 78,
   "metadata": {
    "collapsed": false
   },
   "outputs": [],
   "source": [
    "ensemble = Ensemble(\n",
    "        n_folds=5,\n",
    "        stacker=GradientBoostingRegressor(\n",
    "            random_state=2016, verbose=1\n",
    "        ),\n",
    "        base_models=base_models\n",
    "    )"
   ]
  },
  {
   "cell_type": "code",
   "execution_count": 79,
   "metadata": {
    "collapsed": false,
    "scrolled": true
   },
   "outputs": [
    {
     "name": "stdout",
     "output_type": "stream",
     "text": [
      "Fitting For Base Model #1 / 4 ---\n",
      "--- Fitting For Fold #1 / 5 ---\n"
     ]
    },
    {
     "name": "stderr",
     "output_type": "stream",
     "text": [
      "C:\\Users\\KrystalU\\Anaconda2\\lib\\site-packages\\ipykernel\\__main__.py:32: DataConversionWarning: A column-vector y was passed when a 1d array was expected. Please change the shape of y to (n_samples,), for example using ravel().\n",
      "[Parallel(n_jobs=1)]: Done 100 out of 100 | elapsed:   13.0s finished\n"
     ]
    },
    {
     "name": "stdout",
     "output_type": "stream",
     "text": [
      "Classifier:RandomForestRegressor(bootstrap=True, criterion='mse', max_depth=None,\n",
      "           max_features='auto', max_leaf_nodes=None,\n",
      "           min_impurity_split=1e-07, min_samples_leaf=1,\n",
      "           min_samples_split=2, min_weight_fraction_leaf=0.0,\n",
      "           n_estimators=100, n_jobs=1, oob_score=False, random_state=2016,\n",
      "           verbose=1, warm_start=False)\n"
     ]
    },
    {
     "name": "stderr",
     "output_type": "stream",
     "text": [
      "[Parallel(n_jobs=1)]: Done 100 out of 100 | elapsed:    0.3s finished\n",
      "[Parallel(n_jobs=1)]: Done 100 out of 100 | elapsed:    0.3s finished\n"
     ]
    },
    {
     "name": "stdout",
     "output_type": "stream",
     "text": [
      "Elapsed: 0.23 minutes ---\n",
      "--- Fitting For Fold #2 / 5 ---\n"
     ]
    },
    {
     "name": "stderr",
     "output_type": "stream",
     "text": [
      "[Parallel(n_jobs=1)]: Done 100 out of 100 | elapsed:   12.7s finished\n"
     ]
    },
    {
     "name": "stdout",
     "output_type": "stream",
     "text": [
      "Classifier:RandomForestRegressor(bootstrap=True, criterion='mse', max_depth=None,\n",
      "           max_features='auto', max_leaf_nodes=None,\n",
      "           min_impurity_split=1e-07, min_samples_leaf=1,\n",
      "           min_samples_split=2, min_weight_fraction_leaf=0.0,\n",
      "           n_estimators=100, n_jobs=1, oob_score=False, random_state=2016,\n",
      "           verbose=1, warm_start=False)\n"
     ]
    },
    {
     "name": "stderr",
     "output_type": "stream",
     "text": [
      "[Parallel(n_jobs=1)]: Done 100 out of 100 | elapsed:    0.3s finished\n",
      "[Parallel(n_jobs=1)]: Done 100 out of 100 | elapsed:    0.3s finished\n"
     ]
    },
    {
     "name": "stdout",
     "output_type": "stream",
     "text": [
      "Elapsed: 0.46 minutes ---\n",
      "--- Fitting For Fold #3 / 5 ---\n"
     ]
    },
    {
     "name": "stderr",
     "output_type": "stream",
     "text": [
      "[Parallel(n_jobs=1)]: Done 100 out of 100 | elapsed:   13.1s finished\n"
     ]
    },
    {
     "name": "stdout",
     "output_type": "stream",
     "text": [
      "Classifier:RandomForestRegressor(bootstrap=True, criterion='mse', max_depth=None,\n",
      "           max_features='auto', max_leaf_nodes=None,\n",
      "           min_impurity_split=1e-07, min_samples_leaf=1,\n",
      "           min_samples_split=2, min_weight_fraction_leaf=0.0,\n",
      "           n_estimators=100, n_jobs=1, oob_score=False, random_state=2016,\n",
      "           verbose=1, warm_start=False)\n"
     ]
    },
    {
     "name": "stderr",
     "output_type": "stream",
     "text": [
      "[Parallel(n_jobs=1)]: Done 100 out of 100 | elapsed:    0.3s finished\n",
      "[Parallel(n_jobs=1)]: Done 100 out of 100 | elapsed:    0.3s finished\n"
     ]
    },
    {
     "name": "stdout",
     "output_type": "stream",
     "text": [
      "Elapsed: 0.7 minutes ---\n",
      "--- Fitting For Fold #4 / 5 ---\n"
     ]
    },
    {
     "name": "stderr",
     "output_type": "stream",
     "text": [
      "[Parallel(n_jobs=1)]: Done 100 out of 100 | elapsed:   12.9s finished\n"
     ]
    },
    {
     "name": "stdout",
     "output_type": "stream",
     "text": [
      "Classifier:RandomForestRegressor(bootstrap=True, criterion='mse', max_depth=None,\n",
      "           max_features='auto', max_leaf_nodes=None,\n",
      "           min_impurity_split=1e-07, min_samples_leaf=1,\n",
      "           min_samples_split=2, min_weight_fraction_leaf=0.0,\n",
      "           n_estimators=100, n_jobs=1, oob_score=False, random_state=2016,\n",
      "           verbose=1, warm_start=False)\n"
     ]
    },
    {
     "name": "stderr",
     "output_type": "stream",
     "text": [
      "[Parallel(n_jobs=1)]: Done 100 out of 100 | elapsed:    0.3s finished\n",
      "[Parallel(n_jobs=1)]: Done 100 out of 100 | elapsed:    0.3s finished\n"
     ]
    },
    {
     "name": "stdout",
     "output_type": "stream",
     "text": [
      "Elapsed: 0.93 minutes ---\n",
      "--- Fitting For Fold #5 / 5 ---\n"
     ]
    },
    {
     "name": "stderr",
     "output_type": "stream",
     "text": [
      "[Parallel(n_jobs=1)]: Done 100 out of 100 | elapsed:   12.5s finished\n"
     ]
    },
    {
     "name": "stdout",
     "output_type": "stream",
     "text": [
      "Classifier:RandomForestRegressor(bootstrap=True, criterion='mse', max_depth=None,\n",
      "           max_features='auto', max_leaf_nodes=None,\n",
      "           min_impurity_split=1e-07, min_samples_leaf=1,\n",
      "           min_samples_split=2, min_weight_fraction_leaf=0.0,\n",
      "           n_estimators=100, n_jobs=1, oob_score=False, random_state=2016,\n",
      "           verbose=1, warm_start=False)\n"
     ]
    },
    {
     "name": "stderr",
     "output_type": "stream",
     "text": [
      "[Parallel(n_jobs=1)]: Done 100 out of 100 | elapsed:    0.3s finished\n",
      "[Parallel(n_jobs=1)]: Done 100 out of 100 | elapsed:    0.2s finished\n"
     ]
    },
    {
     "name": "stdout",
     "output_type": "stream",
     "text": [
      "Elapsed: 1.16 minutes ---\n",
      "Elapsed: 1.16 minutes ---\n",
      "Fitting For Base Model #2 / 4 ---\n",
      "--- Fitting For Fold #1 / 5 ---\n"
     ]
    },
    {
     "name": "stderr",
     "output_type": "stream",
     "text": [
      "[Parallel(n_jobs=1)]: Done 100 out of 100 | elapsed:    8.1s finished\n"
     ]
    },
    {
     "name": "stdout",
     "output_type": "stream",
     "text": [
      "Classifier:ExtraTreesRegressor(bootstrap=False, criterion='mse', max_depth=None,\n",
      "          max_features='auto', max_leaf_nodes=None,\n",
      "          min_impurity_split=1e-07, min_samples_leaf=1,\n",
      "          min_samples_split=2, min_weight_fraction_leaf=0.0,\n",
      "          n_estimators=100, n_jobs=1, oob_score=False, random_state=2016,\n",
      "          verbose=1, warm_start=False)\n"
     ]
    },
    {
     "name": "stderr",
     "output_type": "stream",
     "text": [
      "[Parallel(n_jobs=1)]: Done 100 out of 100 | elapsed:    0.3s finished\n",
      "[Parallel(n_jobs=1)]: Done 100 out of 100 | elapsed:    0.2s finished\n"
     ]
    },
    {
     "name": "stdout",
     "output_type": "stream",
     "text": [
      "Elapsed: 1.31 minutes ---\n",
      "--- Fitting For Fold #2 / 5 ---\n"
     ]
    },
    {
     "name": "stderr",
     "output_type": "stream",
     "text": [
      "[Parallel(n_jobs=1)]: Done 100 out of 100 | elapsed:    7.6s finished\n"
     ]
    },
    {
     "name": "stdout",
     "output_type": "stream",
     "text": [
      "Classifier:ExtraTreesRegressor(bootstrap=False, criterion='mse', max_depth=None,\n",
      "          max_features='auto', max_leaf_nodes=None,\n",
      "          min_impurity_split=1e-07, min_samples_leaf=1,\n",
      "          min_samples_split=2, min_weight_fraction_leaf=0.0,\n",
      "          n_estimators=100, n_jobs=1, oob_score=False, random_state=2016,\n",
      "          verbose=1, warm_start=False)\n"
     ]
    },
    {
     "name": "stderr",
     "output_type": "stream",
     "text": [
      "[Parallel(n_jobs=1)]: Done 100 out of 100 | elapsed:    0.3s finished\n",
      "[Parallel(n_jobs=1)]: Done 100 out of 100 | elapsed:    0.3s finished\n"
     ]
    },
    {
     "name": "stdout",
     "output_type": "stream",
     "text": [
      "Elapsed: 1.46 minutes ---\n",
      "--- Fitting For Fold #3 / 5 ---\n"
     ]
    },
    {
     "name": "stderr",
     "output_type": "stream",
     "text": [
      "[Parallel(n_jobs=1)]: Done 100 out of 100 | elapsed:    7.7s finished\n"
     ]
    },
    {
     "name": "stdout",
     "output_type": "stream",
     "text": [
      "Classifier:ExtraTreesRegressor(bootstrap=False, criterion='mse', max_depth=None,\n",
      "          max_features='auto', max_leaf_nodes=None,\n",
      "          min_impurity_split=1e-07, min_samples_leaf=1,\n",
      "          min_samples_split=2, min_weight_fraction_leaf=0.0,\n",
      "          n_estimators=100, n_jobs=1, oob_score=False, random_state=2016,\n",
      "          verbose=1, warm_start=False)\n"
     ]
    },
    {
     "name": "stderr",
     "output_type": "stream",
     "text": [
      "[Parallel(n_jobs=1)]: Done 100 out of 100 | elapsed:    0.3s finished\n",
      "[Parallel(n_jobs=1)]: Done 100 out of 100 | elapsed:    0.3s finished\n"
     ]
    },
    {
     "name": "stdout",
     "output_type": "stream",
     "text": [
      "Elapsed: 1.6 minutes ---\n",
      "--- Fitting For Fold #4 / 5 ---\n"
     ]
    },
    {
     "name": "stderr",
     "output_type": "stream",
     "text": [
      "[Parallel(n_jobs=1)]: Done 100 out of 100 | elapsed:    7.7s finished\n"
     ]
    },
    {
     "name": "stdout",
     "output_type": "stream",
     "text": [
      "Classifier:ExtraTreesRegressor(bootstrap=False, criterion='mse', max_depth=None,\n",
      "          max_features='auto', max_leaf_nodes=None,\n",
      "          min_impurity_split=1e-07, min_samples_leaf=1,\n",
      "          min_samples_split=2, min_weight_fraction_leaf=0.0,\n",
      "          n_estimators=100, n_jobs=1, oob_score=False, random_state=2016,\n",
      "          verbose=1, warm_start=False)\n"
     ]
    },
    {
     "name": "stderr",
     "output_type": "stream",
     "text": [
      "[Parallel(n_jobs=1)]: Done 100 out of 100 | elapsed:    0.3s finished\n",
      "[Parallel(n_jobs=1)]: Done 100 out of 100 | elapsed:    0.2s finished\n"
     ]
    },
    {
     "name": "stdout",
     "output_type": "stream",
     "text": [
      "Elapsed: 1.75 minutes ---\n",
      "--- Fitting For Fold #5 / 5 ---\n"
     ]
    },
    {
     "name": "stderr",
     "output_type": "stream",
     "text": [
      "[Parallel(n_jobs=1)]: Done 100 out of 100 | elapsed:    7.7s finished\n"
     ]
    },
    {
     "name": "stdout",
     "output_type": "stream",
     "text": [
      "Classifier:ExtraTreesRegressor(bootstrap=False, criterion='mse', max_depth=None,\n",
      "          max_features='auto', max_leaf_nodes=None,\n",
      "          min_impurity_split=1e-07, min_samples_leaf=1,\n",
      "          min_samples_split=2, min_weight_fraction_leaf=0.0,\n",
      "          n_estimators=100, n_jobs=1, oob_score=False, random_state=2016,\n",
      "          verbose=1, warm_start=False)\n"
     ]
    },
    {
     "name": "stderr",
     "output_type": "stream",
     "text": [
      "[Parallel(n_jobs=1)]: Done 100 out of 100 | elapsed:    0.3s finished\n",
      "[Parallel(n_jobs=1)]: Done 100 out of 100 | elapsed:    0.3s finished\n",
      "C:\\Users\\KrystalU\\Anaconda2\\lib\\site-packages\\sklearn\\utils\\validation.py:526: DataConversionWarning: A column-vector y was passed when a 1d array was expected. Please change the shape of y to (n_samples, ), for example using ravel().\n",
      "  y = column_or_1d(y, warn=True)\n"
     ]
    },
    {
     "name": "stdout",
     "output_type": "stream",
     "text": [
      "Elapsed: 1.9 minutes ---\n",
      "Elapsed: 1.9 minutes ---\n",
      "Fitting For Base Model #3 / 4 ---\n",
      "--- Fitting For Fold #1 / 5 ---\n",
      "      Iter       Train Loss   Remaining Time \n",
      "         1      595448.6411            1.78s\n",
      "         2      590507.5963            1.91s\n",
      "         3      586326.8227            1.88s\n",
      "         4      582472.2855            1.85s\n",
      "         5      578733.9421            1.86s\n",
      "         6      575864.4396            1.86s\n",
      "         7      573011.4059            1.85s\n",
      "         8      570841.9094            1.79s\n",
      "         9      567908.2926            1.78s\n",
      "        10      566293.3901            1.76s\n",
      "        20      545396.0012            1.51s\n",
      "        30      536634.5816            1.32s\n",
      "        40      530533.6603            1.13s\n",
      "        50      527590.4577            0.93s\n",
      "        60      525759.7072            0.73s\n",
      "        70      524280.0802            0.54s\n",
      "        80      522524.9416            0.36s\n",
      "        90      521368.7207            0.18s\n",
      "       100      520251.1122            0.00s\n",
      "Classifier:GradientBoostingRegressor(alpha=0.9, criterion='friedman_mse', init=None,\n",
      "             learning_rate=0.1, loss='ls', max_depth=3, max_features=None,\n",
      "             max_leaf_nodes=None, min_impurity_split=1e-07,\n",
      "             min_samples_leaf=1, min_samples_split=2,\n",
      "             min_weight_fraction_leaf=0.0, n_estimators=100,\n",
      "             presort='auto', random_state=2016, subsample=1.0, verbose=1,\n",
      "             warm_start=False)\n",
      "Elapsed: 1.93 minutes ---\n",
      "--- Fitting For Fold #2 / 5 ---\n",
      "      Iter       Train Loss   Remaining Time \n",
      "         1      610931.4873            1.78s\n",
      "         2      605840.9240            1.81s\n",
      "         3      601581.3232            2.20s\n",
      "         4      597512.7452            2.09s\n",
      "         5      594495.0334            1.98s\n",
      "         6      591196.8361            1.91s\n",
      "         7      588824.3420            1.86s\n",
      "         8      586333.5338            1.85s\n",
      "         9      583549.3240            1.82s\n",
      "        10      581036.6246            1.81s\n",
      "        20      559394.3901            1.52s\n",
      "        30      549183.5592            1.31s\n",
      "        40      543450.8538            1.11s\n",
      "        50      539569.4541            0.91s\n",
      "        60      537482.3197            0.71s\n",
      "        70      535607.1726            0.53s\n",
      "        80      533791.8301            0.35s\n",
      "        90      532146.4254            0.17s\n",
      "       100      530148.6400            0.00s\n",
      "Classifier:GradientBoostingRegressor(alpha=0.9, criterion='friedman_mse', init=None,\n",
      "             learning_rate=0.1, loss='ls', max_depth=3, max_features=None,\n",
      "             max_leaf_nodes=None, min_impurity_split=1e-07,\n",
      "             min_samples_leaf=1, min_samples_split=2,\n",
      "             min_weight_fraction_leaf=0.0, n_estimators=100,\n",
      "             presort='auto', random_state=2016, subsample=1.0, verbose=1,\n",
      "             warm_start=False)\n",
      "Elapsed: 1.96 minutes ---\n",
      "--- Fitting For Fold #3 / 5 ---\n",
      "      Iter       Train Loss   Remaining Time \n",
      "         1      586022.2131            1.98s\n",
      "         2      580919.8471            1.81s\n",
      "         3      576713.6977            1.78s\n",
      "         4      572752.3567            1.75s\n",
      "         5      569643.4410            1.73s\n",
      "         6      566002.5430            1.71s\n",
      "         7      563660.0550            1.69s\n",
      "         8      560308.3619            1.70s\n",
      "         9      558368.9506            1.67s\n",
      "        10      556513.4732            1.67s\n",
      "        20      538732.0930            1.47s\n",
      "        30      528212.5092            1.31s\n",
      "        40      521996.1330            1.12s\n",
      "        50      519247.6279            0.92s\n",
      "        60      516871.9045            0.72s\n",
      "        70      514707.5491            0.53s\n",
      "        80      513042.2244            0.35s\n",
      "        90      511381.7128            0.17s\n",
      "       100      510081.7602            0.00s\n",
      "Classifier:GradientBoostingRegressor(alpha=0.9, criterion='friedman_mse', init=None,\n",
      "             learning_rate=0.1, loss='ls', max_depth=3, max_features=None,\n",
      "             max_leaf_nodes=None, min_impurity_split=1e-07,\n",
      "             min_samples_leaf=1, min_samples_split=2,\n",
      "             min_weight_fraction_leaf=0.0, n_estimators=100,\n",
      "             presort='auto', random_state=2016, subsample=1.0, verbose=1,\n",
      "             warm_start=False)\n",
      "Elapsed: 1.99 minutes ---\n",
      "--- Fitting For Fold #4 / 5 ---\n",
      "      Iter       Train Loss   Remaining Time \n",
      "         1      572949.8667            1.78s\n",
      "         2      568081.0940            1.72s\n",
      "         3      564086.1662            1.78s\n",
      "         4      560690.3910            1.75s\n",
      "         5      557627.4902            1.73s\n",
      "         6      554373.9093            1.74s\n",
      "         7      551397.3841            1.74s\n",
      "         8      548714.3428            1.71s\n",
      "         9      546976.4859            1.70s\n",
      "        10      544898.1731            1.69s\n",
      "        20      524886.8233            1.52s\n",
      "        30      514319.3992            1.32s\n",
      "        40      509552.7653            1.12s\n",
      "        50      506248.0462            0.92s\n",
      "        60      503470.3794            0.73s\n",
      "        70      501399.5286            0.54s\n",
      "        80      500035.2047            0.36s\n",
      "        90      498411.6856            0.18s\n",
      "       100      497259.3442            0.00s\n",
      "Classifier:GradientBoostingRegressor(alpha=0.9, criterion='friedman_mse', init=None,\n",
      "             learning_rate=0.1, loss='ls', max_depth=3, max_features=None,\n",
      "             max_leaf_nodes=None, min_impurity_split=1e-07,\n",
      "             min_samples_leaf=1, min_samples_split=2,\n",
      "             min_weight_fraction_leaf=0.0, n_estimators=100,\n",
      "             presort='auto', random_state=2016, subsample=1.0, verbose=1,\n",
      "             warm_start=False)\n",
      "Elapsed: 2.02 minutes ---\n",
      "--- Fitting For Fold #5 / 5 ---\n",
      "      Iter       Train Loss   Remaining Time \n",
      "         1      587872.3890            1.98s\n",
      "         2      582853.7819            1.86s\n",
      "         3      577808.4905            1.81s\n",
      "         4      574256.0190            1.80s\n",
      "         5      569800.2238            1.81s\n",
      "         6      567137.3690            1.79s\n",
      "         7      563858.0197            1.75s\n",
      "         8      561874.1837            1.74s\n",
      "         9      559616.9107            1.71s\n",
      "        10      557543.9558            1.69s\n",
      "        20      543907.0326            1.50s\n",
      "        30      535342.7191            1.33s\n",
      "        40      530535.6054            1.14s\n",
      "        50      528094.1450            0.93s\n",
      "        60      526086.6673            0.72s\n",
      "        70      524086.1141            0.54s\n",
      "        80      522371.0375            0.37s\n",
      "        90      521022.4957            0.18s\n",
      "       100      519546.8859            0.00s\n",
      "Classifier:GradientBoostingRegressor(alpha=0.9, criterion='friedman_mse', init=None,\n",
      "             learning_rate=0.1, loss='ls', max_depth=3, max_features=None,\n",
      "             max_leaf_nodes=None, min_impurity_split=1e-07,\n",
      "             min_samples_leaf=1, min_samples_split=2,\n",
      "             min_weight_fraction_leaf=0.0, n_estimators=100,\n",
      "             presort='auto', random_state=2016, subsample=1.0, verbose=1,\n",
      "             warm_start=False)\n",
      "Elapsed: 2.05 minutes ---\n",
      "Elapsed: 2.05 minutes ---\n",
      "Fitting For Base Model #4 / 4 ---\n",
      "--- Fitting For Fold #1 / 5 ---\n",
      "Classifier:XGBRegressor(base_score=0.5, colsample_bylevel=1, colsample_bytree=0.85,\n",
      "       gamma=0, learning_rate=0.1, max_delta_step=0, max_depth=8,\n",
      "       min_child_weight=1, missing=None, n_estimators=200, nthread=-1,\n",
      "       objective='reg:linear', reg_alpha=0, reg_lambda=1,\n",
      "       scale_pos_weight=1, seed=2016, silent=True, subsample=1)\n",
      "Elapsed: 2.09 minutes ---\n",
      "--- Fitting For Fold #2 / 5 ---\n",
      "Classifier:XGBRegressor(base_score=0.5, colsample_bylevel=1, colsample_bytree=0.85,\n",
      "       gamma=0, learning_rate=0.1, max_delta_step=0, max_depth=8,\n",
      "       min_child_weight=1, missing=None, n_estimators=200, nthread=-1,\n",
      "       objective='reg:linear', reg_alpha=0, reg_lambda=1,\n",
      "       scale_pos_weight=1, seed=2016, silent=True, subsample=1)\n",
      "Elapsed: 2.13 minutes ---\n",
      "--- Fitting For Fold #3 / 5 ---\n",
      "Classifier:XGBRegressor(base_score=0.5, colsample_bylevel=1, colsample_bytree=0.85,\n",
      "       gamma=0, learning_rate=0.1, max_delta_step=0, max_depth=8,\n",
      "       min_child_weight=1, missing=None, n_estimators=200, nthread=-1,\n",
      "       objective='reg:linear', reg_alpha=0, reg_lambda=1,\n",
      "       scale_pos_weight=1, seed=2016, silent=True, subsample=1)\n",
      "Elapsed: 2.18 minutes ---\n",
      "--- Fitting For Fold #4 / 5 ---\n",
      "Classifier:XGBRegressor(base_score=0.5, colsample_bylevel=1, colsample_bytree=0.85,\n",
      "       gamma=0, learning_rate=0.1, max_delta_step=0, max_depth=8,\n",
      "       min_child_weight=1, missing=None, n_estimators=200, nthread=-1,\n",
      "       objective='reg:linear', reg_alpha=0, reg_lambda=1,\n",
      "       scale_pos_weight=1, seed=2016, silent=True, subsample=1)\n",
      "Elapsed: 2.21 minutes ---\n",
      "--- Fitting For Fold #5 / 5 ---\n",
      "Classifier:XGBRegressor(base_score=0.5, colsample_bylevel=1, colsample_bytree=0.85,\n",
      "       gamma=0, learning_rate=0.1, max_delta_step=0, max_depth=8,\n",
      "       min_child_weight=1, missing=None, n_estimators=200, nthread=-1,\n",
      "       objective='reg:linear', reg_alpha=0, reg_lambda=1,\n",
      "       scale_pos_weight=1, seed=2016, silent=True, subsample=1)\n",
      "Elapsed: 2.25 minutes ---\n",
      "Elapsed: 2.25 minutes ---\n",
      "--- Base Models Trained: 2.25 minutes ---\n",
      "Fitting 5 folds for each of 18 candidates, totalling 90 fits\n"
     ]
    },
    {
     "name": "stderr",
     "output_type": "stream",
     "text": [
      "[Parallel(n_jobs=3)]: Done   1 tasks      | elapsed:    2.2s\n",
      "[Parallel(n_jobs=3)]: Done   2 tasks      | elapsed:    2.2s\n",
      "[Parallel(n_jobs=3)]: Done   3 tasks      | elapsed:    2.3s\n",
      "[Parallel(n_jobs=3)]: Done   4 tasks      | elapsed:    3.4s\n",
      "[Parallel(n_jobs=3)]: Done   5 tasks      | elapsed:    3.4s\n",
      "[Parallel(n_jobs=3)]: Done   6 tasks      | elapsed:    4.1s\n",
      "[Parallel(n_jobs=3)]: Done   7 tasks      | elapsed:    5.1s\n",
      "[Parallel(n_jobs=3)]: Done   8 tasks      | elapsed:    5.1s\n",
      "[Parallel(n_jobs=3)]: Done   9 tasks      | elapsed:    5.9s\n",
      "[Parallel(n_jobs=3)]: Done  10 tasks      | elapsed:    7.0s\n",
      "[Parallel(n_jobs=3)]: Done  11 tasks      | elapsed:    7.3s\n",
      "[Parallel(n_jobs=3)]: Done  12 tasks      | elapsed:    8.2s\n",
      "[Parallel(n_jobs=3)]: Done  13 tasks      | elapsed:    9.4s\n",
      "[Parallel(n_jobs=3)]: Done  14 tasks      | elapsed:    9.7s\n",
      "[Parallel(n_jobs=3)]: Done  15 tasks      | elapsed:   10.5s\n",
      "[Parallel(n_jobs=3)]: Done  16 tasks      | elapsed:   11.8s\n",
      "[Parallel(n_jobs=3)]: Done  17 tasks      | elapsed:   12.0s\n",
      "[Parallel(n_jobs=3)]: Done  18 tasks      | elapsed:   12.8s\n",
      "[Parallel(n_jobs=3)]: Done  19 tasks      | elapsed:   14.2s\n",
      "[Parallel(n_jobs=3)]: Done  20 tasks      | elapsed:   14.3s\n",
      "[Parallel(n_jobs=3)]: Done  21 tasks      | elapsed:   16.2s\n",
      "[Parallel(n_jobs=3)]: Done  22 tasks      | elapsed:   17.4s\n",
      "[Parallel(n_jobs=3)]: Done  23 tasks      | elapsed:   17.6s\n",
      "[Parallel(n_jobs=3)]: Done  24 tasks      | elapsed:   19.6s\n",
      "[Parallel(n_jobs=3)]: Done  25 tasks      | elapsed:   21.1s\n",
      "[Parallel(n_jobs=3)]: Done  26 tasks      | elapsed:   22.4s\n",
      "[Parallel(n_jobs=3)]: Done  27 tasks      | elapsed:   24.6s\n",
      "[Parallel(n_jobs=3)]: Done  28 tasks      | elapsed:   25.8s\n",
      "[Parallel(n_jobs=3)]: Done  29 tasks      | elapsed:   27.0s\n",
      "[Parallel(n_jobs=3)]: Done  30 tasks      | elapsed:   27.1s\n",
      "[Parallel(n_jobs=3)]: Done  31 tasks      | elapsed:   28.4s\n",
      "[Parallel(n_jobs=3)]: Done  32 tasks      | elapsed:   28.4s\n",
      "[Parallel(n_jobs=3)]: Done  33 tasks      | elapsed:   29.4s\n",
      "[Parallel(n_jobs=3)]: Done  34 tasks      | elapsed:   29.8s\n",
      "[Parallel(n_jobs=3)]: Done  35 tasks      | elapsed:   29.8s\n",
      "[Parallel(n_jobs=3)]: Done  36 tasks      | elapsed:   31.6s\n",
      "[Parallel(n_jobs=3)]: Done  37 tasks      | elapsed:   31.9s\n",
      "[Parallel(n_jobs=3)]: Done  38 tasks      | elapsed:   32.0s\n",
      "[Parallel(n_jobs=3)]: Done  39 tasks      | elapsed:   33.7s\n",
      "[Parallel(n_jobs=3)]: Done  40 tasks      | elapsed:   34.2s\n",
      "[Parallel(n_jobs=3)]: Done  41 tasks      | elapsed:   34.5s\n",
      "[Parallel(n_jobs=3)]: Done  42 tasks      | elapsed:   36.4s\n",
      "[Parallel(n_jobs=3)]: Done  43 tasks      | elapsed:   36.9s\n",
      "[Parallel(n_jobs=3)]: Done  44 tasks      | elapsed:   37.3s\n",
      "[Parallel(n_jobs=3)]: Done  45 tasks      | elapsed:   39.2s\n",
      "[Parallel(n_jobs=3)]: Done  46 tasks      | elapsed:   40.0s\n",
      "[Parallel(n_jobs=3)]: Done  47 tasks      | elapsed:   40.3s\n",
      "[Parallel(n_jobs=3)]: Done  48 tasks      | elapsed:   42.3s\n",
      "[Parallel(n_jobs=3)]: Done  49 tasks      | elapsed:   42.9s\n",
      "[Parallel(n_jobs=3)]: Done  50 tasks      | elapsed:   43.3s\n",
      "[Parallel(n_jobs=3)]: Done  51 tasks      | elapsed:   46.6s\n",
      "[Parallel(n_jobs=3)]: Done  52 tasks      | elapsed:   47.2s\n",
      "[Parallel(n_jobs=3)]: Done  53 tasks      | elapsed:   47.5s\n",
      "[Parallel(n_jobs=3)]: Done  54 tasks      | elapsed:   50.6s\n",
      "[Parallel(n_jobs=3)]: Done  55 tasks      | elapsed:   51.2s\n",
      "[Parallel(n_jobs=3)]: Done  56 tasks      | elapsed:   52.8s\n",
      "[Parallel(n_jobs=3)]: Done  57 tasks      | elapsed:   55.9s\n",
      "[Parallel(n_jobs=3)]: Done  58 tasks      | elapsed:   56.4s\n",
      "[Parallel(n_jobs=3)]: Done  59 tasks      | elapsed:   57.7s\n",
      "[Parallel(n_jobs=3)]: Done  60 tasks      | elapsed:   57.9s\n",
      "[Parallel(n_jobs=3)]: Done  61 tasks      | elapsed:   59.0s\n",
      "[Parallel(n_jobs=3)]: Done  62 tasks      | elapsed:   59.2s\n",
      "[Parallel(n_jobs=3)]: Done  63 tasks      | elapsed:  1.0min\n",
      "[Parallel(n_jobs=3)]: Done  64 tasks      | elapsed:  1.0min\n",
      "[Parallel(n_jobs=3)]: Done  65 tasks      | elapsed:  1.0min\n",
      "[Parallel(n_jobs=3)]: Done  66 tasks      | elapsed:  1.0min\n",
      "[Parallel(n_jobs=3)]: Done  67 tasks      | elapsed:  1.0min\n",
      "[Parallel(n_jobs=3)]: Done  68 tasks      | elapsed:  1.1min\n",
      "[Parallel(n_jobs=3)]: Done  69 tasks      | elapsed:  1.1min\n",
      "[Parallel(n_jobs=3)]: Done  70 tasks      | elapsed:  1.1min\n",
      "[Parallel(n_jobs=3)]: Done  71 tasks      | elapsed:  1.1min\n",
      "[Parallel(n_jobs=3)]: Done  72 tasks      | elapsed:  1.1min\n",
      "[Parallel(n_jobs=3)]: Done  73 tasks      | elapsed:  1.1min\n",
      "[Parallel(n_jobs=3)]: Done  74 tasks      | elapsed:  1.1min\n",
      "[Parallel(n_jobs=3)]: Done  75 tasks      | elapsed:  1.2min\n",
      "[Parallel(n_jobs=3)]: Done  76 tasks      | elapsed:  1.2min\n",
      "[Parallel(n_jobs=3)]: Done  77 tasks      | elapsed:  1.2min\n",
      "[Parallel(n_jobs=3)]: Done  78 tasks      | elapsed:  1.2min\n",
      "[Parallel(n_jobs=3)]: Done  79 tasks      | elapsed:  1.2min\n",
      "[Parallel(n_jobs=3)]: Done  80 tasks      | elapsed:  1.2min\n",
      "[Parallel(n_jobs=3)]: Done  81 tasks      | elapsed:  1.3min\n",
      "[Parallel(n_jobs=3)]: Done  82 tasks      | elapsed:  1.3min\n",
      "[Parallel(n_jobs=3)]: Done  83 tasks      | elapsed:  1.3min\n",
      "[Parallel(n_jobs=3)]: Done  84 tasks      | elapsed:  1.3min\n",
      "[Parallel(n_jobs=3)]: Done  85 tasks      | elapsed:  1.3min\n",
      "[Parallel(n_jobs=3)]: Done  90 out of  90 | elapsed:  1.5min remaining:    0.0s\n",
      "[Parallel(n_jobs=3)]: Done  90 out of  90 | elapsed:  1.5min finished\n"
     ]
    },
    {
     "name": "stdout",
     "output_type": "stream",
     "text": [
      "      Iter       Train Loss   Remaining Time \n",
      "         1      590166.0007            2.38s\n",
      "         2      584158.4782            2.40s\n",
      "         3      578707.2802            2.43s\n",
      "         4      573761.8735            2.40s\n",
      "         5      569070.4266            2.38s\n",
      "         6      564963.8683            2.35s\n",
      "         7      561234.3603            2.35s\n",
      "         8      557867.7231            2.32s\n",
      "         9      554685.5147            2.32s\n",
      "        10      551849.6224            2.26s\n",
      "        20      533440.0147            1.94s\n",
      "        30      526040.5991            1.67s\n",
      "        40      522687.3881            1.42s\n",
      "        50      520692.0794            1.17s\n",
      "        60      517794.0710            0.93s\n",
      "        70      515877.5907            0.69s\n",
      "        80      514862.6974            0.45s\n",
      "        90      513968.8493            0.23s\n",
      "       100      512826.3391            0.00s\n",
      "Param grid:\n",
      "{'n_estimators': [50, 80, 90, 100, 150, 200], 'learning_rate': [0.1, 0.05, 0.2]}\n",
      "Best Params:\n",
      "{'n_estimators': 100, 'learning_rate': 0.05}\n",
      "Best CV Score:\n",
      "447.361395162\n",
      "Best estimator:\n",
      "GradientBoostingRegressor(alpha=0.9, criterion='friedman_mse', init=None,\n",
      "             learning_rate=0.05, loss='ls', max_depth=3, max_features=None,\n",
      "             max_leaf_nodes=None, min_impurity_split=1e-07,\n",
      "             min_samples_leaf=1, min_samples_split=2,\n",
      "             min_weight_fraction_leaf=0.0, n_estimators=100,\n",
      "             presort='auto', random_state=2016, subsample=1.0, verbose=1,\n",
      "             warm_start=False)\n",
      "to determine local CV score of #28\n",
      "--- Stacker Trained: 3.8 minutes ---\n"
     ]
    }
   ],
   "source": [
    "start_time = time.time()\n",
    "y_pred = ensemble.fit_predict(X=X_train, y=y_train, T=X_test) "
   ]
  },
  {
   "cell_type": "code",
   "execution_count": 82,
   "metadata": {
    "collapsed": false
   },
   "outputs": [
    {
     "data": {
      "text/plain": [
       "809.66166793467005"
      ]
     },
     "execution_count": 82,
     "metadata": {},
     "output_type": "execute_result"
    }
   ],
   "source": [
    "mae(y_pred,y_test)"
   ]
  },
  {
   "cell_type": "code",
   "execution_count": 81,
   "metadata": {
    "collapsed": false
   },
   "outputs": [
    {
     "data": {
      "text/plain": [
       "[<matplotlib.lines.Line2D at 0x16f4fba8>]"
      ]
     },
     "execution_count": 81,
     "metadata": {},
     "output_type": "execute_result"
    },
    {
     "data": {
      "image/png": "[encoded data removed]",
      "text/plain": [
       "<matplotlib.figure.Figure at 0x1a017128>"
      ]
     },
     "metadata": {},
     "output_type": "display_data"
    }
   ],
   "source": [
    "plt.plot(y_pred,'*')"
   ]
  },
  {
   "cell_type": "code",
   "execution_count": 83,
   "metadata": {
    "collapsed": false
   },
   "outputs": [
    {
     "data": {
      "text/plain": [
       "[<matplotlib.lines.Line2D at 0x18d3add8>]"
      ]
     },
     "execution_count": 83,
     "metadata": {},
     "output_type": "execute_result"
    },
    {
     "data": {
      "image/png": "[encoded data removed]",
      "text/plain": [
       "<matplotlib.figure.Figure at 0x19ac80f0>"
      ]
     },
     "metadata": {},
     "output_type": "display_data"
    }
   ],
   "source": [
    "plt.plot(y_test,'*')"
   ]
  },
  {
   "cell_type": "code",
   "execution_count": 86,
   "metadata": {
    "collapsed": false
   },
   "outputs": [
    {
     "data": {
      "text/plain": [
       "array([ 1420.05077147,  1503.93791547,  1060.72430318,   855.89017275,\n",
       "        1426.4608481 ,  1429.13201379,  1504.23911161,  1647.92160332,\n",
       "        1237.55681193,  1417.23661323])"
      ]
     },
     "execution_count": 86,
     "metadata": {},
     "output_type": "execute_result"
    }
   ],
   "source": [
    "y_pred[:10]"
   ]
  },
  {
   "cell_type": "code",
   "execution_count": 87,
   "metadata": {
    "collapsed": false
   },
   "outputs": [
    {
     "data": {
      "text/html": [
       "<div>\n",
       "<table border=\"1\" class=\"dataframe\">\n",
       "  <thead>\n",
       "    <tr style=\"text-align: right;\">\n",
       "      <th></th>\n",
       "      <th>kwh</th>\n",
       "    </tr>\n",
       "  </thead>\n",
       "  <tbody>\n",
       "    <tr>\n",
       "      <th>27995</th>\n",
       "      <td>1131.0</td>\n",
       "    </tr>\n",
       "    <tr>\n",
       "      <th>63592</th>\n",
       "      <td>236.0</td>\n",
       "    </tr>\n",
       "    <tr>\n",
       "      <th>31343</th>\n",
       "      <td>1096.0</td>\n",
       "    </tr>\n",
       "    <tr>\n",
       "      <th>22266</th>\n",
       "      <td>550.0</td>\n",
       "    </tr>\n",
       "    <tr>\n",
       "      <th>33144</th>\n",
       "      <td>740.0</td>\n",
       "    </tr>\n",
       "    <tr>\n",
       "      <th>3778</th>\n",
       "      <td>252.0</td>\n",
       "    </tr>\n",
       "    <tr>\n",
       "      <th>49243</th>\n",
       "      <td>214.0</td>\n",
       "    </tr>\n",
       "    <tr>\n",
       "      <th>46371</th>\n",
       "      <td>357.0</td>\n",
       "    </tr>\n",
       "    <tr>\n",
       "      <th>13894</th>\n",
       "      <td>3522.0</td>\n",
       "    </tr>\n",
       "    <tr>\n",
       "      <th>15900</th>\n",
       "      <td>393.0</td>\n",
       "    </tr>\n",
       "  </tbody>\n",
       "</table>\n",
       "</div>"
      ],
      "text/plain": [
       "          kwh\n",
       "27995  1131.0\n",
       "63592   236.0\n",
       "31343  1096.0\n",
       "22266   550.0\n",
       "33144   740.0\n",
       "3778    252.0\n",
       "49243   214.0\n",
       "46371   357.0\n",
       "13894  3522.0\n",
       "15900   393.0"
      ]
     },
     "execution_count": 87,
     "metadata": {},
     "output_type": "execute_result"
    }
   ],
   "source": [
    "y_test[:10]"
   ]
  },
  {
   "cell_type": "code",
   "execution_count": null,
   "metadata": {
    "collapsed": true
   },
   "outputs": [],
   "source": []
  }
 ],
 "metadata": {
  "kernelspec": {
   "display_name": "Python [default]",
   "language": "python",
   "name": "python2"
  },
  "language_info": {
   "codemirror_mode": {
    "name": "ipython",
    "version": 2
   },
   "file_extension": ".py",
   "mimetype": "text/x-python",
   "name": "python",
   "nbconvert_exporter": "python",
   "pygments_lexer": "ipython2",
   "version": "2.7.13"
  }
 },
 "nbformat": 4,
 "nbformat_minor": 2
}
